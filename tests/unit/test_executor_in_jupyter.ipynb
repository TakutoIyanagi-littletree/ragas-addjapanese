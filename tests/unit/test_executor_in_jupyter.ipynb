{
 "cells": [
  {
   "cell_type": "code",
   "execution_count": 1,
   "metadata": {},
   "outputs": [],
   "source": [
    "%load_ext autoreload\n",
    "%autoreload 2"
   ]
  },
  {
   "cell_type": "code",
   "execution_count": 2,
   "metadata": {},
   "outputs": [
    {
     "name": "stderr",
     "output_type": "stream",
     "text": [
      "Exception in thread Thread-4:\n",
      "Traceback (most recent call last):\n",
      "  File \"/home/jjmachan/.pyenv/versions/3.10.12/lib/python3.10/threading.py\", line 1016, in _bootstrap_inner\n",
      "    self.run()\n",
      "  File \"/home/jjmachan/jjmachan/explodinggradients/ragas/src/ragas/executor.py\", line 89, in run\n",
      "    results = self.loop.run_until_complete(self._aresults())\n",
      "  File \"/home/jjmachan/.pyenv/versions/3.10.12/lib/python3.10/asyncio/base_events.py\", line 625, in run_until_complete\n",
      "    self._check_running()\n",
      "  File \"/home/jjmachan/.pyenv/versions/3.10.12/lib/python3.10/asyncio/base_events.py\", line 584, in _check_running\n",
      "    raise RuntimeError('This event loop is already running')\n",
      "RuntimeError: This event loop is already running\n"
     ]
    },
    {
     "name": "stdout",
     "output_type": "stream",
     "text": [
      "Using existing event loop\n"
     ]
    },
    {
     "name": "stderr",
     "output_type": "stream",
     "text": [
      "/home/jjmachan/.pyenv/versions/3.10.12/lib/python3.10/threading.py:1018: RuntimeWarning: coroutine 'Runner._aresults' was never awaited\n",
      "  self._invoke_excepthook(self)\n",
      "RuntimeWarning: Enable tracemalloc to get the object allocation traceback\n",
      "/tmp/ipykernel_592372/2110173525.py:9: RuntimeWarning: coroutine 'as_completed.<locals>.sema_coro' was never awaited\n",
      "  exec.results()\n",
      "RuntimeWarning: Enable tracemalloc to get the object allocation traceback\n"
     ]
    },
    {
     "data": {
      "text/plain": [
       "[]"
      ]
     },
     "execution_count": 2,
     "metadata": {},
     "output_type": "execute_result"
    }
   ],
   "source": [
    "from ragas.executor import Executor\n",
    "from asyncio import sleep\n",
    "\n",
    "exec = Executor()\n",
    "for i in range(10):\n",
    "    exec.submit(sleep, i)\n",
    "    \n",
    "\n",
    "exec.results()"
   ]
  },
  {
   "cell_type": "code",
   "execution_count": null,
   "metadata": {},
   "outputs": [],
   "source": []
  }
 ],
 "metadata": {
  "kernelspec": {
   "display_name": "ragas",
   "language": "python",
   "name": "python3"
  },
  "language_info": {
   "codemirror_mode": {
    "name": "ipython",
    "version": 3
   },
   "file_extension": ".py",
   "mimetype": "text/x-python",
   "name": "python",
   "nbconvert_exporter": "python",
   "pygments_lexer": "ipython3",
   "version": "3.10.12"
  }
 },
 "nbformat": 4,
 "nbformat_minor": 2
}
