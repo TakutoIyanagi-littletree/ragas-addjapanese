{
 "cells": [
  {
   "cell_type": "code",
   "execution_count": 4,
   "id": "58a6b98c",
   "metadata": {},
   "outputs": [],
   "source": [
    "import json\n",
    "from IPython.display import display, Markdown"
   ]
  },
  {
   "cell_type": "code",
   "execution_count": 13,
   "id": "42ceb22c",
   "metadata": {},
   "outputs": [],
   "source": [
    "with open(\"./nli_check.json\") as f:\n",
    "    d = json.load(f)"
   ]
  },
  {
   "cell_type": "code",
   "execution_count": 6,
   "id": "2a96e335",
   "metadata": {},
   "outputs": [
    {
     "data": {
      "text/plain": [
       "['context', 'answer', 'statements', 'verification']"
      ]
     },
     "execution_count": 6,
     "metadata": {},
     "output_type": "execute_result"
    }
   ],
   "source": [
    "keys = list(d[0].keys())\n",
    "keys"
   ]
  },
  {
   "cell_type": "code",
   "execution_count": 56,
   "id": "fe6dda58",
   "metadata": {},
   "outputs": [],
   "source": [
    "i = 3"
   ]
  },
  {
   "cell_type": "code",
   "execution_count": 57,
   "id": "935cb736",
   "metadata": {
    "scrolled": false
   },
   "outputs": [
    {
     "data": {
      "text/markdown": [
       "### Context:\n",
       "Discount points, also called mortgage points or simply points, are a form of pre-paid interest available in the United States when arranging a mortgage. One point equals one percent of the loan amount. By charging a borrower points, a lender effectively increases the yield on the loan above the amount of the stated interest rate.  Borrowers can offer to pay a lender points as a method to reduce the interest rate on the loan, thus obtaining a lower monthly payment in exchange for this up-front payment. For each point purchased, the loan rate is typically reduced by anywhere from 1/8% (0.125%) to 1/4% (0.25%).Selling the property or refinancing prior to this break-even point will result in a net financial loss for the buyer while keeping the loan for longer than this break-even point will result in a net financial savings for the buyer. Accordingly, if the intention is to buy and sell the property or refinance, paying points will cost more than just paying the higher interest rate.Points may also be purchased to reduce the monthly payment for the purpose of qualifying for a loan.  Loan qualification based on monthly income versus the monthly loan payment may sometimes only be achievable by reducing the monthly payment through the purchasing of points to buy down the interest rate, thereby reducing the monthly loan payment.\n",
       "Discount points may be different from origination fee, mortgage arrangement fee or broker fee. Discount points are always used to buy down the interest rates, while origination fees sometimes are fees the lender charges for the loan or sometimes just another name for buying down the interest rate. Origination fee and discount points are both items listed under lender-charges on the HUD-1 Settlement Statement.\n",
       "The difference in savings over the life of the loan can make paying points a benefit to the borrower. Any significant changes in fees should be re-disclosed in the final good faith estimate (GFE).\n",
       "Also directly related to points is the concept of the 'no closing cost loan', in which the consumer accepts a higher interest rate in return for the lender paying the loan's closing costs up front.  In some cases a purchaser can negotiate with the seller to get them to pay seller's points which can be used to pay mortgage points.\n",
       "\n",
       "\n",
       "== References ==\n",
       "\n",
       "\n",
       "== External links ==\n",
       "irs.gov/publications/p936 – IRS Form 936 defines a point for the purpose of deducting mortgage interest for U.S. income taxes\n",
       "\n",
       "legal action taken by Captain Jonathan Rowles. Both Captain Rowles and his spouse Julia accused Chase of violating the law and harassing the couple for nonpayment. An official stated that the situation was \"grim\" and Chase initially stated it would be refunding up to $2,000,000 to those who were overcharged, and that families improperly foreclosed on have gotten or will get their homes back. Chase has acknowledged that as many as 6,000 active duty military personnel were illegally overcharged, and more than 18 military families homes were wrongly foreclosed. In April, Chase agreed to pay a total of $27 million in compensation to settle the class-action suit. At the company's 2011 shareholders' meeting, Dimon apologized for the error and said the bank would forgive the loans of any active-duty personnel whose property had been foreclosed. In June 2011, lending chief Dave Lowman was forced out over the scandal.On August 25, 2011, JPMorgan Chase agreed to settle fines with regard to violations of the sanctions under the Office of Foreign Assets Control (OFAC) regime. The U.S. Department of Treasury released the following civil penalties information under the heading: \"JPMorgan Chase Bank N.A. Settles Apparent Violations of Multiple Sanctions Programs\":\n",
       "JPMorgan Chase Bank, N.A, New York, NY (\"JPMC\") has agreed to remit $88,300,000 to settle a potential civil liability for apparent violations of the Cuban Assets Control Regulations (\"CACR\"), 31 C.F.R. part 515; the Weapons of Mass Destruction Proliferators Sanctions Regulations (\"WMDPSR\"), 31 C.F.R. part 544; Executive Order 13382, \"Blocking Property of Weapons of Mass Destruction Proliferators and Their Supporters;\" the Global Terrorism Sanctions Regulations (\"GTSR\"), 31 C.F.R. part 594; the Iranian Transactions Regulations (\"ITR\"), 31 C.F.R. part 560; the Sudanese Sanctions Regulations (\"SSR\"), 31 C.F.R. part 538; the Former Liberian Regime of Charles Taylor Sanctions Regulations (\"FLRCTSR\"), 31 C.F.R. part 593; and the Reporting, Procedures, and Penalties Regulations (\"RPPR\"), 31 C.F.R. part 501, that occurred between December 15, 2005, and March 1, 2011.\n",
       "\n",
       "\n",
       "==== 2012 ====\n",
       "On February 9, 2012, it was announced that the five largest mortgage servicers (Ally/GMAC, Bank of America, Citi, JPMorgan Chase, and Wells Fargo) agreed to a historic settlement with the federal government and 49 states. The settlement, known as the National Mortgage Settlement (NMS), required the servicers to provide about $26 billion in relief to distressed homeowners and in direct payments to the states and federal government. This settlement amount makes the NMS the second largest civil settlement in U.S. history, only trailing the Tobacco Master Settlement Agreement. The five banks were also required to comply with 305 new mortgage servicing standards. Oklahoma held out and agreed to settle with the banks separately.\n",
       "In 2012, JPMorgan Chase & Co was charged for misrepresenting and failing to disclose that the CIO had engaged in speculative trades that exposed JPMorgan to significant losses.\n",
       "\n",
       "\n",
       "==== 2013 ====\n",
       "In July 2013, The Federal Energy Regulatory Commission (FERC) approved a stipulation and consent agreement under which JPMorgan Ventures Energy Corporation (JPMVEC), a subsidiary of JPMorgan Chase & Co., agreed to pay $410 million in penalties and disgorgement to ratepayers for allegations of market manipulation stemming from the company's bidding activities in electricity markets in California and the Midwest from September 2010 through November 2012. JPMVEC agreed to pay a civil penalty of $285 million to the U.S. Treasury and to disgorge $125 million in unjust profits. JPMVEC admitted the facts set forth in the agreement, but neither admitted nor denied the violations. The case stemmed from multiple referrals to FERC from market monitors in 2011 and 2012 regarding JPMVEC's bidding practices. FERC investigators determined\n",
       "\n",
       "### Answer: \n",
       "\n",
       "Points on a mortgage are a lump sum payment made to the lender at the closing of the loan in order to secure an interest rate lower than the current market rate. Each point typically has a value of 1% of the loan amount and is effectively prepaid interest that discourages the borrower from refinancing or selling the property prior to the full repayment of the loan. It gives the lender additional compensation for providing the borrower a discounted rate.\n",
       "\n",
       "Points can be paid by either the lender or the borrower, or sometimes by both. When points are paid by the borrower, they are generally tax-deductible as the IRS sees them as prepaid interest. Although points lower the interest rate of the loan, they cost the borrower a significant amount of money up-front.\n",
       "\n",
       "In some cases, mortgage lenders may offer discount points in order to lower the monthly payments for borrowers. This may be appealing to borrowers who have cash on hand and want to reduce their interest rate. In addition, discount points\n",
       "\n",
       "### Statements:\n",
       "1.Points on a mortgage are a lump sum payment made to the lender at the closing of the loan.\n",
       "2.Each point typically has a value of 1% of the loan amount.\n",
       "3.Points can be paid by either the lender or the borrower, or sometimes by both.\n",
       "4.When points are paid by the borrower, they are generally tax-deductible.\n",
       "5.Mortgage lenders may offer discount points in order to lower the monthly payments for borrowers.\n",
       "\n",
       "### Verification:\n",
       "1. points on a mortgage are a lump sum payment made to the lender at the closing of the loan.\n",
       "explanation: yes, this statement can be deduced from the given context. the context states that discount points are a form of pre-paid interest available in the united states when arranging a mortgage. so answer is yes.\n",
       "2. each point typically has a value of 1% of the loan amount.\n",
       "explanation: yes, this statement can be deduced from the given context. the context states that one point equals one percent of the loan amount. so answer is yes.\n",
       "3. points can be paid by either the lender or the borrower, or sometimes by both.\n",
       "explanation: yes, this statement can be deduced from the given context. the context states that borrowers can offer to pay a lender points as a method to reduce the interest rate on the loan, and that in some cases a purchaser can negotiate with the seller to get them to pay seller's points which can be used to pay mortgage points. so answer is yes.\n",
       "4. when points are paid by the borrower, they are generally tax-deductible.\n",
       "explanation: yes, this statement can be deduced from the given context. the context states that irs form 936 defines a point for the purpose of deducting mortgage interest for u.s. income taxes. so answer is yes.\n",
       "5. mortgage lenders may offer discount points in order to lower the monthly payments for borrowers.\n",
       "explanation: yes, this statement can be deduced from the given context. the context states that discount points may be used to buy down the interest rates, thereby reducing the monthly loan payment. so answer is yes.\n",
       "final answer: yes. yes. yes. yes. yes.\n"
      ],
      "text/plain": [
       "<IPython.core.display.Markdown object>"
      ]
     },
     "metadata": {},
     "output_type": "display_data"
    }
   ],
   "source": [
    "item = d[i]\n",
    "c, a, s, v = [item[k] for k in keys]\n",
    "\n",
    "text = \"\"\"\\\n",
    "### Context:\n",
    "{context}\n",
    "\n",
    "### Answer: \n",
    "{answer}\n",
    "\n",
    "### Statements:\n",
    "{statements}\n",
    "\n",
    "### Verification:\n",
    "{verification}\n",
    "\"\"\"\n",
    "\n",
    "display(Markdown(text.format(**item)))"
   ]
  },
  {
   "cell_type": "code",
   "execution_count": null,
   "id": "b0dcd7a4",
   "metadata": {},
   "outputs": [],
   "source": []
  }
 ],
 "metadata": {
  "kernelspec": {
   "display_name": "Python 3 (ipykernel)",
   "language": "python",
   "name": "python3"
  },
  "language_info": {
   "codemirror_mode": {
    "name": "ipython",
    "version": 3
   },
   "file_extension": ".py",
   "mimetype": "text/x-python",
   "name": "python",
   "nbconvert_exporter": "python",
   "pygments_lexer": "ipython3",
   "version": "3.10.11"
  }
 },
 "nbformat": 4,
 "nbformat_minor": 5
}
