{
 "cells": [
  {
   "cell_type": "code",
   "execution_count": 1,
   "id": "095d860c",
   "metadata": {},
   "outputs": [],
   "source": [
    "# NOTE: This is ONLY necessary in jupyter notebook.\n",
    "# Details: Jupyter runs an event-loop behind the scenes. \n",
    "#          This results in nested event-loops when we start an event-loop to make async queries.\n",
    "#          This is normally not allowed, we use nest_asyncio to allow it for convenience.  \n",
    "import nest_asyncio\n",
    "nest_asyncio.apply()"
   ]
  },
  {
   "cell_type": "code",
   "execution_count": 2,
   "id": "a17a15be",
   "metadata": {},
   "outputs": [],
   "source": [
    "# only run this if your have an editable install\n",
    "%load_ext autoreload\n",
    "%autoreload 2"
   ]
  },
  {
   "cell_type": "markdown",
   "id": "1cd59bf6",
   "metadata": {},
   "source": [
    "## Clean dataset\n",
    "\n",
    "steps\n",
    "1. Remove failed_wikis\n",
    "2. group by question_id to get unqiue questions and for each question_id select a correct and incorrect answer to be used"
   ]
  },
  {
   "cell_type": "code",
   "execution_count": 83,
   "id": "7e537b89",
   "metadata": {},
   "outputs": [],
   "source": [
    "from datasets import load_dataset, concatenate_datasets, Dataset\n",
    "import pandas as pd\n",
    "import time\n",
    "import asyncio\n",
    "import os"
   ]
  },
  {
   "cell_type": "code",
   "execution_count": 4,
   "id": "cc43a078",
   "metadata": {},
   "outputs": [
    {
     "name": "stderr",
     "output_type": "stream",
     "text": [
      "Found cached dataset wiki_qa (/home/jjmachan/.cache/huggingface/datasets/wiki_qa/default/0.1.0/d2d236b5cbdc6fbdab45d168b4d678a002e06ddea3525733a24558150585951c)\n"
     ]
    },
    {
     "data": {
      "text/plain": [
       "Dataset({\n",
       "    features: ['question_id', 'question', 'document_title', 'answer', 'label'],\n",
       "    num_rows: 6165\n",
       "})"
      ]
     },
     "execution_count": 4,
     "metadata": {},
     "output_type": "execute_result"
    }
   ],
   "source": [
    "DATASET_URL = \"wiki_qa\"\n",
    "SPLIT = \"test\"\n",
    "ds = load_dataset(DATASET_URL, split=SPLIT)\n",
    "ds"
   ]
  },
  {
   "cell_type": "code",
   "execution_count": 5,
   "id": "e8b9f0b3",
   "metadata": {},
   "outputs": [
    {
     "data": {
      "text/plain": [
       "16"
      ]
     },
     "execution_count": 5,
     "metadata": {},
     "output_type": "execute_result"
    }
   ],
   "source": [
    "# load failed\n",
    "import json\n",
    "\n",
    "with open('failed_wikis') as f:\n",
    "    failed = json.load(f)\n",
    "    \n",
    "len(failed)"
   ]
  },
  {
   "cell_type": "code",
   "execution_count": 6,
   "id": "8fef74c0",
   "metadata": {},
   "outputs": [
    {
     "name": "stderr",
     "output_type": "stream",
     "text": [
      "Loading cached processed dataset at /home/jjmachan/.cache/huggingface/datasets/wiki_qa/default/0.1.0/d2d236b5cbdc6fbdab45d168b4d678a002e06ddea3525733a24558150585951c/cache-07ce3fbd049c5d55.arrow\n"
     ]
    },
    {
     "data": {
      "text/plain": [
       "(6049, 5)"
      ]
     },
     "execution_count": 6,
     "metadata": {},
     "output_type": "execute_result"
    }
   ],
   "source": [
    "def clean_failed(row):\n",
    "    if row['document_title'] in failed:\n",
    "        return False\n",
    "    return True\n",
    "\n",
    "cleaned_ds1 = ds.filter(clean_failed, batched=False)\n",
    "cleaned_ds1.shape"
   ]
  },
  {
   "cell_type": "code",
   "execution_count": 7,
   "id": "79e8460a",
   "metadata": {},
   "outputs": [
    {
     "data": {
      "text/html": [
       "<div>\n",
       "<style scoped>\n",
       "    .dataframe tbody tr th:only-of-type {\n",
       "        vertical-align: middle;\n",
       "    }\n",
       "\n",
       "    .dataframe tbody tr th {\n",
       "        vertical-align: top;\n",
       "    }\n",
       "\n",
       "    .dataframe thead th {\n",
       "        text-align: right;\n",
       "    }\n",
       "</style>\n",
       "<table border=\"1\" class=\"dataframe\">\n",
       "  <thead>\n",
       "    <tr style=\"text-align: right;\">\n",
       "      <th></th>\n",
       "      <th>question_id</th>\n",
       "      <th>question</th>\n",
       "      <th>document_title</th>\n",
       "      <th>answer</th>\n",
       "      <th>label</th>\n",
       "    </tr>\n",
       "  </thead>\n",
       "  <tbody>\n",
       "    <tr>\n",
       "      <th>0</th>\n",
       "      <td>Q0</td>\n",
       "      <td>HOW AFRICAN AMERICANS WERE IMMIGRATED TO THE US</td>\n",
       "      <td>African immigration to the United States</td>\n",
       "      <td>African immigration to the United States refer...</td>\n",
       "      <td>0</td>\n",
       "    </tr>\n",
       "    <tr>\n",
       "      <th>1</th>\n",
       "      <td>Q0</td>\n",
       "      <td>HOW AFRICAN AMERICANS WERE IMMIGRATED TO THE US</td>\n",
       "      <td>African immigration to the United States</td>\n",
       "      <td>The term African in the scope of this article ...</td>\n",
       "      <td>0</td>\n",
       "    </tr>\n",
       "    <tr>\n",
       "      <th>2</th>\n",
       "      <td>Q0</td>\n",
       "      <td>HOW AFRICAN AMERICANS WERE IMMIGRATED TO THE US</td>\n",
       "      <td>African immigration to the United States</td>\n",
       "      <td>From the Immigration and Nationality Act of 19...</td>\n",
       "      <td>0</td>\n",
       "    </tr>\n",
       "    <tr>\n",
       "      <th>3</th>\n",
       "      <td>Q0</td>\n",
       "      <td>HOW AFRICAN AMERICANS WERE IMMIGRATED TO THE US</td>\n",
       "      <td>African immigration to the United States</td>\n",
       "      <td>African immigrants in the United States come f...</td>\n",
       "      <td>0</td>\n",
       "    </tr>\n",
       "    <tr>\n",
       "      <th>4</th>\n",
       "      <td>Q0</td>\n",
       "      <td>HOW AFRICAN AMERICANS WERE IMMIGRATED TO THE US</td>\n",
       "      <td>African immigration to the United States</td>\n",
       "      <td>They include people from different national, l...</td>\n",
       "      <td>0</td>\n",
       "    </tr>\n",
       "  </tbody>\n",
       "</table>\n",
       "</div>"
      ],
      "text/plain": [
       "  question_id                                         question  \\\n",
       "0          Q0  HOW AFRICAN AMERICANS WERE IMMIGRATED TO THE US   \n",
       "1          Q0  HOW AFRICAN AMERICANS WERE IMMIGRATED TO THE US   \n",
       "2          Q0  HOW AFRICAN AMERICANS WERE IMMIGRATED TO THE US   \n",
       "3          Q0  HOW AFRICAN AMERICANS WERE IMMIGRATED TO THE US   \n",
       "4          Q0  HOW AFRICAN AMERICANS WERE IMMIGRATED TO THE US   \n",
       "\n",
       "                             document_title  \\\n",
       "0  African immigration to the United States   \n",
       "1  African immigration to the United States   \n",
       "2  African immigration to the United States   \n",
       "3  African immigration to the United States   \n",
       "4  African immigration to the United States   \n",
       "\n",
       "                                              answer  label  \n",
       "0  African immigration to the United States refer...      0  \n",
       "1  The term African in the scope of this article ...      0  \n",
       "2  From the Immigration and Nationality Act of 19...      0  \n",
       "3  African immigrants in the United States come f...      0  \n",
       "4  They include people from different national, l...      0  "
      ]
     },
     "execution_count": 7,
     "metadata": {},
     "output_type": "execute_result"
    }
   ],
   "source": [
    "df = cleaned_ds1.to_pandas()\n",
    "df.head()"
   ]
  },
  {
   "cell_type": "code",
   "execution_count": 8,
   "id": "ddf9fb0c",
   "metadata": {},
   "outputs": [
    {
     "data": {
      "text/plain": [
       "617"
      ]
     },
     "execution_count": 8,
     "metadata": {},
     "output_type": "execute_result"
    }
   ],
   "source": [
    "# number of unique question id's\n",
    "len(df.groupby(\"question_id\")[\"question\"])"
   ]
  },
  {
   "cell_type": "code",
   "execution_count": 9,
   "id": "1b0c0d98",
   "metadata": {},
   "outputs": [
    {
     "data": {
      "text/plain": [
       "232"
      ]
     },
     "execution_count": 9,
     "metadata": {},
     "output_type": "execute_result"
    }
   ],
   "source": [
    "# number of unique question id's without correct and incorrect answer\n",
    "def count(df):\n",
    "    has_corr = df.loc[df[\"label\"] == 1][\"answer\"].count() > 0\n",
    "    has_in_corr = df.loc[df[\"label\"] == 0][\"answer\"].count() > 0\n",
    "    return has_corr and has_in_corr\n",
    "\n",
    "df.groupby(\"question_id\").apply(count).sum()"
   ]
  },
  {
   "cell_type": "code",
   "execution_count": 11,
   "id": "d3ec6c3c",
   "metadata": {},
   "outputs": [],
   "source": [
    "def clean(df):\n",
    "    try:\n",
    "        ques = df[\"question\"].sample().iloc[0]\n",
    "        corr = df.loc[df[\"label\"] == 1][\"answer\"].sample().iloc[0]\n",
    "        in_corr = df.loc[df[\"label\"] == 0][\"answer\"].sample().iloc[0]\n",
    "    except ValueError:\n",
    "        return None\n",
    "    return pd.Series(\n",
    "        data=[ques, corr, in_corr], \n",
    "        index=\"question,correct_answer,incorrect_answer\".split(',')\n",
    "    )"
   ]
  },
  {
   "cell_type": "code",
   "execution_count": 12,
   "id": "db3d0123",
   "metadata": {},
   "outputs": [],
   "source": [
    "cleaned_df = df.groupby(\"question_id\").apply(clean).dropna()"
   ]
  },
  {
   "cell_type": "code",
   "execution_count": 13,
   "id": "73083486",
   "metadata": {},
   "outputs": [
    {
     "data": {
      "text/html": [
       "<div>\n",
       "<style scoped>\n",
       "    .dataframe tbody tr th:only-of-type {\n",
       "        vertical-align: middle;\n",
       "    }\n",
       "\n",
       "    .dataframe tbody tr th {\n",
       "        vertical-align: top;\n",
       "    }\n",
       "\n",
       "    .dataframe thead th {\n",
       "        text-align: right;\n",
       "    }\n",
       "</style>\n",
       "<table border=\"1\" class=\"dataframe\">\n",
       "  <thead>\n",
       "    <tr style=\"text-align: right;\">\n",
       "      <th></th>\n",
       "      <th>question</th>\n",
       "      <th>correct_answer</th>\n",
       "      <th>incorrect_answer</th>\n",
       "    </tr>\n",
       "    <tr>\n",
       "      <th>question_id</th>\n",
       "      <th></th>\n",
       "      <th></th>\n",
       "      <th></th>\n",
       "    </tr>\n",
       "  </thead>\n",
       "  <tbody>\n",
       "    <tr>\n",
       "      <th>Q0</th>\n",
       "      <td>HOW AFRICAN AMERICANS WERE IMMIGRATED TO THE US</td>\n",
       "      <td>As such, African immigrants are to be distingu...</td>\n",
       "      <td>From the Immigration and Nationality Act of 19...</td>\n",
       "    </tr>\n",
       "    <tr>\n",
       "      <th>Q1012</th>\n",
       "      <td>what are points on a mortgage</td>\n",
       "      <td>Points, sometimes also called a \"discount poin...</td>\n",
       "      <td>Discount points may be different from originat...</td>\n",
       "    </tr>\n",
       "    <tr>\n",
       "      <th>Q102</th>\n",
       "      <td>how does interlibrary loan work</td>\n",
       "      <td>The user makes a request with their local libr...</td>\n",
       "      <td>The lending library usually sets the due date ...</td>\n",
       "    </tr>\n",
       "    <tr>\n",
       "      <th>Q1027</th>\n",
       "      <td>WHAT IS A FY QUARTER</td>\n",
       "      <td>A fiscal year (or financial year, or sometimes...</td>\n",
       "      <td>Fiscal years vary between businesses and count...</td>\n",
       "    </tr>\n",
       "    <tr>\n",
       "      <th>Q1032</th>\n",
       "      <td>who wrote a rose is a rose is a rose</td>\n",
       "      <td>The sentence \"Rose is a rose is a rose is a ro...</td>\n",
       "      <td>In Stein's view, the sentence expresses the fa...</td>\n",
       "    </tr>\n",
       "  </tbody>\n",
       "</table>\n",
       "</div>"
      ],
      "text/plain": [
       "                                                    question  \\\n",
       "question_id                                                    \n",
       "Q0           HOW AFRICAN AMERICANS WERE IMMIGRATED TO THE US   \n",
       "Q1012                          what are points on a mortgage   \n",
       "Q102                         how does interlibrary loan work   \n",
       "Q1027                                   WHAT IS A FY QUARTER   \n",
       "Q1032                   who wrote a rose is a rose is a rose   \n",
       "\n",
       "                                                correct_answer  \\\n",
       "question_id                                                      \n",
       "Q0           As such, African immigrants are to be distingu...   \n",
       "Q1012        Points, sometimes also called a \"discount poin...   \n",
       "Q102         The user makes a request with their local libr...   \n",
       "Q1027        A fiscal year (or financial year, or sometimes...   \n",
       "Q1032        The sentence \"Rose is a rose is a rose is a ro...   \n",
       "\n",
       "                                              incorrect_answer  \n",
       "question_id                                                     \n",
       "Q0           From the Immigration and Nationality Act of 19...  \n",
       "Q1012        Discount points may be different from originat...  \n",
       "Q102         The lending library usually sets the due date ...  \n",
       "Q1027        Fiscal years vary between businesses and count...  \n",
       "Q1032        In Stein's view, the sentence expresses the fa...  "
      ]
     },
     "execution_count": 13,
     "metadata": {},
     "output_type": "execute_result"
    }
   ],
   "source": [
    "cleaned_df.head()"
   ]
  },
  {
   "cell_type": "code",
   "execution_count": 14,
   "id": "332e9367",
   "metadata": {},
   "outputs": [
    {
     "data": {
      "text/plain": [
       "('how does interlibrary loan work',\n",
       " 'The user makes a request with their local library, which, acting as an intermediary, identifies owners of the desired item, places the request, receives the item, makes it available to the user, and arranges for its return.',\n",
       " 'The lending library usually sets the due date and overdue fees of the material borrowed.')"
      ]
     },
     "execution_count": 14,
     "metadata": {},
     "output_type": "execute_result"
    }
   ],
   "source": [
    "q, c, i = cleaned_df.iloc[2]\n",
    "q, c, i"
   ]
  },
  {
   "cell_type": "markdown",
   "id": "8aae9976",
   "metadata": {},
   "source": [
    "## get generated_answer and context"
   ]
  },
  {
   "cell_type": "code",
   "execution_count": 15,
   "id": "cd170ae4",
   "metadata": {},
   "outputs": [],
   "source": [
    "# load the index\n",
    "from llama_index import StorageContext, load_index_from_storage, ServiceContext\n",
    "\n",
    "# CHANGE SERVICE_CONTEXT HERE!!!\n",
    "openai_sc = ServiceContext.from_defaults()\n",
    "service_context = openai_sc\n",
    "\n",
    "# rebuild storage context\n",
    "storage_context = StorageContext.from_defaults(persist_dir=\"./storage\")\n",
    "\n",
    "# load index\n",
    "index = load_index_from_storage(storage_context)"
   ]
  },
  {
   "cell_type": "code",
   "execution_count": 16,
   "id": "117cbeac",
   "metadata": {},
   "outputs": [
    {
     "name": "stdout",
     "output_type": "stream",
     "text": [
      "<coroutine object BaseQueryEngine.aquery at 0x7f587c97bf40>\n"
     ]
    }
   ],
   "source": [
    "from llama_index import (\n",
    "    GPTVectorStoreIndex,\n",
    "    ResponseSynthesizer,\n",
    ")\n",
    "from llama_index.retrievers import VectorIndexRetriever\n",
    "from llama_index.query_engine import RetrieverQueryEngine\n",
    "from llama_index.indices.postprocessor import SimilarityPostprocessor\n",
    "\n",
    "# configure retriever\n",
    "retriever = VectorIndexRetriever(\n",
    "    index=index, \n",
    "    similarity_top_k=3,\n",
    ")\n",
    "\n",
    "# configure response synthesizer\n",
    "response_synthesizer = ResponseSynthesizer.from_args(\n",
    "    node_postprocessors=[\n",
    "        SimilarityPostprocessor(similarity_cutoff=0.7)\n",
    "    ]\n",
    ")\n",
    "\n",
    "# assemble query engine\n",
    "query_engine = RetrieverQueryEngine(\n",
    "    retriever=retriever,\n",
    "    response_synthesizer=response_synthesizer,\n",
    ")\n",
    "\n",
    "# query\n",
    "response = query_engine.aquery(q)\n",
    "print(response)"
   ]
  },
  {
   "cell_type": "code",
   "execution_count": 49,
   "id": "005d3ed8",
   "metadata": {},
   "outputs": [],
   "source": [
    "from tqdm.asyncio import tqdm_asyncio"
   ]
  },
  {
   "cell_type": "code",
   "execution_count": 147,
   "id": "4a872f3e",
   "metadata": {},
   "outputs": [],
   "source": [
    "async def main():\n",
    "    await tqdm_asyncio.gather(*[query_engine.aquery(i) \n",
    "                           for i in cleaned_df[\"question\"][:4]])"
   ]
  },
  {
   "cell_type": "code",
   "execution_count": 148,
   "id": "3a297ef4",
   "metadata": {},
   "outputs": [
    {
     "name": "stderr",
     "output_type": "stream",
     "text": [
      "100%|████████████████████████████████████████████████████████████| 4/4 [00:56<00:00, 14.14s/it]"
     ]
    },
    {
     "name": "stdout",
     "output_type": "stream",
     "text": [
      "total time 56.57 seconds\n"
     ]
    },
    {
     "name": "stderr",
     "output_type": "stream",
     "text": [
      "\n"
     ]
    }
   ],
   "source": [
    "start = time.time()\n",
    "\n",
    "responses = asyncio.run(main())\n",
    "\n",
    "end = time.time() - start\n",
    "print(f\"total time {end:0.2f} seconds\")"
   ]
  },
  {
   "cell_type": "code",
   "execution_count": 76,
   "id": "96c2c153",
   "metadata": {},
   "outputs": [
    {
     "data": {
      "text/plain": [
       "(25, 4)"
      ]
     },
     "execution_count": 76,
     "metadata": {},
     "output_type": "execute_result"
    }
   ],
   "source": [
    "ds_from_df = Dataset.from_pandas(cleaned_df.iloc[:25])\n",
    "ds_from_df.shape"
   ]
  },
  {
   "cell_type": "code",
   "execution_count": 77,
   "id": "91d89741",
   "metadata": {},
   "outputs": [
    {
     "data": {
      "application/vnd.jupyter.widget-view+json": {
       "model_id": "",
       "version_major": 2,
       "version_minor": 0
      },
      "text/plain": [
       "Map:   0%|          | 0/25 [00:00<?, ? examples/s]"
      ]
     },
     "metadata": {},
     "output_type": "display_data"
    }
   ],
   "source": [
    "def get_response(row):\n",
    "    r = query_engine.query(row[\"question\"])\n",
    "    if r.response is None:\n",
    "        r_str = \"\"\n",
    "        c = []\n",
    "    else:\n",
    "        r_str = r.response\n",
    "        c = [sn.node.text for sn in r.source_nodes]\n",
    "    row[\"generated_with_rag\"] = r_str\n",
    "    row[\"context\"] = c\n",
    "    return row\n",
    "\n",
    "ds_with_relevency = ds_from_df.map(get_response)"
   ]
  },
  {
   "cell_type": "code",
   "execution_count": 78,
   "id": "c627218d",
   "metadata": {},
   "outputs": [
    {
     "data": {
      "text/plain": [
       "(25, 6)"
      ]
     },
     "execution_count": 78,
     "metadata": {},
     "output_type": "execute_result"
    }
   ],
   "source": [
    "ds_with_relevency.shape"
   ]
  },
  {
   "cell_type": "code",
   "execution_count": 105,
   "id": "988f7eca",
   "metadata": {},
   "outputs": [
    {
     "data": {
      "text/plain": [
       "{'question': 'what relates to erosion',\n",
       " 'correct_answer': 'Water and wind erosion are now the two primary causes of land degradation ; combined, they are responsible for 84% of degraded acreage, making excessive erosion one of the most significant global environmental problems.',\n",
       " 'incorrect_answer': 'Industrial agriculture , deforestation , roads , anthropogenic climate change and urban sprawl are amongst the most significant human activities in regard to their effect on stimulating erosion.',\n",
       " 'question_id': 'Q1157',\n",
       " 'generated_with_rag': '\\nErosion is related to rainfall, surface runoff, rivers and streams, vegetative cover, topography, tectonics, development, and thermal erosion.',\n",
       " 'context': ['erosion, via their effects on vegetation and soil properties. In general, given similar vegetation and ecosystems, areas with more precipitation (especially high-intensity rainfall), more wind, or more storms are expected to have more erosion.\\nIn some areas of the world (e.g. the mid-western USA), rainfall intensity is the primary determinant of erosivity (for a definition of erosivity check,) with higher intensity rainfall generally resulting in more soil erosion by water. The size and velocity of rain drops is also an important factor. Larger and higher-velocity rain drops have greater kinetic energy, and thus their impact will displace soil particles by larger distances than smaller, slower-moving rain drops.In other regions of the world (e.g. western Europe), runoff and erosion result from relatively low intensities of stratiform rainfall falling onto the previously saturated soil. In such situations, rainfall amount rather than intensity is the main factor determining the severity of soil erosion by water. According to the climate change projections, erosivity will increase significantly in Europe and soil erosion may increase by 13-22.5% by 2050 In Taiwan, where typhoon frequency increased significantly in the 21st century, a strong link has been drawn between the increase in storm frequency with an increase in sediment load in rivers and reservoirs, highlighting the impacts climate change can have on erosion.\\n\\n\\n=== Vegetative cover ===\\n\\nVegetation acts as an interface between the atmosphere and the soil. It increases the permeability of the soil to rainwater, thus decreasing runoff. It shelters the soil from winds, which results in decreased wind erosion, as well as advantageous changes in microclimate. The roots of the plants bind the soil together, and interweave with other roots, forming a more solid mass that is less susceptible to both water and wind erosion. The removal of vegetation increases the rate of surface erosion.\\n\\n\\n=== Topography ===\\nThe topography of the land determines the velocity at which surface runoff will flow, which in turn determines the erosivity of the runoff. Longer, steeper slopes (especially those without adequate vegetative cover) are more susceptible to very high rates of erosion during heavy rains than shorter, less steep slopes. Steeper terrain is also more prone to mudslides, landslides, and other forms of gravitational erosion processes.:\\u200a28–30\\u200a\\n\\n\\n=== Tectonics ===\\n\\nTectonic processes control rates and distributions of erosion at the Earth\\'s surface. If the tectonic action causes part of the Earth\\'s surface (e.g., a mountain range) to be raised or lowered relative to surrounding areas, this must necessarily change the gradient of the land surface. Because erosion rates are almost always sensitive to the local slope (see above), this will change the rates of erosion in the uplifted area. Active tectonics also brings fresh, unweathered rock towards the surface, where it is exposed to the action of erosion.\\nHowever, erosion can also affect tectonic processes. The removal by erosion of large amounts of rock from a particular region, and its deposition elsewhere, can result in a lightening of the load on the lower crust and mantle. Because tectonic processes are driven by gradients in the stress field developed in the crust, this unloading can in turn cause tectonic or isostatic uplift in the region.:\\u200a99\\u200a In some cases, it has been hypothesised that these twin feedbacks can act to localize and enhance zones of very rapid exhumation of deep crustal rocks beneath places on the Earth\\'s surface with extremely high erosion rates, for example, beneath the extremely steep terrain of Nanga Parbat in the western Himalayas. Such a place has been called a \"tectonic aneurysm\".\\n\\n\\n=== Development ===\\nHuman land development, in forms including agricultural and urban development, is considered a significant factor in erosion and sediment transport, which aggravate food insecurity. In Taiwan, increases in sediment load in the northern, central, and southern regions of the island can be tracked with the',\n",
       "  'Erosion is the action of surface processes (such as water flow or wind) that removes soil, rock, or dissolved material from one location on the Earth\\'s crust and then transports it to another location where it is deposited. Erosion is distinct from weathering which involves no movement. Removal of rock or soil as clastic sediment is referred to as physical or mechanical erosion; this contrasts with chemical erosion, where soil or rock material is removed from an area by dissolution. Eroded sediment or solutes may be transported just a few millimetres, or for thousands of kilometres.\\nAgents of erosion include rainfall; bedrock wear in rivers; coastal erosion by the sea and waves; glacial plucking, abrasion, and scour; areal flooding; wind abrasion; groundwater processes; and mass movement processes in steep landscapes like landslides and debris flows. The rates at which such processes act control how fast a surface is eroded. Typically, physical erosion proceeds the fastest on steeply sloping surfaces, and rates may also be sensitive to some climatically-controlled properties including amounts of water supplied (e.g., by rain), storminess, wind speed, wave fetch, or atmospheric temperature (especially for some ice-related processes). Feedbacks are also possible between rates of erosion and the amount of eroded material that is already carried by, for example, a river or glacier. The transport of eroded materials from their original location is followed by deposition, which is arrival and emplacement of material at a new location.While erosion is a natural process, human activities have increased by 10-40 times the rate at which soil erosion is occurring globally. At agriculture sites in the Appalachian Mountains, intensive farming practices have caused erosion at up to 100 times the natural rate of erosion in the region. Excessive (or accelerated) erosion causes both \"on-site\" and \"off-site\" problems. On-site impacts include decreases in agricultural productivity and (on natural landscapes) ecological collapse, both because of loss of the nutrient-rich upper soil layers. In some cases, this leads to desertification. Off-site effects include sedimentation of waterways and eutrophication of water bodies, as well as sediment-related damage to roads and houses. Water and wind erosion are the two primary causes of land degradation; combined, they are responsible for about 84% of the global extent of degraded land, making excessive erosion one of the most significant environmental problems worldwide.:\\u200a2\\u200a:\\u200a1\\u200aIntensive agriculture, deforestation, roads, anthropogenic climate change and urban sprawl are amongst the most significant human activities in regard to their effect on stimulating erosion. However, there are many prevention and remediation practices that can curtail or limit erosion of vulnerable soils.\\n\\n\\n== Physical processes ==\\n\\n\\n=== Rainfall and surface runoff ===\\n\\nRainfall, and the surface runoff which may result from rainfall, produces four main types of soil erosion: splash erosion, sheet erosion, rill erosion, and gully erosion. Splash erosion is generally seen as the first and least severe stage in the soil erosion process, which is followed by sheet erosion, then rill erosion and finally gully erosion (the most severe of the four).:\\u200a60–61\\u200aIn splash erosion, the impact of a falling raindrop creates a small crater in the soil, ejecting soil particles. The distance these soil particles travel can be as much as 0.6 m (2.0 ft) vertically and 1.5 m (4.9 ft) horizontally on level ground.\\nIf the soil is saturated, or if the rainfall rate is greater than the rate at which water can infiltrate into the soil, surface runoff occurs. If the runoff has sufficient flow energy, it will transport loosened soil particles (sediment) down the slope. Sheet erosion is the transport of loosened soil particles by overland flow.\\n\\nRill erosion refers to the development of small, ephemeral concentrated flow',\n",
       "  'severe of the four).:\\u200a60–61\\u200aIn splash erosion, the impact of a falling raindrop creates a small crater in the soil, ejecting soil particles. The distance these soil particles travel can be as much as 0.6 m (2.0 ft) vertically and 1.5 m (4.9 ft) horizontally on level ground.\\nIf the soil is saturated, or if the rainfall rate is greater than the rate at which water can infiltrate into the soil, surface runoff occurs. If the runoff has sufficient flow energy, it will transport loosened soil particles (sediment) down the slope. Sheet erosion is the transport of loosened soil particles by overland flow.\\n\\nRill erosion refers to the development of small, ephemeral concentrated flow paths which function as both sediment source and sediment delivery systems for erosion on hillslopes. Generally, where water erosion rates on disturbed upland areas are greatest, rills are active. Flow depths in rills are typically of the order of a few centimetres (about an inch) or less and along-channel slopes may be quite steep. This means that rills exhibit hydraulic physics very different from water flowing through the deeper, wider channels of streams and rivers.\\nGully erosion occurs when runoff water accumulates and rapidly flows in narrow channels during or immediately after heavy rains or melting snow, removing soil to a considerable depth. A gully is distinguished from a rill based on a critical cross-sectional area of at least one square foot, i.e. the size of a channel that can no longer be erased via normal tillage operations.Extreme gully erosion can progress to formation of badlands. These form under conditions of high relief on easily eroded bedrock in climates favorable to erosion. Conditions or disturbances that limit the growth of protective vegetation (rhexistasy) are a key element of badland formation.\\n\\n\\n=== Rivers and streams ===\\n\\nValley or stream erosion occurs with continued water flow along a linear feature. The erosion is both downward, deepening the valley, and headward, extending the valley into the hillside, creating head cuts and steep banks. In the earliest stage of stream erosion, the erosive activity is dominantly vertical, the valleys have a typical V-shaped cross-section and the stream gradient is relatively steep. When some base level is reached, the erosive activity switches to lateral erosion, which widens the valley floor and creates a narrow floodplain. The stream gradient becomes nearly flat, and lateral deposition of sediments becomes important as the stream meanders across the valley floor. In all stages of stream erosion, by far the most erosion occurs during times of flood when more and faster-moving water is available to carry a larger sediment load. In such processes, it is not the water alone that erodes: suspended abrasive particles, pebbles, and boulders can also act erosively as they traverse a surface, in a process known as traction.Bank erosion is the wearing away of the banks of a stream or river. This is distinguished from changes on the bed of the watercourse, which is referred to as scour. Erosion and changes in the form of river banks may be measured by inserting metal rods into the bank and marking the position of the bank surface along the rods at different times.Thermal erosion is the result of melting and weakening permafrost due to moving water. It can occur both along rivers and at the coast. Rapid river channel migration observed in the Lena River of Siberia is due to thermal erosion, as these portions of the banks are composed of permafrost-cemented non-cohesive materials. Much of this erosion occurs as the weakened banks fail in large slumps. Thermal erosion also affects the Arctic coast, where wave action and near-shore temperatures combine to undercut permafrost bluffs along the shoreline and cause them to fail. Annual erosion rates along a 100-kilometre (62-mile) segment of the Beaufort Sea shoreline averaged 5.6 metres (18 feet)']}"
      ]
     },
     "execution_count": 105,
     "metadata": {},
     "output_type": "execute_result"
    }
   ],
   "source": [
    "ds_with_relevency[16]"
   ]
  },
  {
   "cell_type": "markdown",
   "id": "033709c6",
   "metadata": {},
   "source": [
    "## generated_without_rag\n",
    "\n",
    "using openai with asyncio"
   ]
  },
  {
   "cell_type": "code",
   "execution_count": 81,
   "id": "bf352671",
   "metadata": {},
   "outputs": [
    {
     "data": {
      "text/plain": [
       "<Token var=<ContextVar name='aiohttp-session' default=None at 0x7f58fc3cd3f0> at 0x7f586f776100>"
      ]
     },
     "execution_count": 81,
     "metadata": {},
     "output_type": "execute_result"
    }
   ],
   "source": [
    "import openai\n",
    "from aiohttp import ClientSession\n",
    "\n",
    "openai.aiosession.set(ClientSession())\n",
    "openai.api_key = os.getenv(\"OPENAI_API_KEY\")"
   ]
  },
  {
   "cell_type": "code",
   "execution_count": 97,
   "id": "bc83c420",
   "metadata": {},
   "outputs": [],
   "source": [
    "QUESTION_PROMPT = \"\"\"\\\n",
    "Answer the following questions to the best of your ability.\n",
    "\n",
    "{question}\n",
    "\"\"\""
   ]
  },
  {
   "cell_type": "code",
   "execution_count": 139,
   "id": "9f84372e",
   "metadata": {},
   "outputs": [],
   "source": [
    "async def gen_answer(q_id, q):\n",
    "    completion = await openai.Completion.acreate(\n",
    "      model=\"text-davinci-003\",\n",
    "      prompt=QUESTION_PROMPT.format(question=q),\n",
    "      max_tokens=100,\n",
    "      temperature=1\n",
    "    )\n",
    "    return q_id, completion.choices[0].text\n",
    "\n",
    "async def main(qs):\n",
    "    return await asyncio.gather(*[gen_answer(q_id, q) for q_id, q in qs])"
   ]
  },
  {
   "cell_type": "code",
   "execution_count": 145,
   "id": "5ff538c2",
   "metadata": {},
   "outputs": [
    {
     "name": "stdout",
     "output_type": "stream",
     "text": [
      "total time 14.61 seconds\n"
     ]
    }
   ],
   "source": [
    "qs = list(zip(\n",
    "    ds_with_relevency[\"question_id\"], \n",
    "    ds_with_relevency[\"question\"]\n",
    "))\n",
    "\n",
    "start = time.perf_counter()\n",
    "# beware of rate limiting\n",
    "r = asyncio.run(main(qs))\n",
    "end = time.perf_counter() - start\n",
    "\n",
    "print(f\"total time {end:0.2f} seconds\")"
   ]
  },
  {
   "cell_type": "code",
   "execution_count": 146,
   "id": "3387a3b7",
   "metadata": {},
   "outputs": [
    {
     "data": {
      "text/plain": [
       "25"
      ]
     },
     "execution_count": 146,
     "metadata": {},
     "output_type": "execute_result"
    }
   ],
   "source": [
    "len(r)"
   ]
  },
  {
   "cell_type": "code",
   "execution_count": 153,
   "id": "bf616f88",
   "metadata": {},
   "outputs": [
    {
     "data": {
      "application/vnd.jupyter.widget-view+json": {
       "model_id": "",
       "version_major": 2,
       "version_minor": 0
      },
      "text/plain": [
       "Map:   0%|          | 0/25 [00:00<?, ? examples/s]"
      ]
     },
     "metadata": {},
     "output_type": "display_data"
    }
   ],
   "source": [
    "r_dict = {q_id: a for q_id, a in r}\n",
    "\n",
    "def add_gen_without_rag(row):\n",
    "    q_id = row[\"question_id\"]\n",
    "    row[\"generated_without_rag\"] = r_dict[q_id]\n",
    "    return row\n",
    "    \n",
    "final_ds = ds_with_relevency.map(add_gen_without_rag)"
   ]
  },
  {
   "cell_type": "code",
   "execution_count": 154,
   "id": "86546c10",
   "metadata": {},
   "outputs": [],
   "source": [
    "# At the end of your program, close the http session\n",
    "await openai.aiosession.get().close()"
   ]
  },
  {
   "cell_type": "markdown",
   "id": "15bc4d02",
   "metadata": {},
   "source": [
    "## Upload Dataset"
   ]
  },
  {
   "cell_type": "code",
   "execution_count": 158,
   "id": "7d17abe3",
   "metadata": {},
   "outputs": [
    {
     "data": {
      "application/vnd.jupyter.widget-view+json": {
       "model_id": "c6bbdd6c597a4c8bb696de93d11068dd",
       "version_major": 2,
       "version_minor": 0
      },
      "text/plain": [
       "Pushing dataset shards to the dataset hub:   0%|          | 0/1 [00:00<?, ?it/s]"
      ]
     },
     "metadata": {},
     "output_type": "display_data"
    },
    {
     "data": {
      "application/vnd.jupyter.widget-view+json": {
       "model_id": "39ebf7d5c4454b378b76762d50f85a5c",
       "version_major": 2,
       "version_minor": 0
      },
      "text/plain": [
       "Creating parquet from Arrow format:   0%|          | 0/1 [00:00<?, ?ba/s]"
      ]
     },
     "metadata": {},
     "output_type": "display_data"
    },
    {
     "data": {
      "application/vnd.jupyter.widget-view+json": {
       "model_id": "237742b20c4f4b978041df5863403ddc",
       "version_major": 2,
       "version_minor": 0
      },
      "text/plain": [
       "Upload 1 LFS files:   0%|          | 0/1 [00:00<?, ?it/s]"
      ]
     },
     "metadata": {},
     "output_type": "display_data"
    }
   ],
   "source": [
    "final_ds.push_to_hub(\"explodinggradients/ragas-wikiqa\")"
   ]
  },
  {
   "cell_type": "code",
   "execution_count": 159,
   "id": "af44aaa9",
   "metadata": {},
   "outputs": [
    {
     "data": {
      "text/plain": [
       "Dataset({\n",
       "    features: ['question', 'correct_answer', 'incorrect_answer', 'question_id', 'generated_with_rag', 'context', 'generated_without_rag'],\n",
       "    num_rows: 25\n",
       "})"
      ]
     },
     "execution_count": 159,
     "metadata": {},
     "output_type": "execute_result"
    }
   ],
   "source": [
    "final_ds"
   ]
  }
 ],
 "metadata": {
  "kernelspec": {
   "display_name": "Python 3 (ipykernel)",
   "language": "python",
   "name": "python3"
  },
  "language_info": {
   "codemirror_mode": {
    "name": "ipython",
    "version": 3
   },
   "file_extension": ".py",
   "mimetype": "text/x-python",
   "name": "python",
   "nbconvert_exporter": "python",
   "pygments_lexer": "ipython3",
   "version": "3.10.11"
  }
 },
 "nbformat": 4,
 "nbformat_minor": 5
}
