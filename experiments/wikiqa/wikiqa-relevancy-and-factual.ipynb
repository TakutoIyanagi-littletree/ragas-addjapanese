{
 "cells": [
  {
   "cell_type": "code",
   "execution_count": 1,
   "id": "c86439f8",
   "metadata": {},
   "outputs": [],
   "source": [
    "# NOTE: This is ONLY necessary in jupyter notebook.\n",
    "# Details: Jupyter runs an event-loop behind the scenes. \n",
    "#          This results in nested event-loops when we start an event-loop to make async queries.\n",
    "#          This is normally not allowed, we use nest_asyncio to allow it for convenience.  \n",
    "import nest_asyncio\n",
    "nest_asyncio.apply()"
   ]
  },
  {
   "cell_type": "code",
   "execution_count": 2,
   "id": "294900ba",
   "metadata": {},
   "outputs": [],
   "source": [
    "# only run this if your have an editable install\n",
    "%load_ext autoreload\n",
    "%autoreload 2"
   ]
  },
  {
   "cell_type": "markdown",
   "id": "7cc9efa5",
   "metadata": {},
   "source": [
    "## Clean dataset\n",
    "\n",
    "steps\n",
    "1. Remove failed_wikis\n",
    "2. group by question_id to get unqiue questions and for each question_id select a correct and incorrect answer to be used"
   ]
  },
  {
   "cell_type": "code",
   "execution_count": 3,
   "id": "297b0b44",
   "metadata": {},
   "outputs": [],
   "source": [
    "from datasets import load_dataset, concatenate_datasets, Dataset\n",
    "import pandas as pd\n",
    "import time\n",
    "import asyncio\n",
    "import os"
   ]
  },
  {
   "cell_type": "code",
   "execution_count": 4,
   "id": "f5a2c091",
   "metadata": {},
   "outputs": [
    {
     "name": "stderr",
     "output_type": "stream",
     "text": [
      "Found cached dataset wiki_qa (/home/jjmachan/.cache/huggingface/datasets/wiki_qa/default/0.1.0/d2d236b5cbdc6fbdab45d168b4d678a002e06ddea3525733a24558150585951c)\n"
     ]
    },
    {
     "data": {
      "text/plain": [
       "Dataset({\n",
       "    features: ['question_id', 'question', 'document_title', 'answer', 'label'],\n",
       "    num_rows: 6165\n",
       "})"
      ]
     },
     "execution_count": 4,
     "metadata": {},
     "output_type": "execute_result"
    }
   ],
   "source": [
    "DATASET_URL = \"wiki_qa\"\n",
    "SPLIT = \"test\"\n",
    "ds = load_dataset(DATASET_URL, split=SPLIT)\n",
    "ds"
   ]
  },
  {
   "cell_type": "code",
   "execution_count": 5,
   "id": "6a44cb26",
   "metadata": {},
   "outputs": [
    {
     "data": {
      "text/plain": [
       "16"
      ]
     },
     "execution_count": 5,
     "metadata": {},
     "output_type": "execute_result"
    }
   ],
   "source": [
    "# load failed\n",
    "import json\n",
    "\n",
    "with open('failed_wikis') as f:\n",
    "    failed = json.load(f)\n",
    "    \n",
    "len(failed)"
   ]
  },
  {
   "cell_type": "code",
   "execution_count": 6,
   "id": "1c3093bc",
   "metadata": {},
   "outputs": [
    {
     "name": "stderr",
     "output_type": "stream",
     "text": [
      "Loading cached processed dataset at /home/jjmachan/.cache/huggingface/datasets/wiki_qa/default/0.1.0/d2d236b5cbdc6fbdab45d168b4d678a002e06ddea3525733a24558150585951c/cache-07ce3fbd049c5d55.arrow\n"
     ]
    },
    {
     "data": {
      "text/plain": [
       "(6049, 5)"
      ]
     },
     "execution_count": 6,
     "metadata": {},
     "output_type": "execute_result"
    }
   ],
   "source": [
    "def clean_failed(row):\n",
    "    if row['document_title'] in failed:\n",
    "        return False\n",
    "    return True\n",
    "\n",
    "cleaned_ds1 = ds.filter(clean_failed, batched=False)\n",
    "cleaned_ds1.shape"
   ]
  },
  {
   "cell_type": "code",
   "execution_count": 7,
   "id": "b6065249",
   "metadata": {},
   "outputs": [
    {
     "data": {
      "text/html": [
       "<div>\n",
       "<style scoped>\n",
       "    .dataframe tbody tr th:only-of-type {\n",
       "        vertical-align: middle;\n",
       "    }\n",
       "\n",
       "    .dataframe tbody tr th {\n",
       "        vertical-align: top;\n",
       "    }\n",
       "\n",
       "    .dataframe thead th {\n",
       "        text-align: right;\n",
       "    }\n",
       "</style>\n",
       "<table border=\"1\" class=\"dataframe\">\n",
       "  <thead>\n",
       "    <tr style=\"text-align: right;\">\n",
       "      <th></th>\n",
       "      <th>question_id</th>\n",
       "      <th>question</th>\n",
       "      <th>document_title</th>\n",
       "      <th>answer</th>\n",
       "      <th>label</th>\n",
       "    </tr>\n",
       "  </thead>\n",
       "  <tbody>\n",
       "    <tr>\n",
       "      <th>0</th>\n",
       "      <td>Q0</td>\n",
       "      <td>HOW AFRICAN AMERICANS WERE IMMIGRATED TO THE US</td>\n",
       "      <td>African immigration to the United States</td>\n",
       "      <td>African immigration to the United States refer...</td>\n",
       "      <td>0</td>\n",
       "    </tr>\n",
       "    <tr>\n",
       "      <th>1</th>\n",
       "      <td>Q0</td>\n",
       "      <td>HOW AFRICAN AMERICANS WERE IMMIGRATED TO THE US</td>\n",
       "      <td>African immigration to the United States</td>\n",
       "      <td>The term African in the scope of this article ...</td>\n",
       "      <td>0</td>\n",
       "    </tr>\n",
       "    <tr>\n",
       "      <th>2</th>\n",
       "      <td>Q0</td>\n",
       "      <td>HOW AFRICAN AMERICANS WERE IMMIGRATED TO THE US</td>\n",
       "      <td>African immigration to the United States</td>\n",
       "      <td>From the Immigration and Nationality Act of 19...</td>\n",
       "      <td>0</td>\n",
       "    </tr>\n",
       "    <tr>\n",
       "      <th>3</th>\n",
       "      <td>Q0</td>\n",
       "      <td>HOW AFRICAN AMERICANS WERE IMMIGRATED TO THE US</td>\n",
       "      <td>African immigration to the United States</td>\n",
       "      <td>African immigrants in the United States come f...</td>\n",
       "      <td>0</td>\n",
       "    </tr>\n",
       "    <tr>\n",
       "      <th>4</th>\n",
       "      <td>Q0</td>\n",
       "      <td>HOW AFRICAN AMERICANS WERE IMMIGRATED TO THE US</td>\n",
       "      <td>African immigration to the United States</td>\n",
       "      <td>They include people from different national, l...</td>\n",
       "      <td>0</td>\n",
       "    </tr>\n",
       "  </tbody>\n",
       "</table>\n",
       "</div>"
      ],
      "text/plain": [
       "  question_id                                         question  \\\n",
       "0          Q0  HOW AFRICAN AMERICANS WERE IMMIGRATED TO THE US   \n",
       "1          Q0  HOW AFRICAN AMERICANS WERE IMMIGRATED TO THE US   \n",
       "2          Q0  HOW AFRICAN AMERICANS WERE IMMIGRATED TO THE US   \n",
       "3          Q0  HOW AFRICAN AMERICANS WERE IMMIGRATED TO THE US   \n",
       "4          Q0  HOW AFRICAN AMERICANS WERE IMMIGRATED TO THE US   \n",
       "\n",
       "                             document_title  \\\n",
       "0  African immigration to the United States   \n",
       "1  African immigration to the United States   \n",
       "2  African immigration to the United States   \n",
       "3  African immigration to the United States   \n",
       "4  African immigration to the United States   \n",
       "\n",
       "                                              answer  label  \n",
       "0  African immigration to the United States refer...      0  \n",
       "1  The term African in the scope of this article ...      0  \n",
       "2  From the Immigration and Nationality Act of 19...      0  \n",
       "3  African immigrants in the United States come f...      0  \n",
       "4  They include people from different national, l...      0  "
      ]
     },
     "execution_count": 7,
     "metadata": {},
     "output_type": "execute_result"
    }
   ],
   "source": [
    "df = cleaned_ds1.to_pandas()\n",
    "df.head()"
   ]
  },
  {
   "cell_type": "code",
   "execution_count": 8,
   "id": "8c8d779f",
   "metadata": {},
   "outputs": [
    {
     "data": {
      "text/plain": [
       "617"
      ]
     },
     "execution_count": 8,
     "metadata": {},
     "output_type": "execute_result"
    }
   ],
   "source": [
    "# number of unique question id's\n",
    "len(df.groupby(\"question_id\")[\"question\"])"
   ]
  },
  {
   "cell_type": "code",
   "execution_count": 9,
   "id": "c69bc13d",
   "metadata": {},
   "outputs": [
    {
     "data": {
      "text/plain": [
       "232"
      ]
     },
     "execution_count": 9,
     "metadata": {},
     "output_type": "execute_result"
    }
   ],
   "source": [
    "# number of unique question id's without correct and incorrect answer\n",
    "def count(df):\n",
    "    has_corr = df.loc[df[\"label\"] == 1][\"answer\"].count() > 0\n",
    "    has_in_corr = df.loc[df[\"label\"] == 0][\"answer\"].count() > 0\n",
    "    return has_corr and has_in_corr\n",
    "\n",
    "df.groupby(\"question_id\").apply(count).sum()"
   ]
  },
  {
   "cell_type": "code",
   "execution_count": 10,
   "id": "8e07ea12",
   "metadata": {},
   "outputs": [],
   "source": [
    "def clean(df):\n",
    "    try:\n",
    "        ques = df[\"question\"].sample().iloc[0]\n",
    "        corr = df.loc[df[\"label\"] == 1][\"answer\"].sample().iloc[0]\n",
    "        in_corr = df.loc[df[\"label\"] == 0][\"answer\"].sample().iloc[0]\n",
    "    except ValueError:\n",
    "        return None\n",
    "    return pd.Series(\n",
    "        data=[ques, corr, in_corr], \n",
    "        index=\"question,correct_answer,incorrect_answer\".split(',')\n",
    "    )"
   ]
  },
  {
   "cell_type": "code",
   "execution_count": 11,
   "id": "c7e35464",
   "metadata": {},
   "outputs": [],
   "source": [
    "cleaned_df = df.groupby(\"question_id\").apply(clean).dropna()"
   ]
  },
  {
   "cell_type": "code",
   "execution_count": 12,
   "id": "06c24ca8",
   "metadata": {},
   "outputs": [
    {
     "data": {
      "text/html": [
       "<div>\n",
       "<style scoped>\n",
       "    .dataframe tbody tr th:only-of-type {\n",
       "        vertical-align: middle;\n",
       "    }\n",
       "\n",
       "    .dataframe tbody tr th {\n",
       "        vertical-align: top;\n",
       "    }\n",
       "\n",
       "    .dataframe thead th {\n",
       "        text-align: right;\n",
       "    }\n",
       "</style>\n",
       "<table border=\"1\" class=\"dataframe\">\n",
       "  <thead>\n",
       "    <tr style=\"text-align: right;\">\n",
       "      <th></th>\n",
       "      <th>question</th>\n",
       "      <th>correct_answer</th>\n",
       "      <th>incorrect_answer</th>\n",
       "    </tr>\n",
       "    <tr>\n",
       "      <th>question_id</th>\n",
       "      <th></th>\n",
       "      <th></th>\n",
       "      <th></th>\n",
       "    </tr>\n",
       "  </thead>\n",
       "  <tbody>\n",
       "    <tr>\n",
       "      <th>Q0</th>\n",
       "      <td>HOW AFRICAN AMERICANS WERE IMMIGRATED TO THE US</td>\n",
       "      <td>As such, African immigrants are to be distingu...</td>\n",
       "      <td>African immigrants in the United States come f...</td>\n",
       "    </tr>\n",
       "    <tr>\n",
       "      <th>Q1012</th>\n",
       "      <td>what are points on a mortgage</td>\n",
       "      <td>Points, sometimes also called a \"discount poin...</td>\n",
       "      <td>Loan qualification based on monthly income ver...</td>\n",
       "    </tr>\n",
       "    <tr>\n",
       "      <th>Q102</th>\n",
       "      <td>how does interlibrary loan work</td>\n",
       "      <td>Interlibrary loan (abbreviated ILL, and someti...</td>\n",
       "      <td>The lending library usually sets the due date ...</td>\n",
       "    </tr>\n",
       "    <tr>\n",
       "      <th>Q1027</th>\n",
       "      <td>WHAT IS A FY QUARTER</td>\n",
       "      <td>A fiscal year (or financial year, or sometimes...</td>\n",
       "      <td>Nevertheless, the fiscal year is identical to ...</td>\n",
       "    </tr>\n",
       "    <tr>\n",
       "      <th>Q1032</th>\n",
       "      <td>who wrote a rose is a rose is a rose</td>\n",
       "      <td>The sentence \"Rose is a rose is a rose is a ro...</td>\n",
       "      <td>For later periods in literature this would no ...</td>\n",
       "    </tr>\n",
       "  </tbody>\n",
       "</table>\n",
       "</div>"
      ],
      "text/plain": [
       "                                                    question  \\\n",
       "question_id                                                    \n",
       "Q0           HOW AFRICAN AMERICANS WERE IMMIGRATED TO THE US   \n",
       "Q1012                          what are points on a mortgage   \n",
       "Q102                         how does interlibrary loan work   \n",
       "Q1027                                   WHAT IS A FY QUARTER   \n",
       "Q1032                   who wrote a rose is a rose is a rose   \n",
       "\n",
       "                                                correct_answer  \\\n",
       "question_id                                                      \n",
       "Q0           As such, African immigrants are to be distingu...   \n",
       "Q1012        Points, sometimes also called a \"discount poin...   \n",
       "Q102         Interlibrary loan (abbreviated ILL, and someti...   \n",
       "Q1027        A fiscal year (or financial year, or sometimes...   \n",
       "Q1032        The sentence \"Rose is a rose is a rose is a ro...   \n",
       "\n",
       "                                              incorrect_answer  \n",
       "question_id                                                     \n",
       "Q0           African immigrants in the United States come f...  \n",
       "Q1012        Loan qualification based on monthly income ver...  \n",
       "Q102         The lending library usually sets the due date ...  \n",
       "Q1027        Nevertheless, the fiscal year is identical to ...  \n",
       "Q1032        For later periods in literature this would no ...  "
      ]
     },
     "execution_count": 12,
     "metadata": {},
     "output_type": "execute_result"
    }
   ],
   "source": [
    "cleaned_df.head()"
   ]
  },
  {
   "cell_type": "code",
   "execution_count": 13,
   "id": "c7ed3ec0",
   "metadata": {},
   "outputs": [
    {
     "data": {
      "text/plain": [
       "('how does interlibrary loan work',\n",
       " 'Interlibrary loan (abbreviated ILL, and sometimes called interloan, document delivery, or document supply) is a service whereby a user of one library can borrow books or receive photocopies of documents that are owned by another library.',\n",
       " 'The lending library usually sets the due date and overdue fees of the material borrowed.')"
      ]
     },
     "execution_count": 13,
     "metadata": {},
     "output_type": "execute_result"
    }
   ],
   "source": [
    "q, c, i = cleaned_df.iloc[2]\n",
    "q, c, i"
   ]
  },
  {
   "cell_type": "markdown",
   "id": "752e6348",
   "metadata": {},
   "source": [
    "## get generated_answer and context"
   ]
  },
  {
   "cell_type": "code",
   "execution_count": 14,
   "id": "41ba3a24",
   "metadata": {},
   "outputs": [],
   "source": [
    "# load the index\n",
    "from llama_index import StorageContext, load_index_from_storage, ServiceContext\n",
    "\n",
    "# CHANGE SERVICE_CONTEXT HERE!!!\n",
    "openai_sc = ServiceContext.from_defaults()\n",
    "service_context = openai_sc\n",
    "\n",
    "# rebuild storage context\n",
    "storage_context = StorageContext.from_defaults(persist_dir=\"./storage\")\n",
    "\n",
    "# load index\n",
    "index = load_index_from_storage(storage_context)"
   ]
  },
  {
   "cell_type": "code",
   "execution_count": 31,
   "id": "7f092993",
   "metadata": {},
   "outputs": [],
   "source": [
    "from llama_index import (\n",
    "    GPTVectorStoreIndex,\n",
    "    ResponseSynthesizer,\n",
    ")\n",
    "from llama_index.retrievers import VectorIndexRetriever\n",
    "from llama_index.query_engine import RetrieverQueryEngine\n",
    "from llama_index.indices.postprocessor import SimilarityPostprocessor\n",
    "\n",
    "# configure retriever\n",
    "retriever = VectorIndexRetriever(\n",
    "    index=index, \n",
    "    similarity_top_k=2,\n",
    ")\n",
    "\n",
    "# configure response synthesizer\n",
    "response_synthesizer = ResponseSynthesizer.from_args(\n",
    "    node_postprocessors=[\n",
    "        SimilarityPostprocessor(similarity_cutoff=0.7)\n",
    "    ]\n",
    ")\n",
    "\n",
    "# assemble query engine\n",
    "query_engine = RetrieverQueryEngine(\n",
    "    retriever=retriever,\n",
    "    response_synthesizer=response_synthesizer,\n",
    ")"
   ]
  },
  {
   "cell_type": "code",
   "execution_count": 49,
   "id": "23502142",
   "metadata": {},
   "outputs": [],
   "source": [
    "from tqdm.asyncio import tqdm_asyncio"
   ]
  },
  {
   "cell_type": "code",
   "execution_count": 147,
   "id": "cf275dd8",
   "metadata": {},
   "outputs": [],
   "source": [
    "async def main():\n",
    "    await tqdm_asyncio.gather(*[query_engine.aquery(i) \n",
    "                           for i in cleaned_df[\"question\"][:4]])"
   ]
  },
  {
   "cell_type": "code",
   "execution_count": 148,
   "id": "85e189a4",
   "metadata": {},
   "outputs": [
    {
     "name": "stderr",
     "output_type": "stream",
     "text": [
      "100%|████████████████████████████████████████████████████████████| 4/4 [00:56<00:00, 14.14s/it]"
     ]
    },
    {
     "name": "stdout",
     "output_type": "stream",
     "text": [
      "total time 56.57 seconds\n"
     ]
    },
    {
     "name": "stderr",
     "output_type": "stream",
     "text": [
      "\n"
     ]
    }
   ],
   "source": [
    "start = time.time()\n",
    "\n",
    "responses = asyncio.run(main())\n",
    "\n",
    "end = time.time() - start\n",
    "print(f\"total time {end:0.2f} seconds\")"
   ]
  },
  {
   "cell_type": "code",
   "execution_count": 32,
   "id": "5092f5a8",
   "metadata": {},
   "outputs": [
    {
     "data": {
      "text/plain": [
       "(25, 4)"
      ]
     },
     "execution_count": 32,
     "metadata": {},
     "output_type": "execute_result"
    }
   ],
   "source": [
    "ds_from_df = Dataset.from_pandas(cleaned_df.iloc[:25])\n",
    "ds_from_df.shape"
   ]
  },
  {
   "cell_type": "code",
   "execution_count": 33,
   "id": "f8ef04ba",
   "metadata": {},
   "outputs": [
    {
     "data": {
      "application/vnd.jupyter.widget-view+json": {
       "model_id": "",
       "version_major": 2,
       "version_minor": 0
      },
      "text/plain": [
       "Map:   0%|          | 0/25 [00:00<?, ? examples/s]"
      ]
     },
     "metadata": {},
     "output_type": "display_data"
    }
   ],
   "source": [
    "def get_response(row):\n",
    "    r = query_engine.query(row[\"question\"])\n",
    "    if r.response is None:\n",
    "        r_str = \"\"\n",
    "        c = []\n",
    "    else:\n",
    "        r_str = r.response\n",
    "        c = [sn.node.text for sn in r.source_nodes]\n",
    "    row[\"generated_with_rag\"] = r_str\n",
    "    row[\"context\"] = c\n",
    "    return row\n",
    "\n",
    "ds_with_relevency = ds_from_df.map(get_response)"
   ]
  },
  {
   "cell_type": "code",
   "execution_count": 34,
   "id": "1d2420cd",
   "metadata": {},
   "outputs": [
    {
     "data": {
      "text/plain": [
       "(25, 6)"
      ]
     },
     "execution_count": 34,
     "metadata": {},
     "output_type": "execute_result"
    }
   ],
   "source": [
    "ds_with_relevency.shape"
   ]
  },
  {
   "cell_type": "code",
   "execution_count": 114,
   "id": "ec2097a5",
   "metadata": {},
   "outputs": [
    {
     "data": {
      "text/plain": [
       "('where does a flea live',\n",
       " 'Q1100',\n",
       " 'Flea, the common name for the order Siphonaptera, includes 2,500 species of small flightless insects that live as external parasites of mammals and birds. Fleas live by ingesting the blood of their hosts. Adult fleas grow to about 3 millimetres (1⁄8 inch) long, are usually brown, and have bodies that are \"flattened\" sideways or narrow, enabling them to move through their hosts\\' fur or feathers. They lack wings; their hind legs are extremely well adapted for jumping. Their claws keep them from being dislodged, and their mouthparts are adapted for piercing skin and sucking blood. They can leap 50 times their body length, a feat second only to jumps made by another group of insects, the superfamily of froghoppers. Flea larvae are worm-like, with no limbs; they have chewing mouthparts and feed on organic debris left on their hosts\\' skin.\\nGenetic evidence indicates that fleas are a specialised lineage of parasitic scorpionflies (Mecoptera) sensu lato, most closely related to the family Nannochoristidae. The earliest known fleas lived in the Middle Jurassic; modern-looking forms appeared in the Cenozoic. Fleas probably originated on mammals first and expanded their reach to birds. Each species of flea specializes, more or less, on one species of host: many species of flea never breed on any other host; some are less selective. Some families of fleas are exclusive to a single host group; for example, the Malacopsyllidae are found only on armadillos, the Ischnopsyllidae only on bats, and the Chimaeropsyllidae only on elephant shrews.\\nThe oriental rat flea, Xenopsylla cheopis, is a vector of Yersinia pestis, the bacterium that causes bubonic plague. The disease was spread to humans by rodents, such as the black rat, which were bitten by infected fleas. Major outbreaks included the Plague of Justinian, about 540, and the Black Death, about 1350, each of which killed a sizeable fraction of the world\\'s people.\\nFleas appear in human culture in such diverse forms as flea circuses; poems, such as John Donne\\'s erotic \"The Flea\"; works of music, such as those by Modest Mussorgsky; and a film by Charlie Chaplin.\\n\\n\\n== Morphology and behavior ==\\nFleas are wingless insects, 1.5 to 3.3 millimetres (1⁄16 to 1⁄8 inch) long, that are agile, usually dark colored (for example, the reddish-brown of the cat flea), with a proboscis, or stylet, adapted to feeding by piercing the skin and sucking their host\\'s blood through their epipharynx.  Flea legs end in strong claws that are adapted to grasp a host.Unlike other insects, fleas do not possess compound eyes but instead only have simple eyespots with a single biconvex lens; some species lack eyes altogether. Their bodies are laterally compressed, permitting easy movement through the hairs or feathers on the host\\'s body. The flea body is covered with hard plates called sclerites. These sclerites are covered with many hairs and short spines directed backward, which also assist its movements on the host. The tough body is able to withstand great pressure, likely an adaptation to survive attempts to eliminate them by scratching.Fleas lay tiny, white, oval eggs. The larvae are small and pale, have bristles covering their worm-like bodies, lack eyes, and have mouth parts adapted to chewing. The larvae feed on organic matter, especially the feces of mature fleas, which contain dried blood. Adults feed only on fresh blood.\\n\\n\\n=== Jumping ===\\nTheir legs are long, the hind pair well adapted for jumping; a flea can jump vertically up to 18 cm (7 in) and horizontally up to 33 cm (13 in), making the flea one of the best jumpers of all known animals (relative to body size), second only to the froghopper. A flea can jump more than 100 times its length (vertically great pressure, likely an adaptation to survive attempts to eliminate them by scratching.Fleas lay tiny, white, oval eggs. The larvae are small and pale, have bristles covering their worm-like bodies, lack eyes, and have mouth parts adapted to chewing. The larvae feed on organic matter, especially the feces of mature fleas, which contain dried blood. Adults feed only on fresh blood.\\n\\n\\n=== Jumping ===\\nTheir legs are long, the hind pair well adapted for jumping; a flea can jump vertically up to 18 cm (7 in) and horizontally up to 33 cm (13 in), making the flea one of the best jumpers of all known animals (relative to body size), second only to the froghopper. A flea can jump more than 100 times its length (vertically up to 7 inches and horizontally 13 inches). That\\'s equivalent to an adult human jumping 250 feet vertically and 450 feet horizontally. Rarely do fleas jump from dog to dog. Most flea infestations come from newly developed fleas from the pet\\'s environment. The flea jump is so rapid and forceful that it exceeds the capabilities of muscle, and instead of relying on direct muscle power, fleas store muscle energy in a pad of the elastic protein named resilin before releasing it rapidly (like a human using a bow and arrow).  Immediately before the jump, muscles contract and deform the resilin pad, slowly storing energy which can then be released extremely rapidly to power leg extension for propulsion.  To prevent premature release of energy or motions of the leg, the flea employs a \"catch mechanism\".  Early in the jump, the tendon of the primary jumping muscle passes slightly behind the coxa-trochanter joint, generating a torque which holds the joint closed with the leg close to the body.  To trigger jumping, another muscle pulls the tendon forward until it passes the joint axis, generating the opposite torque to extend the leg and power the jump by release of stored energy. The actual take off has been shown by high-speed video to be from the tibiae and tarsi rather than from the trochantera (knees).\\n\\n\\n== Life cycle and development ==\\n\\nFleas are holometabolous insects, going through the four lifecycle stages of egg, larva, pupa, and imago (adult). In most species, neither female nor male fleas are fully mature when they first emerge but must feed on blood before they become capable of reproduction. The first blood meal triggers the maturation of the ovaries in females and the dissolution of the testicular plug in males, and copulation soon follows. Some species breed all year round while others synchronise their activities with their hosts\\' life cycles or with local environmental factors and climatic conditions. Flea populations consist of roughly 50% eggs, 35% larvae, 10% pupae, and 5% adults.\\n\\n\\n=== Egg ===\\nThe number of eggs laid depends on species, with batch sizes ranging from two to several dozen. The total number of eggs produced in a female\\'s lifetime (fecundity) varies from around one hundred to several thousand. In some species, the flea lives in the host\\'s nest or burrow and the eggs are deposited on the substrate, but in others, the eggs are laid on the host itself and can easily fall off onto the ground. Because of this, areas where the host rests and sleeps become one of the primary habitats of eggs and developing larvae. The eggs take around two days to two weeks to hatch.\\n\\n\\n=== Larva ===\\n\\nFlea larvae emerge from the eggs to feed on any available organic material such as dead insects, faeces, conspecific eggs, and vegetable matter. In laboratory studies, some dietary diversity seems necessary for proper larval development. Blood-only diets allow only 12% of larvae to mature, whereas blood and yeast or dog chow diets allow almost all larvae to mature. Another study also showed that 90% of larvae matured into adults when the diet included nonviable')"
      ]
     },
     "execution_count": 114,
     "metadata": {},
     "output_type": "execute_result"
    }
   ],
   "source": [
    "i = 11\n",
    "q, q_id, c = ds_with_relevency[i]['question'], ds_with_relevency[i]['question_id'], ds_with_relevency[i][\"context\"]\n",
    "c = ' '.join(c)\n",
    "q, q_id, c"
   ]
  },
  {
   "cell_type": "code",
   "execution_count": 36,
   "id": "471c993b",
   "metadata": {},
   "outputs": [
    {
     "data": {
      "text/plain": [
       "({'question': 'HOW AFRICAN AMERICANS WERE IMMIGRATED TO THE US',\n",
       "  'correct_answer': 'As such, African immigrants are to be distinguished from African American people, the latter of whom are descendants of mostly West and Central Africans who were involuntarily brought to the United States by means of the historic Atlantic slave trade .',\n",
       "  'incorrect_answer': 'African immigrants in the United States come from almost all regions in Africa and do not constitute a homogeneous group.',\n",
       "  'question_id': 'Q0',\n",
       "  'generated_with_rag': '\\nAfrican Americans were immigrated to the United States primarily through the Immigration and Nationality Act of 1965, which repealed the national quotas that had been in effect since 1921 and 1924. This act provided a separate category for refugees and greater opportunity for family reunification. Additionally, the Diversity Visa Program, or green card lottery, was created by the Immigration Act of 1990, which allowed people born in countries with low rates of immigration to the United States to obtain a lawful permanent resident status. African immigrants have also been immigrating to the United States in recent years due to labor opportunities, advanced training, and family reunification.',\n",
       "  'context': ['African immigration to the United States refers to immigrants to the United States who are or were nationals of modern African countries. The term African in the scope of this article refers to geographical or national origins rather than racial affiliation. Between the Immigration and Nationality Act of 1965 and 2017, Sub-Saharan African-born population in the United States grew to 2.1 million people.Sub-Saharan Africans in the United States come from almost all regions in Africa and do not constitute a homogeneous group. They include peoples from different national, linguistic, ethnic, racial, cultural and social backgrounds. As such, US and foreign born Sub-Saharan Africans are distinct from native-born African Americans, many of whose ancestors were involuntarily brought from West and Central Africa to the colonial United States by means of the historic Atlantic slave trade. African immigration is now driving the growth of the Black population in New York City.\\n\\n\\n== Immigration legislation ==\\n\\n\\n=== Citizenship ===\\nIn the 1870s, the Naturalization Act was extended to allow \"aliens, being free white persons and to aliens of African nativity and to persons of African descent\" to acquire citizenship. Immigration from Africa was theoretically permitted, unlike non-white immigration from Asia.\\n\\n\\n=== Quotas enacted between 1921 and 1924 ===\\nSeveral laws enforcing national origins quotas on U.S. immigration were enacted between 1921 and 1924 and were in effect until they were repealed in 1965. While the laws were aimed at restricting the immigration of Jews and Catholics from Southern and Eastern Europe and immigration from Asia, they also impacted African immigrants. The legislation effectively excluded Africans from entering the country.\\nThe Emergency Quota Act of 1921 restricted immigration from a given country to 3% of the number of people from that country living in the U.S. according to the census of 1910. The Immigration Act of 1924, also known as the Johnson-Reed Act, reduced that to 2% of the number of people from that country who were already living in the U.S. in 1890. Under the system, the quota for immigrants from Africa (excluding Egypt) totaled 1,100 (the number was increased to 1,400 under the 1952 McCarran–Walter Act.)  That contrasted to immigrants from Germany, which had a limit of 51,227.\\n\\n\\n=== Repeal of quotas ===\\nThe Immigration and Nationality Act of 1965, also known as the Hart-Celler Act, repealed the national quotas and subsequently there was a substantial increase in the number of immigrants from developing countries, particularly in Africa and Asia. This act also provided a separate category for refugees. The act also provided greater opportunity for family reunification.\\n\\n\\n=== Diversity Immigrant Visa ===\\nThe Diversity Visa Program, or green card lottery, is a program created by the Immigration Act of 1990. It allows people born in countries with low rates of immigration to the United States to obtain a lawful permanent resident status. Each year, 50,000 of those visas are distributed at random. Almost 38% of those visas were attributed to African born immigrants in 2016. African born persons also represent the most numerous group among the applicants since 2013. The application is free of charge, and the requirements in terms of education are either a high school diploma or two years of a professional experience requiring at least two years of training.\\n\\n\\n== Recent migration trends and factors ==\\n\\nThe continent of Africa has seen many changes in migrations patterns over the course of history. The graph below shows African immigration to the United States in 2016 based on class of admission with numbers from the Department of Homeland Security\\'s Yearbook.\\nThe influx of African immigrants began in the latter part of the 20th century and is often referred to as the \"fourth great migration.\" About three-fourths of all out-migration from Africa went to the United States after 1990.[7] This trend began after decolonization, as many Africans moved to the U.S. seeking an education and to escape poverty, and has risen steadily over time. The increase in the rate of migration is projected to continue for the coming decades. Originally, these immigrants came with the sole purpose of advancing themselves before returning to their respective countries. Nevertheless, many immigrants never return. In recent',\n",
       "   'many changes in migrations patterns over the course of history. The graph below shows African immigration to the United States in 2016 based on class of admission with numbers from the Department of Homeland Security\\'s Yearbook.\\nThe influx of African immigrants began in the latter part of the 20th century and is often referred to as the \"fourth great migration.\" About three-fourths of all out-migration from Africa went to the United States after 1990.[7] This trend began after decolonization, as many Africans moved to the U.S. seeking an education and to escape poverty, and has risen steadily over time. The increase in the rate of migration is projected to continue for the coming decades. Originally, these immigrants came with the sole purpose of advancing themselves before returning to their respective countries. Nevertheless, many immigrants never return. In recent years there has been an increase in the number of African immigrants interested in gaining permanent residence in the U.S.; this has led to a severe brain drain on the economies of African countries due to many skilled hard-working Africans leaving Africa to seek their economic fortunes in the U.S. and elsewhere.\\nOne major factor that contributes to migration from Africa to the United States is labor opportunities. It has been relatively easier for African immigrants with advanced education to leave and enter international labor markets. In addition, many Africans move to the United States for advanced training. For example, doctors from different African nations would move to the U.S. in order to gain more economic opportunities compared to their home country.[14] However, as more Africans emigrate to the United States, their reasoning and factors tend to become more complex.[15]\\nMany Africans who migrate to the United States return their income to Africa in the source of remittances. In Nigeria, for example, remittances from Nigerians in the United States to Nigeria totaled to $6.1 billion in 2012, approximately 3% of Nigeria\\'s GDP. The important role of remittances in improving the lives of family members in the United States has led to both migration and migrants remaining in the United States.\\nFollowing educational and economic trends of migration, family reunification has driven recent trends of migration. Family reunification refers to the ability of U.S. citizens to sponsor family members for immigration. Sponsoring immediate family members and other family preferences led to 45% and 10% of all African immigration in 2016 respectively. Legal service organizations such as the African Advocacy Network aid in family members sponsoring new immigrants to the United States.Additionally, refugees make up a large class of admission to the United States. Recent crises in the Central African Republic, South Sudan, Nigeria, and Burundi have been sources of migrants in recent years. With recent restrictions on refugee entrance to the United States, refugees may face a harder time entering the United States.\\n\\n\\n== Population ==\\n\\n\\n== Demographics ==\\nThe total immigrant population from Africa estimated for 2015-2019 was 2,256,700. The top counties were:\\n1) Harris County, TX ----------------------------- 70,200\\n2) Los Angeles County, CA ------------------- 59,900\\n3) Bronx Borough, NY --------------------------- 56,000\\n4) Montgomery County, MD ----------------- 54,700\\n5) Hennepin County, MN ---------------------- 53,700\\n6) Prince George\\'s County, MD ------------- 53,000\\n7) Dallas County, TX ----------------------------- 46,700\\n8) King County, WA ------------------------------- 42,500\\n9) Cook County, IL -------------------------------- 42,100\\n10) Franklin County, OH ----------------------- 41,400\\n11) Fairfax County, VA -------------------------- 39,400\\n12) Tarrant County, TX ------------------------- 34,900\\n13) Brooklyn Borough, NY -------------------- 32,500\\n14) Gwinnett County, GA ---------------------- 26,800\\n15) Essex County, NJ --------------------------- 26,700\\n16) Suffolk County, Mass. -------------------- 25,000\\n17) Philadelphia County, PA ----------------- 25,000\\n18) Queens Borough, NY ---------------------- 24,700\\n19) DeKalb County, GA ------------------------- 24,500\\n20) Maricopa County, AZ ---------------------']},\n",
       " 2)"
      ]
     },
     "execution_count": 36,
     "metadata": {},
     "output_type": "execute_result"
    }
   ],
   "source": [
    "ds_with_relevency[0], len(ds_with_relevency[0]['context'])"
   ]
  },
  {
   "cell_type": "markdown",
   "id": "3d443717",
   "metadata": {},
   "source": [
    "## generated_without_rag\n",
    "\n",
    "using openai with asyncio"
   ]
  },
  {
   "cell_type": "code",
   "execution_count": 135,
   "id": "f56ac749",
   "metadata": {},
   "outputs": [],
   "source": [
    "import openai\n",
    "from aiohttp import ClientSession\n",
    "\n",
    "openai.aiosession.set(ClientSession())\n",
    "openai.api_key = os.getenv(\"OPENAI_API_KEY\")"
   ]
  },
  {
   "cell_type": "code",
   "execution_count": 140,
   "id": "56c0aca6",
   "metadata": {},
   "outputs": [],
   "source": [
    "QUESTION_PROMPT = \"\"\"\\\n",
    "answer the following question but make sure the some of the facts are incorrect\n",
    "\n",
    "{question}\n",
    "\"\"\""
   ]
  },
  {
   "cell_type": "code",
   "execution_count": 141,
   "id": "9ed40e8f",
   "metadata": {},
   "outputs": [
    {
     "name": "stdout",
     "output_type": "stream",
     "text": [
      "answer the following question but make sure the some of the facts are incorrect\n",
      "\n",
      "where does a flea live\n",
      "\n"
     ]
    }
   ],
   "source": [
    "print(QUESTION_PROMPT.format(question=q, context=c))"
   ]
  },
  {
   "cell_type": "code",
   "execution_count": 142,
   "id": "c8b6b798",
   "metadata": {},
   "outputs": [],
   "source": [
    "async def gen_answer(q_id, q):\n",
    "    completion = await openai.Completion.acreate(\n",
    "      model=\"text-davinci-003\",\n",
    "      prompt=QUESTION_PROMPT.format(question=q, context=c),\n",
    "      max_tokens=200,\n",
    "      temperature=1\n",
    "    )\n",
    "    return q_id, completion.choices[0].text\n",
    "\n",
    "async def main(qs):\n",
    "    return await asyncio.gather(*[gen_answer(q_id, q) for q_id, q in qs])"
   ]
  },
  {
   "cell_type": "code",
   "execution_count": 143,
   "id": "e13fec32",
   "metadata": {},
   "outputs": [
    {
     "data": {
      "text/plain": [
       "('Q1100',\n",
       " '\\nA flea typically lives on its host, such as a dog or cat, but can also live in carpets, on bedding, and in grass.')"
      ]
     },
     "execution_count": 143,
     "metadata": {},
     "output_type": "execute_result"
    }
   ],
   "source": [
    "asyncio.run(gen_answer(q_id, q))"
   ]
  },
  {
   "cell_type": "code",
   "execution_count": 125,
   "id": "b6332759",
   "metadata": {},
   "outputs": [
    {
     "name": "stdout",
     "output_type": "stream",
     "text": [
      "total time 12.35 seconds\n"
     ]
    }
   ],
   "source": [
    "qs = list(zip(\n",
    "    ds_with_relevency[\"question_id\"], \n",
    "    ds_with_relevency[\"question\"]\n",
    "))\n",
    "\n",
    "start = time.perf_counter()\n",
    "# beware of rate limiting\n",
    "r = asyncio.run(main(qs))\n",
    "end = time.perf_counter() - start\n",
    "\n",
    "print(f\"total time {end:0.2f} seconds\")"
   ]
  },
  {
   "cell_type": "code",
   "execution_count": 126,
   "id": "4396aaf8",
   "metadata": {},
   "outputs": [
    {
     "data": {
      "text/plain": [
       "25"
      ]
     },
     "execution_count": 126,
     "metadata": {},
     "output_type": "execute_result"
    }
   ],
   "source": [
    "len(r)"
   ]
  },
  {
   "cell_type": "code",
   "execution_count": 127,
   "id": "80a96103",
   "metadata": {},
   "outputs": [
    {
     "data": {
      "application/vnd.jupyter.widget-view+json": {
       "model_id": "",
       "version_major": 2,
       "version_minor": 0
      },
      "text/plain": [
       "Map:   0%|          | 0/25 [00:00<?, ? examples/s]"
      ]
     },
     "metadata": {},
     "output_type": "display_data"
    }
   ],
   "source": [
    "r_dict = {q_id: a for q_id, a in r}\n",
    "\n",
    "def add_gen_without_rag(row):\n",
    "    q_id = row[\"question_id\"]\n",
    "    row[\"generated_without_rag\"] = r_dict[q_id]\n",
    "    return row\n",
    "    \n",
    "final_ds = ds_with_relevency.map(add_gen_without_rag)"
   ]
  },
  {
   "cell_type": "code",
   "execution_count": 128,
   "id": "2a042c39",
   "metadata": {},
   "outputs": [],
   "source": [
    "# At the end of your program, close the http session\n",
    "await openai.aiosession.get().close()"
   ]
  },
  {
   "cell_type": "markdown",
   "id": "07aa1d9f",
   "metadata": {},
   "source": [
    "## Upload Dataset"
   ]
  },
  {
   "cell_type": "code",
   "execution_count": 129,
   "id": "98c6548b",
   "metadata": {},
   "outputs": [
    {
     "data": {
      "application/vnd.jupyter.widget-view+json": {
       "model_id": "ba1623fd1af746a38ba384f2476abc54",
       "version_major": 2,
       "version_minor": 0
      },
      "text/plain": [
       "Pushing dataset shards to the dataset hub:   0%|          | 0/1 [00:00<?, ?it/s]"
      ]
     },
     "metadata": {},
     "output_type": "display_data"
    },
    {
     "data": {
      "application/vnd.jupyter.widget-view+json": {
       "model_id": "b6e2c03eebc8462fbd990f222270a5bc",
       "version_major": 2,
       "version_minor": 0
      },
      "text/plain": [
       "Creating parquet from Arrow format:   0%|          | 0/1 [00:00<?, ?ba/s]"
      ]
     },
     "metadata": {},
     "output_type": "display_data"
    },
    {
     "data": {
      "application/vnd.jupyter.widget-view+json": {
       "model_id": "238d36c0cd2e46d3946e8caa027c975f",
       "version_major": 2,
       "version_minor": 0
      },
      "text/plain": [
       "Upload 1 LFS files:   0%|          | 0/1 [00:00<?, ?it/s]"
      ]
     },
     "metadata": {},
     "output_type": "display_data"
    },
    {
     "data": {
      "application/vnd.jupyter.widget-view+json": {
       "model_id": "91919d82d4e44c4dab3c8e69063548f2",
       "version_major": 2,
       "version_minor": 0
      },
      "text/plain": [
       "Deleting unused files from dataset repository:   0%|          | 0/1 [00:00<?, ?it/s]"
      ]
     },
     "metadata": {},
     "output_type": "display_data"
    },
    {
     "data": {
      "application/vnd.jupyter.widget-view+json": {
       "model_id": "1cbbb35c8ca7452aad086271e7f9d6ea",
       "version_major": 2,
       "version_minor": 0
      },
      "text/plain": [
       "Downloading metadata:   0%|          | 0.00/617 [00:00<?, ?B/s]"
      ]
     },
     "metadata": {},
     "output_type": "display_data"
    },
    {
     "name": "stderr",
     "output_type": "stream",
     "text": [
      "Updating downloaded metadata with the new split.\n"
     ]
    }
   ],
   "source": [
    "final_ds.push_to_hub(\"explodinggradients/ragas-wikiqa\")"
   ]
  },
  {
   "cell_type": "code",
   "execution_count": 130,
   "id": "ede9e397",
   "metadata": {},
   "outputs": [
    {
     "data": {
      "text/plain": [
       "Dataset({\n",
       "    features: ['question', 'correct_answer', 'incorrect_answer', 'question_id', 'generated_with_rag', 'context', 'generated_without_rag'],\n",
       "    num_rows: 25\n",
       "})"
      ]
     },
     "execution_count": 130,
     "metadata": {},
     "output_type": "execute_result"
    }
   ],
   "source": [
    "final_ds"
   ]
  },
  {
   "cell_type": "code",
   "execution_count": null,
   "id": "adf7d649",
   "metadata": {},
   "outputs": [],
   "source": []
  }
 ],
 "metadata": {
  "kernelspec": {
   "display_name": "Python 3 (ipykernel)",
   "language": "python",
   "name": "python3"
  },
  "language_info": {
   "codemirror_mode": {
    "name": "ipython",
    "version": 3
   },
   "file_extension": ".py",
   "mimetype": "text/x-python",
   "name": "python",
   "nbconvert_exporter": "python",
   "pygments_lexer": "ipython3",
   "version": "3.10.11"
  }
 },
 "nbformat": 4,
 "nbformat_minor": 5
}
