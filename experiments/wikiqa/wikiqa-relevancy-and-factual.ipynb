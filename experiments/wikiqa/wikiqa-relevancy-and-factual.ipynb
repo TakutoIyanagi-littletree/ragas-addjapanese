{
 "cells": [
  {
   "cell_type": "code",
   "execution_count": 1,
   "id": "c86439f8",
   "metadata": {},
   "outputs": [],
   "source": [
    "# NOTE: This is ONLY necessary in jupyter notebook.\n",
    "# Details: Jupyter runs an event-loop behind the scenes. \n",
    "#          This results in nested event-loops when we start an event-loop to make async queries.\n",
    "#          This is normally not allowed, we use nest_asyncio to allow it for convenience.  \n",
    "import nest_asyncio\n",
    "nest_asyncio.apply()"
   ]
  },
  {
   "cell_type": "code",
   "execution_count": 2,
   "id": "294900ba",
   "metadata": {},
   "outputs": [],
   "source": [
    "# only run this if your have an editable install\n",
    "%load_ext autoreload\n",
    "%autoreload 2"
   ]
  },
  {
   "cell_type": "markdown",
   "id": "7cc9efa5",
   "metadata": {},
   "source": [
    "## Clean dataset\n",
    "\n",
    "steps\n",
    "1. Remove failed_wikis\n",
    "2. group by question_id to get unqiue questions and for each question_id select a correct and incorrect answer to be used"
   ]
  },
  {
   "cell_type": "code",
   "execution_count": 3,
   "id": "297b0b44",
   "metadata": {},
   "outputs": [],
   "source": [
    "from datasets import load_dataset, concatenate_datasets, Dataset\n",
    "import pandas as pd\n",
    "import time\n",
    "import asyncio\n",
    "import os"
   ]
  },
  {
   "cell_type": "code",
   "execution_count": 4,
   "id": "f5a2c091",
   "metadata": {},
   "outputs": [
    {
     "name": "stderr",
     "output_type": "stream",
     "text": [
      "Found cached dataset wiki_qa (/home/jjmachan/.cache/huggingface/datasets/wiki_qa/default/0.1.0/d2d236b5cbdc6fbdab45d168b4d678a002e06ddea3525733a24558150585951c)\n"
     ]
    },
    {
     "data": {
      "text/plain": [
       "Dataset({\n",
       "    features: ['question_id', 'question', 'document_title', 'answer', 'label'],\n",
       "    num_rows: 6165\n",
       "})"
      ]
     },
     "execution_count": 4,
     "metadata": {},
     "output_type": "execute_result"
    }
   ],
   "source": [
    "DATASET_URL = \"wiki_qa\"\n",
    "SPLIT = \"test\"\n",
    "ds = load_dataset(DATASET_URL, split=SPLIT)\n",
    "ds"
   ]
  },
  {
   "cell_type": "code",
   "execution_count": 5,
   "id": "6a44cb26",
   "metadata": {},
   "outputs": [
    {
     "data": {
      "text/plain": [
       "16"
      ]
     },
     "execution_count": 5,
     "metadata": {},
     "output_type": "execute_result"
    }
   ],
   "source": [
    "# load failed\n",
    "import json\n",
    "\n",
    "with open('failed_wikis') as f:\n",
    "    failed = json.load(f)\n",
    "    \n",
    "len(failed)"
   ]
  },
  {
   "cell_type": "code",
   "execution_count": 6,
   "id": "1c3093bc",
   "metadata": {},
   "outputs": [
    {
     "name": "stderr",
     "output_type": "stream",
     "text": [
      "Loading cached processed dataset at /home/jjmachan/.cache/huggingface/datasets/wiki_qa/default/0.1.0/d2d236b5cbdc6fbdab45d168b4d678a002e06ddea3525733a24558150585951c/cache-07ce3fbd049c5d55.arrow\n"
     ]
    },
    {
     "data": {
      "text/plain": [
       "(6049, 5)"
      ]
     },
     "execution_count": 6,
     "metadata": {},
     "output_type": "execute_result"
    }
   ],
   "source": [
    "def clean_failed(row):\n",
    "    if row['document_title'] in failed:\n",
    "        return False\n",
    "    return True\n",
    "\n",
    "cleaned_ds1 = ds.filter(clean_failed, batched=False)\n",
    "cleaned_ds1.shape"
   ]
  },
  {
   "cell_type": "code",
   "execution_count": 7,
   "id": "b6065249",
   "metadata": {},
   "outputs": [
    {
     "data": {
      "text/html": [
       "<div>\n",
       "<style scoped>\n",
       "    .dataframe tbody tr th:only-of-type {\n",
       "        vertical-align: middle;\n",
       "    }\n",
       "\n",
       "    .dataframe tbody tr th {\n",
       "        vertical-align: top;\n",
       "    }\n",
       "\n",
       "    .dataframe thead th {\n",
       "        text-align: right;\n",
       "    }\n",
       "</style>\n",
       "<table border=\"1\" class=\"dataframe\">\n",
       "  <thead>\n",
       "    <tr style=\"text-align: right;\">\n",
       "      <th></th>\n",
       "      <th>question_id</th>\n",
       "      <th>question</th>\n",
       "      <th>document_title</th>\n",
       "      <th>answer</th>\n",
       "      <th>label</th>\n",
       "    </tr>\n",
       "  </thead>\n",
       "  <tbody>\n",
       "    <tr>\n",
       "      <th>0</th>\n",
       "      <td>Q0</td>\n",
       "      <td>HOW AFRICAN AMERICANS WERE IMMIGRATED TO THE US</td>\n",
       "      <td>African immigration to the United States</td>\n",
       "      <td>African immigration to the United States refer...</td>\n",
       "      <td>0</td>\n",
       "    </tr>\n",
       "    <tr>\n",
       "      <th>1</th>\n",
       "      <td>Q0</td>\n",
       "      <td>HOW AFRICAN AMERICANS WERE IMMIGRATED TO THE US</td>\n",
       "      <td>African immigration to the United States</td>\n",
       "      <td>The term African in the scope of this article ...</td>\n",
       "      <td>0</td>\n",
       "    </tr>\n",
       "    <tr>\n",
       "      <th>2</th>\n",
       "      <td>Q0</td>\n",
       "      <td>HOW AFRICAN AMERICANS WERE IMMIGRATED TO THE US</td>\n",
       "      <td>African immigration to the United States</td>\n",
       "      <td>From the Immigration and Nationality Act of 19...</td>\n",
       "      <td>0</td>\n",
       "    </tr>\n",
       "    <tr>\n",
       "      <th>3</th>\n",
       "      <td>Q0</td>\n",
       "      <td>HOW AFRICAN AMERICANS WERE IMMIGRATED TO THE US</td>\n",
       "      <td>African immigration to the United States</td>\n",
       "      <td>African immigrants in the United States come f...</td>\n",
       "      <td>0</td>\n",
       "    </tr>\n",
       "    <tr>\n",
       "      <th>4</th>\n",
       "      <td>Q0</td>\n",
       "      <td>HOW AFRICAN AMERICANS WERE IMMIGRATED TO THE US</td>\n",
       "      <td>African immigration to the United States</td>\n",
       "      <td>They include people from different national, l...</td>\n",
       "      <td>0</td>\n",
       "    </tr>\n",
       "  </tbody>\n",
       "</table>\n",
       "</div>"
      ],
      "text/plain": [
       "  question_id                                         question  \\\n",
       "0          Q0  HOW AFRICAN AMERICANS WERE IMMIGRATED TO THE US   \n",
       "1          Q0  HOW AFRICAN AMERICANS WERE IMMIGRATED TO THE US   \n",
       "2          Q0  HOW AFRICAN AMERICANS WERE IMMIGRATED TO THE US   \n",
       "3          Q0  HOW AFRICAN AMERICANS WERE IMMIGRATED TO THE US   \n",
       "4          Q0  HOW AFRICAN AMERICANS WERE IMMIGRATED TO THE US   \n",
       "\n",
       "                             document_title  \\\n",
       "0  African immigration to the United States   \n",
       "1  African immigration to the United States   \n",
       "2  African immigration to the United States   \n",
       "3  African immigration to the United States   \n",
       "4  African immigration to the United States   \n",
       "\n",
       "                                              answer  label  \n",
       "0  African immigration to the United States refer...      0  \n",
       "1  The term African in the scope of this article ...      0  \n",
       "2  From the Immigration and Nationality Act of 19...      0  \n",
       "3  African immigrants in the United States come f...      0  \n",
       "4  They include people from different national, l...      0  "
      ]
     },
     "execution_count": 7,
     "metadata": {},
     "output_type": "execute_result"
    }
   ],
   "source": [
    "df = cleaned_ds1.to_pandas()\n",
    "df.head()"
   ]
  },
  {
   "cell_type": "code",
   "execution_count": 8,
   "id": "8c8d779f",
   "metadata": {},
   "outputs": [
    {
     "data": {
      "text/plain": [
       "617"
      ]
     },
     "execution_count": 8,
     "metadata": {},
     "output_type": "execute_result"
    }
   ],
   "source": [
    "# number of unique question id's\n",
    "len(df.groupby(\"question_id\")[\"question\"])"
   ]
  },
  {
   "cell_type": "code",
   "execution_count": 9,
   "id": "c69bc13d",
   "metadata": {},
   "outputs": [
    {
     "data": {
      "text/plain": [
       "232"
      ]
     },
     "execution_count": 9,
     "metadata": {},
     "output_type": "execute_result"
    }
   ],
   "source": [
    "# number of unique question id's without correct and incorrect answer\n",
    "def count(df):\n",
    "    has_corr = df.loc[df[\"label\"] == 1][\"answer\"].count() > 0\n",
    "    has_in_corr = df.loc[df[\"label\"] == 0][\"answer\"].count() > 0\n",
    "    return has_corr and has_in_corr\n",
    "\n",
    "df.groupby(\"question_id\").apply(count).sum()"
   ]
  },
  {
   "cell_type": "code",
   "execution_count": 10,
   "id": "8e07ea12",
   "metadata": {},
   "outputs": [],
   "source": [
    "def clean(df):\n",
    "    try:\n",
    "        ques = df[\"question\"].sample().iloc[0]\n",
    "        corr = df.loc[df[\"label\"] == 1][\"answer\"].sample().iloc[0]\n",
    "        in_corr = df.loc[df[\"label\"] == 0][\"answer\"].sample().iloc[0]\n",
    "    except ValueError:\n",
    "        return None\n",
    "    return pd.Series(\n",
    "        data=[ques, corr, in_corr], \n",
    "        index=\"question,correct_answer,incorrect_answer\".split(',')\n",
    "    )"
   ]
  },
  {
   "cell_type": "code",
   "execution_count": 11,
   "id": "c7e35464",
   "metadata": {},
   "outputs": [],
   "source": [
    "cleaned_df = df.groupby(\"question_id\").apply(clean).dropna()"
   ]
  },
  {
   "cell_type": "code",
   "execution_count": 12,
   "id": "06c24ca8",
   "metadata": {},
   "outputs": [
    {
     "data": {
      "text/html": [
       "<div>\n",
       "<style scoped>\n",
       "    .dataframe tbody tr th:only-of-type {\n",
       "        vertical-align: middle;\n",
       "    }\n",
       "\n",
       "    .dataframe tbody tr th {\n",
       "        vertical-align: top;\n",
       "    }\n",
       "\n",
       "    .dataframe thead th {\n",
       "        text-align: right;\n",
       "    }\n",
       "</style>\n",
       "<table border=\"1\" class=\"dataframe\">\n",
       "  <thead>\n",
       "    <tr style=\"text-align: right;\">\n",
       "      <th></th>\n",
       "      <th>question</th>\n",
       "      <th>correct_answer</th>\n",
       "      <th>incorrect_answer</th>\n",
       "    </tr>\n",
       "    <tr>\n",
       "      <th>question_id</th>\n",
       "      <th></th>\n",
       "      <th></th>\n",
       "      <th></th>\n",
       "    </tr>\n",
       "  </thead>\n",
       "  <tbody>\n",
       "    <tr>\n",
       "      <th>Q0</th>\n",
       "      <td>HOW AFRICAN AMERICANS WERE IMMIGRATED TO THE US</td>\n",
       "      <td>As such, African immigrants are to be distingu...</td>\n",
       "      <td>From the Immigration and Nationality Act of 19...</td>\n",
       "    </tr>\n",
       "    <tr>\n",
       "      <th>Q1012</th>\n",
       "      <td>what are points on a mortgage</td>\n",
       "      <td>Points, sometimes also called a \"discount poin...</td>\n",
       "      <td>Discount points may be different from originat...</td>\n",
       "    </tr>\n",
       "    <tr>\n",
       "      <th>Q102</th>\n",
       "      <td>how does interlibrary loan work</td>\n",
       "      <td>The user makes a request with their local libr...</td>\n",
       "      <td>Although books and journal articles are the mo...</td>\n",
       "    </tr>\n",
       "    <tr>\n",
       "      <th>Q1027</th>\n",
       "      <td>WHAT IS A FY QUARTER</td>\n",
       "      <td>A fiscal year (or financial year, or sometimes...</td>\n",
       "      <td>Fiscal years vary between businesses and count...</td>\n",
       "    </tr>\n",
       "    <tr>\n",
       "      <th>Q1032</th>\n",
       "      <td>who wrote a rose is a rose is a rose</td>\n",
       "      <td>The sentence \"Rose is a rose is a rose is a ro...</td>\n",
       "      <td>I know that in daily life we don't go around s...</td>\n",
       "    </tr>\n",
       "  </tbody>\n",
       "</table>\n",
       "</div>"
      ],
      "text/plain": [
       "                                                    question  \\\n",
       "question_id                                                    \n",
       "Q0           HOW AFRICAN AMERICANS WERE IMMIGRATED TO THE US   \n",
       "Q1012                          what are points on a mortgage   \n",
       "Q102                         how does interlibrary loan work   \n",
       "Q1027                                   WHAT IS A FY QUARTER   \n",
       "Q1032                   who wrote a rose is a rose is a rose   \n",
       "\n",
       "                                                correct_answer  \\\n",
       "question_id                                                      \n",
       "Q0           As such, African immigrants are to be distingu...   \n",
       "Q1012        Points, sometimes also called a \"discount poin...   \n",
       "Q102         The user makes a request with their local libr...   \n",
       "Q1027        A fiscal year (or financial year, or sometimes...   \n",
       "Q1032        The sentence \"Rose is a rose is a rose is a ro...   \n",
       "\n",
       "                                              incorrect_answer  \n",
       "question_id                                                     \n",
       "Q0           From the Immigration and Nationality Act of 19...  \n",
       "Q1012        Discount points may be different from originat...  \n",
       "Q102         Although books and journal articles are the mo...  \n",
       "Q1027        Fiscal years vary between businesses and count...  \n",
       "Q1032        I know that in daily life we don't go around s...  "
      ]
     },
     "execution_count": 12,
     "metadata": {},
     "output_type": "execute_result"
    }
   ],
   "source": [
    "cleaned_df.head()"
   ]
  },
  {
   "cell_type": "code",
   "execution_count": 18,
   "id": "87321562",
   "metadata": {},
   "outputs": [
    {
     "data": {
      "text/plain": [
       "(232, 3)"
      ]
     },
     "execution_count": 18,
     "metadata": {},
     "output_type": "execute_result"
    }
   ],
   "source": [
    "cleaned_df.shape"
   ]
  },
  {
   "cell_type": "code",
   "execution_count": 13,
   "id": "c7ed3ec0",
   "metadata": {},
   "outputs": [
    {
     "data": {
      "text/plain": [
       "('how does interlibrary loan work',\n",
       " 'The user makes a request with their local library, which, acting as an intermediary, identifies owners of the desired item, places the request, receives the item, makes it available to the user, and arranges for its return.',\n",
       " 'Although books and journal articles are the most frequently requested items, some libraries will lend audio recordings, video recordings, maps, sheet music, and microforms of all kinds.')"
      ]
     },
     "execution_count": 13,
     "metadata": {},
     "output_type": "execute_result"
    }
   ],
   "source": [
    "q, c, i = cleaned_df.iloc[2]\n",
    "q, c, i"
   ]
  },
  {
   "cell_type": "markdown",
   "id": "752e6348",
   "metadata": {},
   "source": [
    "## get generated_answer and context"
   ]
  },
  {
   "cell_type": "code",
   "execution_count": 15,
   "id": "41ba3a24",
   "metadata": {},
   "outputs": [],
   "source": [
    "# load the index\n",
    "from llama_index import StorageContext, load_index_from_storage, ServiceContext\n",
    "\n",
    "# CHANGE SERVICE_CONTEXT HERE!!!\n",
    "openai_sc = ServiceContext.from_defaults()\n",
    "service_context = openai_sc\n",
    "\n",
    "# rebuild storage context\n",
    "storage_context = StorageContext.from_defaults(persist_dir=\"./storage\")\n",
    "\n",
    "# load index\n",
    "index = load_index_from_storage(storage_context)"
   ]
  },
  {
   "cell_type": "code",
   "execution_count": 16,
   "id": "7f092993",
   "metadata": {},
   "outputs": [],
   "source": [
    "from llama_index import (\n",
    "    GPTVectorStoreIndex,\n",
    "    ResponseSynthesizer,\n",
    ")\n",
    "from llama_index.retrievers import VectorIndexRetriever\n",
    "from llama_index.query_engine import RetrieverQueryEngine\n",
    "from llama_index.indices.postprocessor import SimilarityPostprocessor\n",
    "\n",
    "# configure retriever\n",
    "retriever = VectorIndexRetriever(\n",
    "    index=index, \n",
    "    similarity_top_k=2,\n",
    ")\n",
    "\n",
    "# configure response synthesizer\n",
    "response_synthesizer = ResponseSynthesizer.from_args(\n",
    "    node_postprocessors=[\n",
    "        SimilarityPostprocessor(similarity_cutoff=0.7)\n",
    "    ]\n",
    ")\n",
    "\n",
    "# assemble query engine\n",
    "query_engine = RetrieverQueryEngine(\n",
    "    retriever=retriever,\n",
    "    response_synthesizer=response_synthesizer,\n",
    ")"
   ]
  },
  {
   "cell_type": "code",
   "execution_count": 19,
   "id": "5092f5a8",
   "metadata": {},
   "outputs": [
    {
     "data": {
      "text/plain": [
       "(232, 4)"
      ]
     },
     "execution_count": 19,
     "metadata": {},
     "output_type": "execute_result"
    }
   ],
   "source": [
    "ds_from_df = Dataset.from_pandas(cleaned_df)\n",
    "ds_from_df.shape"
   ]
  },
  {
   "cell_type": "code",
   "execution_count": 20,
   "id": "f8ef04ba",
   "metadata": {},
   "outputs": [
    {
     "data": {
      "application/vnd.jupyter.widget-view+json": {
       "model_id": "",
       "version_major": 2,
       "version_minor": 0
      },
      "text/plain": [
       "Map:   0%|          | 0/232 [00:00<?, ? examples/s]"
      ]
     },
     "metadata": {},
     "output_type": "display_data"
    }
   ],
   "source": [
    "def get_response(row):\n",
    "    r = query_engine.query(row[\"question\"])\n",
    "    if r.response is None:\n",
    "        r_str = \"\"\n",
    "        c = []\n",
    "    else:\n",
    "        r_str = r.response\n",
    "        c = [sn.node.text for sn in r.source_nodes]\n",
    "    row[\"generated_with_rag\"] = r_str\n",
    "    row[\"context\"] = c\n",
    "    return row\n",
    "\n",
    "ds_with_relevency = ds_from_df.map(get_response)"
   ]
  },
  {
   "cell_type": "code",
   "execution_count": 45,
   "id": "1d2420cd",
   "metadata": {},
   "outputs": [
    {
     "data": {
      "text/plain": [
       "(232, 6)"
      ]
     },
     "execution_count": 45,
     "metadata": {},
     "output_type": "execute_result"
    }
   ],
   "source": [
    "ds_with_relevency.shape"
   ]
  },
  {
   "cell_type": "markdown",
   "id": "3d443717",
   "metadata": {},
   "source": [
    "## generated_without_rag\n",
    "\n",
    "using openai with asyncio"
   ]
  },
  {
   "cell_type": "code",
   "execution_count": 54,
   "id": "56c0aca6",
   "metadata": {},
   "outputs": [],
   "source": [
    "QUESTION_PROMPT = \"\"\"\\\n",
    "Answer the question, each answer should contain atleast one incorrect statements. Make mistakes in dates,names or other entities.\n",
    "Question: {question}\n",
    "Answer:\n",
    "\"\"\""
   ]
  },
  {
   "cell_type": "code",
   "execution_count": 55,
   "id": "9ed40e8f",
   "metadata": {},
   "outputs": [
    {
     "name": "stdout",
     "output_type": "stream",
     "text": [
      "Answer the question, each answer should contain atleast one incorrect statements. Make mistakes in dates,names or other entities.\n",
      "Question: where does a flea live\n",
      "Answer:\n",
      "\n"
     ]
    }
   ],
   "source": [
    "print(QUESTION_PROMPT.format(question=q))"
   ]
  },
  {
   "cell_type": "code",
   "execution_count": 56,
   "id": "f06bde4e",
   "metadata": {},
   "outputs": [],
   "source": [
    "import logging\n",
    "import openai\n",
    "import os\n",
    "import backoff\n",
    "\n",
    "openai.api_key = os.environ.get(\"OPENAI_API_KEY\")\n",
    "\n",
    "# TODO better way of logging backoffs\n",
    "logging.getLogger(\"backoff\").addHandler(logging.StreamHandler())\n",
    "\n",
    "\n",
    "# each of these calls have to check for\n",
    "# https://platform.openai.com/docs/guides/error-codes/api-errors\n",
    "# and handle it gracefully\n",
    "@backoff.on_exception(backoff.expo, openai.APIError, max_tries=5)\n",
    "def llm(prompts: list[str], **kwargs):\n",
    "    \"\"\"\n",
    "    TODOs\n",
    "\n",
    "    - what happens when backoff fails?\n",
    "    \"\"\"\n",
    "    response = openai.Completion.create(\n",
    "        model=kwargs.get(\"model\", \"text-davinci-003\"),\n",
    "        prompt=prompts,\n",
    "        temperature=kwargs.get(\"temperature\", 0),\n",
    "        top_p=kwargs.get(\"top_p\", 1),\n",
    "        frequency_penalty=kwargs.get(\"frequency_penalty\", 0.0),\n",
    "        presence_penalty=kwargs.get(\"presence_penalty\", 0.0),\n",
    "        max_tokens=kwargs.get(\"max_tokens\", 500),\n",
    "        logprobs=kwargs.get(\"logprobs\", 1),\n",
    "        n=kwargs.get(\"n\", 1),\n",
    "    )\n",
    "\n",
    "    return response\n",
    "\n",
    "def gen_answers(row):\n",
    "    prompts = [QUESTION_PROMPT.format(question=q) for q in row[\"question\"]]\n",
    "    completion = llm(prompts=prompts)\n",
    "    row[\"generated_without_rag\"] = [c[\"text\"] for c in completion.choices]\n",
    "    \n",
    "    return row"
   ]
  },
  {
   "cell_type": "code",
   "execution_count": 59,
   "id": "e13fec32",
   "metadata": {},
   "outputs": [
    {
     "data": {
      "application/vnd.jupyter.widget-view+json": {
       "model_id": "",
       "version_major": 2,
       "version_minor": 0
      },
      "text/plain": [
       "Map:   0%|          | 0/232 [00:00<?, ? examples/s]"
      ]
     },
     "metadata": {},
     "output_type": "display_data"
    }
   ],
   "source": [
    "final_ds = ds_with_relevency.map(\n",
    "    gen_answers, batched=True, batch_size=5\n",
    ")"
   ]
  },
  {
   "cell_type": "markdown",
   "id": "07aa1d9f",
   "metadata": {},
   "source": [
    "## Upload Dataset"
   ]
  },
  {
   "cell_type": "code",
   "execution_count": 60,
   "id": "98c6548b",
   "metadata": {},
   "outputs": [
    {
     "data": {
      "application/vnd.jupyter.widget-view+json": {
       "model_id": "95bb2ad4af6b4d55a86044271ac90581",
       "version_major": 2,
       "version_minor": 0
      },
      "text/plain": [
       "Pushing dataset shards to the dataset hub:   0%|          | 0/1 [00:00<?, ?it/s]"
      ]
     },
     "metadata": {},
     "output_type": "display_data"
    },
    {
     "data": {
      "application/vnd.jupyter.widget-view+json": {
       "model_id": "2947cd4678914ee685cd8290b9e4078c",
       "version_major": 2,
       "version_minor": 0
      },
      "text/plain": [
       "Creating parquet from Arrow format:   0%|          | 0/1 [00:00<?, ?ba/s]"
      ]
     },
     "metadata": {},
     "output_type": "display_data"
    },
    {
     "data": {
      "application/vnd.jupyter.widget-view+json": {
       "model_id": "f7e99b5a2ffe4e30bbbc08f418cdc683",
       "version_major": 2,
       "version_minor": 0
      },
      "text/plain": [
       "Upload 1 LFS files:   0%|          | 0/1 [00:00<?, ?it/s]"
      ]
     },
     "metadata": {},
     "output_type": "display_data"
    },
    {
     "data": {
      "application/vnd.jupyter.widget-view+json": {
       "model_id": "3d74d1b2db7d4a0d87f2d348d964f9ae",
       "version_major": 2,
       "version_minor": 0
      },
      "text/plain": [
       "Deleting unused files from dataset repository:   0%|          | 0/1 [00:00<?, ?it/s]"
      ]
     },
     "metadata": {},
     "output_type": "display_data"
    },
    {
     "name": "stderr",
     "output_type": "stream",
     "text": [
      "Updating downloaded metadata with the new split.\n"
     ]
    }
   ],
   "source": [
    "final_ds.push_to_hub(\"explodinggradients/ragas-wikiqa\")"
   ]
  },
  {
   "cell_type": "code",
   "execution_count": 61,
   "id": "ede9e397",
   "metadata": {},
   "outputs": [
    {
     "data": {
      "text/plain": [
       "Dataset({\n",
       "    features: ['question', 'correct_answer', 'incorrect_answer', 'question_id', 'generated_with_rag', 'context', 'generated_without_rag'],\n",
       "    num_rows: 232\n",
       "})"
      ]
     },
     "execution_count": 61,
     "metadata": {},
     "output_type": "execute_result"
    }
   ],
   "source": [
    "final_ds"
   ]
  }
 ],
 "metadata": {
  "kernelspec": {
   "display_name": "Python 3 (ipykernel)",
   "language": "python",
   "name": "python3"
  },
  "language_info": {
   "codemirror_mode": {
    "name": "ipython",
    "version": 3
   },
   "file_extension": ".py",
   "mimetype": "text/x-python",
   "name": "python",
   "nbconvert_exporter": "python",
   "pygments_lexer": "ipython3",
   "version": "3.10.11"
  }
 },
 "nbformat": 4,
 "nbformat_minor": 5
}
