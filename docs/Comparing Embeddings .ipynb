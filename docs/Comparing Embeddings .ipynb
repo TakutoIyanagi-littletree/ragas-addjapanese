{
 "cells": [
  {
   "cell_type": "markdown",
   "id": "6be79b52",
   "metadata": {},
   "source": [
    "### Generate test data "
   ]
  },
  {
   "cell_type": "code",
   "execution_count": 1,
   "id": "ee8f702c",
   "metadata": {},
   "outputs": [
    {
     "name": "stderr",
     "output_type": "stream",
     "text": [
      "/opt/anaconda3/envs/ragas/lib/python3.10/site-packages/tqdm/auto.py:21: TqdmWarning: IProgress not found. Please update jupyter and ipywidgets. See https://ipywidgets.readthedocs.io/en/stable/user_install.html\n",
      "  from .autonotebook import tqdm as notebook_tqdm\n"
     ]
    }
   ],
   "source": [
    "import os\n",
    "import json``\n",
    "from llama_index import download_loader\n",
    "from ragas.testset import TestsetGenerator"
   ]
  },
  {
   "cell_type": "code",
   "execution_count": 2,
   "id": "32b4cdbe",
   "metadata": {},
   "outputs": [],
   "source": [
    "SemanticScholarReader = download_loader(\"SemanticScholarReader\")\n",
    "loader = SemanticScholarReader()\n",
    "# narrow down the search space\n",
    "query_space = \"large language models\"\n",
    "# increase limit to get more documents\n",
    "documents = loader.load_data(query=query_space, limit=30)"
   ]
  },
  {
   "cell_type": "code",
   "execution_count": 9,
   "id": "a04cc99b",
   "metadata": {},
   "outputs": [
    {
     "name": "stderr",
     "output_type": "stream",
     "text": [
      "  0%|                                                            | 0/10 [00:40<?, ?it/s]\n"
     ]
    }
   ],
   "source": [
    "testsetgenerator = TestsetGenerator.from_default()\n",
    "test_size = 10  # Number of samples to generate\n",
    "testset = testsetgenerator.generate(documents, test_size=test_size)"
   ]
  },
  {
   "cell_type": "code",
   "execution_count": 12,
   "id": "fe804d76",
   "metadata": {},
   "outputs": [
    {
     "data": {
      "text/plain": [
       "30"
      ]
     },
     "execution_count": 12,
     "metadata": {},
     "output_type": "execute_result"
    }
   ],
   "source": [
    "len(documents)"
   ]
  },
  {
   "cell_type": "markdown",
   "id": "47b03469",
   "metadata": {},
   "source": [
    "## Build your RAG & collect questions, retrieved context and generated answer"
   ]
  },
  {
   "cell_type": "code",
   "execution_count": 6,
   "id": "cdc576c8",
   "metadata": {},
   "outputs": [],
   "source": [
    "# attach to the same event-loop\n",
    "import nest_asyncio\n",
    "\n",
    "nest_asyncio.apply()"
   ]
  },
  {
   "cell_type": "code",
   "execution_count": 7,
   "id": "9a2f6e01",
   "metadata": {},
   "outputs": [],
   "source": [
    "from llama_index import VectorStoreIndex, SimpleDirectoryReader, ServiceContext,OpenAIEmbedding\n",
    "\n",
    "import pandas as pd"
   ]
  },
  {
   "cell_type": "code",
   "execution_count": 8,
   "id": "583dbc89",
   "metadata": {},
   "outputs": [],
   "source": [
    "embed_model = OpenAIEmbedding()\n",
    "\n",
    "vector_index = VectorStoreIndex.from_documents(\n",
    "    documents, service_context=ServiceContext.from_defaults(chunk_size=512),\n",
    "    embed_model=embed_model,\n",
    ")\n",
    "\n",
    "query_engine = vector_index.as_query_engine()"
   ]
  },
  {
   "cell_type": "code",
   "execution_count": null,
   "id": "4584eb63",
   "metadata": {},
   "outputs": [],
   "source": []
  }
 ],
 "metadata": {
  "kernelspec": {
   "display_name": "ragas",
   "language": "python",
   "name": "ragas"
  },
  "language_info": {
   "codemirror_mode": {
    "name": "ipython",
    "version": 3
   },
   "file_extension": ".py",
   "mimetype": "text/x-python",
   "name": "python",
   "nbconvert_exporter": "python",
   "pygments_lexer": "ipython3",
   "version": "3.10.8"
  }
 },
 "nbformat": 4,
 "nbformat_minor": 5
}
