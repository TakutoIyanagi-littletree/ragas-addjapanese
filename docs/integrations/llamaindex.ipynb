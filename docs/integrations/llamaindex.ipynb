{
 "cells": [
  {
   "cell_type": "markdown",
   "id": "49d9c961",
   "metadata": {},
   "source": [
    "## Create Index"
   ]
  },
  {
   "cell_type": "code",
   "execution_count": 8,
   "id": "5bd7048a",
   "metadata": {},
   "outputs": [],
   "source": [
    "%load_ext autoreload\n",
    "%autoreload 2"
   ]
  },
  {
   "cell_type": "code",
   "execution_count": 1,
   "id": "37a9b094",
   "metadata": {},
   "outputs": [],
   "source": [
    "# attach to the same event-loop\n",
    "import nest_asyncio\n",
    "\n",
    "nest_asyncio.apply()"
   ]
  },
  {
   "cell_type": "code",
   "execution_count": 2,
   "id": "37c4a1cb",
   "metadata": {},
   "outputs": [],
   "source": [
    "from llama_index import (\n",
    "    TreeIndex,\n",
    "    VectorStoreIndex,\n",
    "    SimpleDirectoryReader,\n",
    "    LLMPredictor,\n",
    "    ServiceContext,\n",
    "    Response,\n",
    ")\n",
    "from llama_index.llms import OpenAI\n",
    "from llama_index.evaluation import ResponseEvaluator\n",
    "import pandas as pd"
   ]
  },
  {
   "cell_type": "code",
   "execution_count": 3,
   "id": "8581e443",
   "metadata": {},
   "outputs": [],
   "source": [
    "# gpt-4\n",
    "gpt4 = OpenAI(temperature=0, model=\"gpt-4\")\n",
    "service_context_gpt4 = ServiceContext.from_defaults(llm=gpt4)\n",
    "\n",
    "evaluator_gpt4 = ResponseEvaluator(service_context=service_context_gpt4)"
   ]
  },
  {
   "cell_type": "code",
   "execution_count": 5,
   "id": "681b7321",
   "metadata": {},
   "outputs": [],
   "source": [
    "documents = SimpleDirectoryReader(\"./llamaindex_data/\").load_data()\n",
    "vector_index = VectorStoreIndex.from_documents(\n",
    "    documents, service_context=ServiceContext.from_defaults(chunk_size=512)\n",
    ")\n",
    "query_engine = vector_index.as_query_engine()\n",
    "response_vector = query_engine.query(\"How did New York City get its name?\")"
   ]
  },
  {
   "cell_type": "code",
   "execution_count": 7,
   "id": "a859dd3c",
   "metadata": {},
   "outputs": [
    {
     "name": "stdout",
     "output_type": "stream",
     "text": [
      "\n",
      "New York City was named in honor of the Duke of York, who would become King James II of England. In 1664, King Charles II appointed the Duke as proprietor of the former territory of New Netherland, including the city of New Amsterdam, when England seized it from Dutch control. The city was then renamed New York in his honor.\n"
     ]
    }
   ],
   "source": [
    "print(response_vector)"
   ]
  },
  {
   "cell_type": "code",
   "execution_count": 10,
   "id": "2b351cdc",
   "metadata": {},
   "outputs": [],
   "source": [
    "from ragas.llama_index import evaluate"
   ]
  },
  {
   "cell_type": "code",
   "execution_count": 11,
   "id": "b89b8f63",
   "metadata": {},
   "outputs": [
    {
     "data": {
      "text/plain": [
       "['What is the population of New York City as of 2020?',\n",
       " 'Which city is the second-largest in the United States after New York City?',\n",
       " 'What is the geographical and demographic center of the New York metropolitan area?',\n",
       " 'How many people live within 250 miles of New York City?',\n",
       " 'What is the largest metropolitan economy in the world as of 2021?']"
      ]
     },
     "execution_count": 11,
     "metadata": {},
     "output_type": "execute_result"
    }
   ],
   "source": [
    "from llama_index.evaluation import DatasetGenerator\n",
    "\n",
    "question_generator = DatasetGenerator.from_documents(documents)\n",
    "eval_questions = question_generator.generate_questions_from_nodes(5)\n",
    "\n",
    "eval_questions"
   ]
  },
  {
   "cell_type": "code",
   "execution_count": 19,
   "id": "a841a157",
   "metadata": {},
   "outputs": [],
   "source": [
    "from ragas.metrics import faithfulness, answer_relevancy, context_relevancy\n",
    "from ragas.metrics.critique import harmfulness\n",
    "\n",
    "metrics = [faithfulness, answer_relevancy, context_relevancy, harmfulness]"
   ]
  },
  {
   "cell_type": "code",
   "execution_count": null,
   "id": "b86b1fae",
   "metadata": {},
   "outputs": [
    {
     "name": "stdout",
     "output_type": "stream",
     "text": [
      "> \u001b[0;32m/home/jjmachan/jjmachan/explodinggradients/ragas/src/ragas/validation.py\u001b[0m(51)\u001b[0;36mvalidate_evaluation_modes\u001b[0;34m()\u001b[0m\n",
      "\u001b[0;32m     50 \u001b[0;31m        \u001b[0;32mimport\u001b[0m \u001b[0mipdb\u001b[0m\u001b[0;34m;\u001b[0m \u001b[0mipdb\u001b[0m\u001b[0;34m.\u001b[0m\u001b[0mset_trace\u001b[0m\u001b[0;34m(\u001b[0m\u001b[0;34m)\u001b[0m  \u001b[0;31m# fmt: skip\u001b[0m\u001b[0;34m\u001b[0m\u001b[0;34m\u001b[0m\u001b[0m\n",
      "\u001b[0m\u001b[0;32m---> 51 \u001b[0;31m        \u001b[0;32mif\u001b[0m \u001b[0mrequired_columns\u001b[0m\u001b[0;34m.\u001b[0m\u001b[0msymmetric_difference\u001b[0m\u001b[0;34m(\u001b[0m\u001b[0mavailable_columns\u001b[0m\u001b[0;34m)\u001b[0m\u001b[0;34m:\u001b[0m\u001b[0;34m\u001b[0m\u001b[0;34m\u001b[0m\u001b[0m\n",
      "\u001b[0m\u001b[0;32m     52 \u001b[0;31m            raise ValueError(\n",
      "\u001b[0m\n",
      "ipdb> required_columns\n",
      "{'question', 'contexts', 'answer'}\n",
      "ipdb> available_columns\n",
      "{'question', 'contexts', 'answer'}\n",
      "ipdb> required_columns.issubset(available_columns)\n",
      "True\n",
      "ipdb> required_columns.symmetric_difference(available_columns)\n",
      "set()\n",
      "ipdb> c\n",
      "> \u001b[0;32m/home/jjmachan/jjmachan/explodinggradients/ragas/src/ragas/validation.py\u001b[0m(51)\u001b[0;36mvalidate_evaluation_modes\u001b[0;34m()\u001b[0m\n",
      "\u001b[0;32m     50 \u001b[0;31m        \u001b[0;32mimport\u001b[0m \u001b[0mipdb\u001b[0m\u001b[0;34m;\u001b[0m \u001b[0mipdb\u001b[0m\u001b[0;34m.\u001b[0m\u001b[0mset_trace\u001b[0m\u001b[0;34m(\u001b[0m\u001b[0;34m)\u001b[0m  \u001b[0;31m# fmt: skip\u001b[0m\u001b[0;34m\u001b[0m\u001b[0;34m\u001b[0m\u001b[0m\n",
      "\u001b[0m\u001b[0;32m---> 51 \u001b[0;31m        \u001b[0;32mif\u001b[0m \u001b[0mrequired_columns\u001b[0m\u001b[0;34m.\u001b[0m\u001b[0msymmetric_difference\u001b[0m\u001b[0;34m(\u001b[0m\u001b[0mavailable_columns\u001b[0m\u001b[0;34m)\u001b[0m\u001b[0;34m:\u001b[0m\u001b[0;34m\u001b[0m\u001b[0;34m\u001b[0m\u001b[0m\n",
      "\u001b[0m\u001b[0;32m     52 \u001b[0;31m            raise ValueError(\n",
      "\u001b[0m\n",
      "ipdb> required_columns.issubset(available_columns)\n",
      "True\n",
      "ipdb> required_columns\n",
      "{'question', 'answer'}\n",
      "ipdb> required_columns.symmetric_difference(available_col\n",
      "*** SyntaxError: '(' was never closed\n",
      "ipdb> required_columns.symmetric_difference(available_columns)\n",
      "{'contexts'}\n"
     ]
    }
   ],
   "source": [
    "r = evaluate(query_engine, metrics, eval_questions)"
   ]
  },
  {
   "cell_type": "code",
   "execution_count": null,
   "id": "2d10ecd7",
   "metadata": {},
   "outputs": [],
   "source": [
    "r"
   ]
  },
  {
   "cell_type": "code",
   "execution_count": null,
   "id": "a9233f3d",
   "metadata": {},
   "outputs": [],
   "source": [
    "r.to_pandas()"
   ]
  },
  {
   "cell_type": "code",
   "execution_count": null,
   "id": "373ca79a",
   "metadata": {},
   "outputs": [],
   "source": []
  }
 ],
 "metadata": {
  "kernelspec": {
   "display_name": "Python 3 (ipykernel)",
   "language": "python",
   "name": "python3"
  },
  "language_info": {
   "codemirror_mode": {
    "name": "ipython",
    "version": 3
   },
   "file_extension": ".py",
   "mimetype": "text/x-python",
   "name": "python",
   "nbconvert_exporter": "python",
   "pygments_lexer": "ipython3",
   "version": "3.10.12"
  }
 },
 "nbformat": 4,
 "nbformat_minor": 5
}
