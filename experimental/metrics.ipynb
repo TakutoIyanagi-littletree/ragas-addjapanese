{
 "cells": [
  {
   "cell_type": "code",
   "execution_count": 1,
   "id": "bf8c478c",
   "metadata": {},
   "outputs": [],
   "source": [
    "%load_ext autoreload\n",
    "%autoreload 2"
   ]
  },
  {
   "cell_type": "code",
   "execution_count": 2,
   "id": "63b284eb",
   "metadata": {},
   "outputs": [
    {
     "name": "stderr",
     "output_type": "stream",
     "text": [
      "Found cached dataset parquet (/home/jjmachan/.cache/huggingface/datasets/explodinggradients___parquet/explodinggradients--ragas-wikiqa-8c2d5d8508f12989/0.0.0/2a3b91fbd88a2c90d1dbbb32b460cf621d31bd5b05b934492fdef7d8d6f236ec)\n"
     ]
    },
    {
     "data": {
      "text/plain": [
       "Dataset({\n",
       "    features: ['question', 'correct_answer', 'incorrect_answer', 'question_id', 'generated_with_rag', 'context', 'generated_without_rag'],\n",
       "    num_rows: 25\n",
       "})"
      ]
     },
     "execution_count": 2,
     "metadata": {},
     "output_type": "execute_result"
    }
   ],
   "source": [
    "# data\n",
    "from datasets import load_dataset\n",
    "ds = load_dataset(\"explodinggradients/ragas-wikiqa\", split=\"train\")\n",
    "ds"
   ]
  },
  {
   "cell_type": "markdown",
   "id": "4e5d7ce6",
   "metadata": {},
   "source": [
    "# NLI\n",
    "Aim is to find contradicting statements in generated_answer.\n",
    "\n",
    "1. Given generated answer, generate set of statements from it.\n",
    "2. Verify each of these statements against given context to find contradictions."
   ]
  },
  {
   "cell_type": "code",
   "execution_count": 3,
   "id": "df88afb1",
   "metadata": {},
   "outputs": [],
   "source": [
    "from nli import NLI"
   ]
  },
  {
   "cell_type": "code",
   "execution_count": 4,
   "id": "0e836244",
   "metadata": {},
   "outputs": [],
   "source": [
    "batch = 5\n",
    "# batched version\n",
    "q, c, a = ds['question'][:batch], ds[\"context\"][:batch], ds[\"generated_with_rag\"][:batch]"
   ]
  },
  {
   "cell_type": "code",
   "execution_count": 8,
   "id": "8ce0f43a",
   "metadata": {},
   "outputs": [
    {
     "name": "stderr",
     "output_type": "stream",
     "text": [
      "Backing off llm(...) for 1.0s (openai.error.RateLimitError: The server had an error while processing your request. Sorry about that!)\n",
      "Backing off llm(...) for 1.6s (openai.error.RateLimitError: The server had an error while processing your request. Sorry about that!)\n",
      "Backing off llm(...) for 2.6s (openai.error.RateLimitError: The server had an error while processing your request. Sorry about that!)\n"
     ]
    },
    {
     "name": "stdout",
     "output_type": "stream",
     "text": [
      "{\n",
      "  \"completion_tokens\": 280,\n",
      "  \"prompt_tokens\": 1115,\n",
      "  \"total_tokens\": 1395\n",
      "}\n",
      "{\n",
      "  \"completion_tokens\": 26,\n",
      "  \"prompt_tokens\": 8669,\n",
      "  \"total_tokens\": 8695\n",
      "}\n"
     ]
    },
    {
     "data": {
      "text/plain": [
       "[1.0, 1.0, 1.0, 1.0, 1.0]"
      ]
     },
     "execution_count": 8,
     "metadata": {},
     "output_type": "execute_result"
    }
   ],
   "source": [
    "NLI.score(q, c, a)"
   ]
  },
  {
   "cell_type": "code",
   "execution_count": null,
   "id": "984ee4cc",
   "metadata": {},
   "outputs": [],
   "source": []
  }
 ],
 "metadata": {
  "kernelspec": {
   "display_name": "Python 3 (ipykernel)",
   "language": "python",
   "name": "python3"
  },
  "language_info": {
   "codemirror_mode": {
    "name": "ipython",
    "version": 3
   },
   "file_extension": ".py",
   "mimetype": "text/x-python",
   "name": "python",
   "nbconvert_exporter": "python",
   "pygments_lexer": "ipython3",
   "version": "3.10.11"
  }
 },
 "nbformat": 4,
 "nbformat_minor": 5
}
