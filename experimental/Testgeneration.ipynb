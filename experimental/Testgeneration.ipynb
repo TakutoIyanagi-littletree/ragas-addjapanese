{
 "cells": [
  {
   "cell_type": "markdown",
   "id": "bb5be51b",
   "metadata": {},
   "source": [
    "## Imports"
   ]
  },
  {
   "cell_type": "code",
   "execution_count": 1,
   "id": "34105067-eed8-4f09-913f-7043ff77cb3e",
   "metadata": {},
   "outputs": [
    {
     "name": "stderr",
     "output_type": "stream",
     "text": [
      "/opt/anaconda3/envs/ragas/lib/python3.10/site-packages/tqdm/auto.py:21: TqdmWarning: IProgress not found. Please update jupyter and ipywidgets. See https://ipywidgets.readthedocs.io/en/stable/user_install.html\n",
      "  from .autonotebook import tqdm as notebook_tqdm\n"
     ]
    }
   ],
   "source": [
    "from llama_index import download_loader, SimpleDirectoryReader\n",
    "from ragas.testset import TestsetGenerator\n",
    "from llama_index import download_loader\n",
    "\n",
    "import os\n",
    "import openai\n",
    "\n",
    "openai.api_key = os.getenv(\"OPENAI_API_KEY\")"
   ]
  },
  {
   "cell_type": "code",
   "execution_count": 2,
   "id": "321dbebf",
   "metadata": {},
   "outputs": [],
   "source": [
    "import matplotlib.pyplot as plt"
   ]
  },
  {
   "cell_type": "markdown",
   "id": "7457125d",
   "metadata": {},
   "source": [
    "## Assessing current state of test date generation"
   ]
  },
  {
   "cell_type": "code",
   "execution_count": 3,
   "id": "1bc5970e-0873-4e06-9b68-3dda31b1d478",
   "metadata": {},
   "outputs": [],
   "source": [
    "\n",
    "ArxivReader = download_loader(\"ArxivReader\")\n",
    "\n",
    "loader = ArxivReader()"
   ]
  },
  {
   "cell_type": "code",
   "execution_count": 4,
   "id": "46684465",
   "metadata": {},
   "outputs": [
    {
     "name": "stderr",
     "output_type": "stream",
     "text": [
      "WARNING:pypdf.generic._base:could not convert string to float: '0.000000000000-2842171' : FloatObject (b'0.000000000000-2842171') invalid; use 0.0 instead\n"
     ]
    }
   ],
   "source": [
    "documents = loader.load_data(\"abs:LLM\",max_results=50)"
   ]
  },
  {
   "cell_type": "code",
   "execution_count": 3,
   "id": "df051faf",
   "metadata": {},
   "outputs": [],
   "source": [
    "test_dist =  {\n",
    "    \"simple\": 0.3,\n",
    "    \"reasoning\": 0.25,\n",
    "    \"multi_context\": 0.25,\n",
    "    \"conditional\": 0.2,\n",
    "}"
   ]
  },
  {
   "cell_type": "code",
   "execution_count": 4,
   "id": "2f9c0891",
   "metadata": {},
   "outputs": [],
   "source": [
    "testsetgenerator = TestsetGenerator.from_default(testset_distribution=test_dist,chunk_size=1024)\n"
   ]
  },
  {
   "cell_type": "code",
   "execution_count": null,
   "id": "553ac808",
   "metadata": {},
   "outputs": [],
   "source": []
  },
  {
   "cell_type": "code",
   "execution_count": 8,
   "id": "442cd5a6-6856-4488-8dae-be7195586986",
   "metadata": {},
   "outputs": [
    {
     "name": "stderr",
     "output_type": "stream",
     "text": [
      "\r",
      "  0%|                                                            | 0/25 [00:00<?, ?it/s]"
     ]
    },
    {
     "name": "stdout",
     "output_type": "stream",
     "text": [
      "{'score': True, 'is_table_present': False}\n",
      "seed question What are the limitations of LOGIC -LM?\n",
      "{'score': True, 'is_table_present': True}\n",
      "seed question What are the four broader application areas of LLMs investigated in the included studies?\n",
      "{'score': True, 'is_table_present': False}\n",
      "seed question How do we propose to attack the detectors?\n",
      "{'score': True, 'is_table_present': True}\n",
      "seed question What is the metric type for the task \"Knowledge Question Answering\" in the Legal Knowledge Memorization category?\n"
     ]
    },
    {
     "name": "stderr",
     "output_type": "stream",
     "text": [
      "\n",
      "KeyboardInterrupt\n",
      "\n"
     ]
    }
   ],
   "source": [
    "test_size = 25\n",
    "testset = testsetgenerator.generate(documents, test_size=test_size)\n",
    "test_df = testset.to_pandas()\n",
    "test_df.head()"
   ]
  },
  {
   "cell_type": "code",
   "execution_count": null,
   "id": "9d58feb8-8604-4854-9d1d-7aa27495f0ed",
   "metadata": {},
   "outputs": [],
   "source": [
    "test_df.to_csv(\"arxiv_questions_v3.csv\")"
   ]
  },
  {
   "cell_type": "markdown",
   "id": "2a03897e",
   "metadata": {},
   "source": [
    "**Observations**\n",
    "- Conditional question evol is working\n",
    "- reasoning/multi context are not working as expected\n",
    "- Almost all questions are closed endeded \n",
    "- Almost all questions start with \"What\""
   ]
  },
  {
   "cell_type": "markdown",
   "id": "453e52f7",
   "metadata": {},
   "source": [
    "## Experiments"
   ]
  },
  {
   "cell_type": "code",
   "execution_count": 5,
   "id": "144547a1",
   "metadata": {},
   "outputs": [],
   "source": [
    "from llama_index.readers.file.markdown_reader import MarkdownReader\n",
    "from llama_index.schema import Document\n",
    "from typing import List, Dict, Optional\n",
    "from pathlib import Path\n",
    "import re\n",
    "import os"
   ]
  },
  {
   "cell_type": "code",
   "execution_count": 6,
   "id": "1e30ee88",
   "metadata": {},
   "outputs": [],
   "source": [
    "class RagasMdReader(MarkdownReader):\n",
    "    \n",
    "    @staticmethod\n",
    "    def get_file_metadata(path):\n",
    "        \n",
    "        return {\"filename\":os.path.basename(path),\n",
    "                \"dirname\":os.path.dirname(path)}\n",
    "        \n",
    "    \n",
    "    def get_local_metadata(self, text):\n",
    "        \n",
    "        hyperlinks = {}\n",
    "        pattern = r\"\\[(.*?)\\]\\((?!https)(.*?)\\)\"\n",
    "        for k,v in re.findall(pattern, text):\n",
    "            if 'http' not in v and len(k.split())<=3 and v.split('/')[-1].startswith('#'):\n",
    "                hyperlinks[k] = v\n",
    "        return hyperlinks\n",
    "    \n",
    "    def load_data(\n",
    "        self, file: Path, extra_info: Optional[Dict] = None\n",
    "    ) -> List[Document]:\n",
    "        \"\"\"Parse file into string.\"\"\"\n",
    "        tups = self.parse_tups(file)\n",
    "        results = []\n",
    "        \n",
    "        text = '\\n'.join([f\"\\n\\n{header}\\n{value}\" for header,value in tups])\n",
    "        local_metadata = self.get_local_metadata(text)\n",
    "\n",
    "        text = self.remove_hyperlinks(text)\n",
    "        extra_info = dict(extra_info,hyperlinks=local_metadata) if extra_info else {}\n",
    "        return [Document(text=text,metadata=extra_info)]\n",
    "        \n",
    "        \n"
   ]
  },
  {
   "cell_type": "code",
   "execution_count": 7,
   "id": "f9c01902",
   "metadata": {},
   "outputs": [],
   "source": [
    "md_reader = RagasMdReader(remove_hyperlinks=False)"
   ]
  },
  {
   "cell_type": "code",
   "execution_count": 8,
   "id": "bca9d1e3",
   "metadata": {},
   "outputs": [],
   "source": [
    "def llm2(prompt, **kwargs):\n",
    "    response = openai.ChatCompletion.create(\n",
    "        model=kwargs.get(\"model\", \"gpt-4\"),\n",
    "        messages=[{\"role\": \"system\", \"content\": prompt}],\n",
    "        temperature=kwargs.get(\"temperature\", 0),\n",
    "        top_p=kwargs.get(\"top_p\", 1),\n",
    "        frequency_penalty=kwargs.get(\"frequency_penalty\", 0.0),\n",
    "        presence_penalty=kwargs.get(\"presence_penalty\", 0.0),\n",
    "        max_tokens=kwargs.get(\"max_tokens\", 500),\n",
    "        n=kwargs.get(\"n\", 1),\n",
    "    )\n",
    "    return response"
   ]
  },
  {
   "cell_type": "code",
   "execution_count": 9,
   "id": "feec19c8",
   "metadata": {},
   "outputs": [],
   "source": [
    "from ragas.testset.prompts import SEED_QUESTION, EVOLUTION_ELIMINATION"
   ]
  },
  {
   "cell_type": "code",
   "execution_count": 10,
   "id": "95d00bf4",
   "metadata": {},
   "outputs": [],
   "source": [
    "dirs = [\n",
    "    \"/Users/shahules/Myprojects/rag-experiments/gitlab-handbook/data/handbook/leadership/\",\n",
    "    \"/Users/shahules/Myprojects/rag-experiments/gitlab-handbook/data/handbook/company/\",\n",
    "]\n",
    "documents = []\n",
    "for dir_path in dirs:\n",
    "    loader = SimpleDirectoryReader(dir_path, \n",
    "                                   recursive=True,\n",
    "                                  file_extractor={\".md\":md_reader},\n",
    "                                file_metadata=RagasMdReader.get_file_metadata)\n",
    "    \n",
    "    documents.extend(loader.load_data())"
   ]
  },
  {
   "cell_type": "code",
   "execution_count": 11,
   "id": "64f4ad42",
   "metadata": {},
   "outputs": [
    {
     "data": {
      "text/plain": [
       "168"
      ]
     },
     "execution_count": 11,
     "metadata": {},
     "output_type": "execute_result"
    }
   ],
   "source": [
    "len(documents)"
   ]
  },
  {
   "cell_type": "code",
   "execution_count": 13,
   "id": "6b94cfdc",
   "metadata": {},
   "outputs": [],
   "source": [
    "# documents[0].metadata"
   ]
  },
  {
   "cell_type": "code",
   "execution_count": 12,
   "id": "f4bc085c",
   "metadata": {},
   "outputs": [
    {
     "name": "stderr",
     "output_type": "stream",
     "text": [
      "\r",
      "  0%|                                                            | 0/50 [00:00<?, ?it/s]"
     ]
    },
    {
     "name": "stdout",
     "output_type": "stream",
     "text": [
      "{'score': True, 'is_table_present': False}\n",
      "seed question What are some strategies to build influence in the workplace?\n"
     ]
    },
    {
     "name": "stderr",
     "output_type": "stream",
     "text": [
      "  2%|█                                                   | 1/50 [00:42<34:59, 42.85s/it]/Users/shahules/belar/src/ragas/testset/testset_generator.py:302: UserWarning: No neighbors exists\n",
      "  warnings.warn(\"No neighbors exists\")\n"
     ]
    },
    {
     "name": "stdout",
     "output_type": "stream",
     "text": [
      "{'score': True, 'is_table_present': True}\n",
      "seed question Who is the facilitator of the expense management working group?\n",
      "{'score': True, 'is_table_present': False}\n",
      "seed question What is the first phase of the three year strategy process?\n",
      "{'score': True, 'is_table_present': False}\n",
      "seed question What is GitLab's strategic goal?\n"
     ]
    },
    {
     "name": "stderr",
     "output_type": "stream",
     "text": [
      "\r",
      "  6%|███                                                 | 3/50 [01:17<18:45, 23.94s/it]"
     ]
    },
    {
     "name": "stdout",
     "output_type": "stream",
     "text": [
      "{'score': True, 'is_table_present': False}\n",
      "seed question What functionality aligns with the reporter permission access in GitLab?\n"
     ]
    },
    {
     "name": "stderr",
     "output_type": "stream",
     "text": [
      "\r",
      " 12%|██████▏                                             | 6/50 [01:45<11:02, 15.06s/it]"
     ]
    },
    {
     "name": "stdout",
     "output_type": "stream",
     "text": [
      "{'score': True, 'is_table_present': True}\n",
      "seed question Who is the Executive Sponsor of the MLOps Working Group?\n",
      "{'score': True, 'is_table_present': False}\n",
      "seed question What is the advantage of a functional organization structure?\n",
      "{'score': True, 'is_table_present': True}\n",
      "seed question What are the benefits reported by people at high trust companies compared to those at low trust companies, according to a study from Accenture?\n",
      "{'score': True, 'is_table_present': False}\n",
      "seed question What are the different scopes for caching available?\n"
     ]
    },
    {
     "name": "stderr",
     "output_type": "stream",
     "text": [
      "\r",
      " 20%|██████████▏                                        | 10/50 [02:43<09:48, 14.72s/it]"
     ]
    },
    {
     "name": "stdout",
     "output_type": "stream",
     "text": [
      "{'score': True, 'is_table_present': False}\n",
      "seed question How does using our own product help us improve GitLab?\n",
      "{'score': True, 'is_table_present': False}\n",
      "seed question What is the purpose of the OKR Draft Review Meeting?\n",
      "{'score': True, 'is_table_present': False}\n",
      "seed question What factors will GitLab consider when assessing the viability of location-based pricing?\n",
      "{'score': True, 'is_table_present': True}\n",
      "seed question Who is the DRI for developing and implementing a communication plan for the working group?\n",
      "{'score': True, 'is_table_present': True}\n",
      "seed question Who is the Facilitator of the Working Group?\n",
      "{'score': True, 'is_table_present': False}\n",
      "seed question What is the purpose of the Quote-to-Cash (Q2C) process?\n",
      "{'score': True, 'is_table_present': True}\n",
      "seed question What are the advantages of a single application in GitLab's flywheel strategy?\n",
      "{'score': True, 'is_table_present': False}\n",
      "seed question What is the goal of the Functional Leaders Meeting?\n",
      "{'score': True, 'is_table_present': False}\n",
      "seed question What were the factors considered for not granting an additional refresh this year?\n",
      "{'score': True, 'is_table_present': False}\n",
      "seed question Who is responsible for running meetings and supporting the success of a working group?\n",
      "{'score': True, 'is_table_present': True}\n",
      "seed question What is the progress of the knowledge sharing goal in the WG: Upstream Diversity Epic?\n",
      "{'score': True, 'is_table_present': False}\n",
      "seed question What are some suggested team building activities for on-site meetings?\n"
     ]
    },
    {
     "name": "stderr",
     "output_type": "stream",
     "text": [
      "\r",
      " 30%|███████████████▎                                   | 15/50 [05:33<14:04, 24.12s/it]"
     ]
    },
    {
     "name": "stdout",
     "output_type": "stream",
     "text": [
      "{'score': True, 'is_table_present': True}\n",
      "seed question What are the exit criteria for the project?\n",
      "{'score': True, 'is_table_present': True}\n",
      "seed question What is the end date for the project?\n",
      "{'score': True, 'is_table_present': False}\n",
      "seed question Why does GitLab intentionally not implement \"20% time\" for contributing to open source projects?\n",
      "{'score': True, 'is_table_present': False}\n",
      "seed question What measures can GitLab take to address the impact of a pandemic?\n"
     ]
    },
    {
     "name": "stderr",
     "output_type": "stream",
     "text": [
      "\r",
      " 42%|█████████████████████▍                             | 21/50 [06:17<07:58, 16.51s/it]"
     ]
    },
    {
     "name": "stdout",
     "output_type": "stream",
     "text": [
      "{'score': True, 'is_table_present': False}\n",
      "seed question What was the response rate for the survey sent to churned GitLab.com users?\n",
      "{'score': True, 'is_table_present': False}\n",
      "seed question Who is responsible for scheduling and coordinating the OKR process at GitLab?\n",
      "{'score': True, 'is_table_present': False}\n",
      "seed question What is the reasoning behind the amount of free credits offered?\n",
      "{'score': True, 'is_table_present': True}\n",
      "seed question What is the purpose of the working group mentioned in the context?\n",
      "{'score': True, 'is_table_present': False}\n",
      "seed question What should I review before compensation conversations at GitLab?\n",
      "{'score': True, 'is_table_present': True}\n",
      "seed question What is the meeting schedule for the Emerging Talent program?\n",
      "{'score': True, 'is_table_present': False}\n",
      "seed question Who needs to approve the creation of a single-engineer group?\n",
      "{'score': True, 'is_table_present': False}\n",
      "seed question What is the recommended order to go through the agenda?\n",
      "{'score': True, 'is_table_present': True}\n",
      "seed question What is the preferred term for a collection of interconnected database instances that replicate data?\n"
     ]
    },
    {
     "name": "stderr",
     "output_type": "stream",
     "text": [
      "\r",
      " 56%|████████████████████████████▌                      | 28/50 [07:30<05:04, 13.84s/it]"
     ]
    },
    {
     "name": "stdout",
     "output_type": "stream",
     "text": [
      "{'score': True, 'is_table_present': False}\n",
      "seed question What are some strategies for leading teams through challenging times?\n",
      "{'score': True, 'is_table_present': False}\n",
      "seed question What is the purpose of our Mission at GitLab?\n",
      "{'score': True, 'is_table_present': False}\n",
      "seed question What is the purpose of implementing caching in order to reduce database overhead?\n"
     ]
    },
    {
     "name": "stderr",
     "output_type": "stream",
     "text": [
      "\r",
      " 72%|████████████████████████████████████▋              | 36/50 [08:04<02:18,  9.88s/it]"
     ]
    },
    {
     "name": "stdout",
     "output_type": "stream",
     "text": [
      "{'score': True, 'is_table_present': False}\n",
      "seed question What are the responsibilities of a Support Engineer in incident management?\n"
     ]
    },
    {
     "name": "stderr",
     "output_type": "stream",
     "text": [
      "\r",
      " 90%|█████████████████████████████████████████████▉     | 45/50 [08:30<00:35,  7.12s/it]"
     ]
    },
    {
     "name": "stdout",
     "output_type": "stream",
     "text": [
      "{'score': True, 'is_table_present': False}\n",
      "seed question Why should we consider open-sourcing a feature?\n",
      "{'score': True, 'is_table_present': False}\n",
      "seed question What measures are taken to address the concern of key people leaving the company?\n",
      "{'score': True, 'is_table_present': False}\n",
      "seed question What is GitLab's purpose?\n"
     ]
    },
    {
     "name": "stderr",
     "output_type": "stream",
     "text": [
      "\r",
      "55it [09:35,  6.86s/it]                                                                 "
     ]
    },
    {
     "name": "stdout",
     "output_type": "stream",
     "text": [
      "{'score': True, 'is_table_present': True}\n",
      "seed question What measures has GitLab taken to address the concern of an economic downturn and the impact of a pandemic like COVID-19?\n",
      "{'score': True, 'is_table_present': False}\n",
      "seed question What are the principles for achieving fault-tolerance in GitLab?\n"
     ]
    },
    {
     "name": "stderr",
     "output_type": "stream",
     "text": [
      "\r",
      "66it [10:11,  5.49s/it]"
     ]
    },
    {
     "name": "stdout",
     "output_type": "stream",
     "text": [
      "{'score': True, 'is_table_present': False}\n",
      "seed question What are the criteria for Key Results?\n",
      "{'score': True, 'is_table_present': False}\n",
      "seed question What were the challenges faced during the quarter?\n",
      "{'score': True, 'is_table_present': True}\n",
      "seed question What are some strategies to potentially apply when working with an Expressive?\n",
      "{'score': True, 'is_table_present': True}\n",
      "seed question What are the potential tools/services that other companies are using for event stream implementation?\n"
     ]
    },
    {
     "name": "stderr",
     "output_type": "stream",
     "text": [
      "\r",
      "78it [10:54,  4.78s/it]"
     ]
    },
    {
     "name": "stdout",
     "output_type": "stream",
     "text": [
      "{'score': True, 'is_table_present': True}\n",
      "seed question What is the status of the proposed fixes for each identified low effort high risk item in the Token Management Working Group?\n",
      "{'score': True, 'is_table_present': False}\n",
      "seed question What are some examples of the compromising method in conflict resolution?\n"
     ]
    },
    {
     "name": "stderr",
     "output_type": "stream",
     "text": [
      "\r",
      "91it [11:23,  3.87s/it]"
     ]
    },
    {
     "name": "stdout",
     "output_type": "stream",
     "text": [
      "{'score': True, 'is_table_present': False}\n",
      "seed question What is the process for addressing underperformance in senior leadership roles?\n"
     ]
    },
    {
     "name": "stderr",
     "output_type": "stream",
     "text": [
      "\r",
      "105it [12:05,  3.56s/it]"
     ]
    },
    {
     "name": "stdout",
     "output_type": "stream",
     "text": [
      "{'score': True, 'is_table_present': False}\n",
      "seed question What are some strategies to build influence in the workplace?\n"
     ]
    },
    {
     "name": "stderr",
     "output_type": "stream",
     "text": [
      "\r",
      "120it [12:40,  3.11s/it]"
     ]
    },
    {
     "name": "stdout",
     "output_type": "stream",
     "text": [
      "{'score': True, 'is_table_present': False}\n",
      "seed question What are the characteristics of the Analytical style?\n",
      "{'score': True, 'is_table_present': False}\n",
      "seed question What is the communication flow at GitLab?\n"
     ]
    },
    {
     "name": "stderr",
     "output_type": "stream",
     "text": [
      "\r",
      "136it [13:16,  2.82s/it]"
     ]
    },
    {
     "name": "stdout",
     "output_type": "stream",
     "text": [
      "{'score': True, 'is_table_present': False}\n",
      "seed question What was the purpose of transitioning GitLab Pages from NFS to Object Storage?\n",
      "{'score': True, 'is_table_present': False}\n",
      "seed question What are some reasons that career development conversations are important?\n"
     ]
    },
    {
     "name": "stderr",
     "output_type": "stream",
     "text": [
      "\r",
      "153it [13:52,  2.57s/it]"
     ]
    },
    {
     "name": "stdout",
     "output_type": "stream",
     "text": [
      "{'score': True, 'is_table_present': False}\n",
      "seed question What is the purpose of M-teams at GitLab?\n"
     ]
    },
    {
     "name": "stderr",
     "output_type": "stream",
     "text": [
      "\r",
      "171it [14:06,  1.94s/it]"
     ]
    },
    {
     "name": "stdout",
     "output_type": "stream",
     "text": [
      "{'score': True, 'is_table_present': True}\n",
      "seed question How can division OKRs be aligned to CEO OKRs in cascading OKR methodology?\n"
     ]
    },
    {
     "name": "stderr",
     "output_type": "stream",
     "text": [
      "\r",
      "190it [14:29,  1.71s/it]"
     ]
    },
    {
     "name": "stdout",
     "output_type": "stream",
     "text": [
      "{'score': True, 'is_table_present': False}\n",
      "seed question What is the purpose of Stage 5 in the team development process?\n",
      "{'score': True, 'is_table_present': True}\n",
      "seed question What is the goal for reducing churn and contraction in comparison to FY23-Q4?\n",
      "{'score': True, 'is_table_present': False}\n",
      "seed question What are the two flywheel strategies of GitLab?\n",
      "{'score': True, 'is_table_present': False}\n",
      "seed question What is the estimated cost per connection for the real-time feature?\n",
      "{'score': True, 'is_table_present': False}\n",
      "seed question What were the results of our targeted OKR's?\n",
      "{'score': True, 'is_table_present': True}\n",
      "seed question Who is the Executive Sponsor of the Working Group?\n",
      "{'score': True, 'is_table_present': True}\n",
      "seed question What is the task scheduled for the week of 2022-07-11 in the OKR schedule?\n",
      "{'score': True, 'is_table_present': False}\n",
      "seed question What is the purpose of coaching at GitLab?\n",
      "{'score': True, 'is_table_present': False}\n",
      "seed question What is GitLab's pricing philosophy?\n"
     ]
    },
    {
     "name": "stderr",
     "output_type": "stream",
     "text": [
      "\r",
      "210it [15:47,  2.45s/it]"
     ]
    },
    {
     "name": "stdout",
     "output_type": "stream",
     "text": [
      "{'score': True, 'is_table_present': False}\n",
      "seed question What are some strategies for having effective crucial conversations in an all-remote environment?\n"
     ]
    },
    {
     "name": "stderr",
     "output_type": "stream",
     "text": [
      "\r",
      "231it [16:15,  2.07s/it]"
     ]
    },
    {
     "name": "stdout",
     "output_type": "stream",
     "text": [
      "{'score': True, 'is_table_present': False}\n",
      "seed question What are the expectations for members of the management group?\n",
      "{'score': True, 'is_table_present': False}\n",
      "seed question What is the principle of \"Fast follower\" in our company?\n",
      "{'score': True, 'is_table_present': False}\n",
      "seed question What are the industry trends that limit infrastructure bundling?\n",
      "{'score': True, 'is_table_present': False}\n",
      "seed question What are some reasons that managers may avoid career development conversations?\n"
     ]
    },
    {
     "name": "stderr",
     "output_type": "stream",
     "text": [
      "\r",
      "253it [17:20,  2.36s/it]"
     ]
    },
    {
     "name": "stdout",
     "output_type": "stream",
     "text": [
      "{'score': True, 'is_table_present': True}\n",
      "seed question Who is the DRI for developing and implementing a communication plan for the working group?\n",
      "{'score': True, 'is_table_present': False}\n",
      "seed question What is the progress of optimizing frontend code for larger projects?\n",
      "{'score': True, 'is_table_present': True}\n",
      "seed question What is the chosen technology for implementing real-time features in GitLab?\n"
     ]
    },
    {
     "name": "stderr",
     "output_type": "stream",
     "text": [
      "\r",
      "276it [17:57,  2.12s/it]"
     ]
    },
    {
     "name": "stdout",
     "output_type": "stream",
     "text": [
      "{'score': True, 'is_table_present': True}\n",
      "seed question What is the purpose of the CustomersDot BillingAccount management?\n",
      "{'score': True, 'is_table_present': True}\n",
      "seed question What is the target end date for the product development flow?\n",
      "{'score': True, 'is_table_present': True}\n",
      "seed question What programming languages are used by the AI Model Validation group at GitLab?\n"
     ]
    },
    {
     "name": "stderr",
     "output_type": "stream",
     "text": [
      "\r",
      "300it [18:55,  2.21s/it]"
     ]
    },
    {
     "name": "stdout",
     "output_type": "stream",
     "text": [
      "{'score': True, 'is_table_present': False}\n",
      "seed question What are the advantages of having a single plan for one customer?\n"
     ]
    },
    {
     "name": "stderr",
     "output_type": "stream",
     "text": [
      "\r",
      "325it [19:11,  1.70s/it]"
     ]
    },
    {
     "name": "stdout",
     "output_type": "stream",
     "text": [
      "{'score': True, 'is_table_present': True}\n",
      "seed question What is the Recovery Point Objective (RPO) in the context of the Disaster Recovery Working Group?\n",
      "{'score': True, 'is_table_present': True}\n",
      "seed question Who is the DRI (Directly Responsible Individual) for the Contributor Success functional role?\n",
      "{'score': True, 'is_table_present': False}\n",
      "seed question What is the recommended approach for discussing promotions and salary increases?\n",
      "{'score': True, 'is_table_present': False}\n",
      "seed question What is the purpose of GitLab?\n"
     ]
    },
    {
     "name": "stderr",
     "output_type": "stream",
     "text": [
      "\r",
      "351it [20:08,  1.86s/it]"
     ]
    },
    {
     "name": "stdout",
     "output_type": "stream",
     "text": [
      "{'score': True, 'is_table_present': False}\n",
      "seed question What questions might team members ask during a career development conversation?\n"
     ]
    },
    {
     "name": "stderr",
     "output_type": "stream",
     "text": [
      "\r",
      "378it [20:26,  1.47s/it]"
     ]
    },
    {
     "name": "stdout",
     "output_type": "stream",
     "text": [
      "{'score': True, 'is_table_present': True}\n",
      "seed question What are the learning objectives of the One Week Challenge?\n",
      "{'score': True, 'is_table_present': False}\n",
      "seed question What are the characteristics of time-decay data?\n"
     ]
    },
    {
     "name": "stderr",
     "output_type": "stream",
     "text": [
      "\r",
      "406it [21:11,  1.51s/it]"
     ]
    },
    {
     "name": "stdout",
     "output_type": "stream",
     "text": [
      "{'score': True, 'is_table_present': False}\n",
      "seed question What are the responsibilities of Functional Leaders after the meeting?\n",
      "{'score': True, 'is_table_present': False}\n",
      "seed question How can I participate in an active working group?\n",
      "{'score': True, 'is_table_present': True}\n",
      "seed question What is the target end date for the implementation of the data pipeline?\n",
      "{'score': True, 'is_table_present': True}\n",
      "seed question What is the CEO KR for improving user engagement?\n",
      "{'score': True, 'is_table_present': False}\n",
      "seed question How does open source benefit from open core?\n"
     ]
    },
    {
     "name": "stderr",
     "output_type": "stream",
     "text": [
      "\r",
      "435it [22:30,  1.91s/it]"
     ]
    },
    {
     "name": "stdout",
     "output_type": "stream",
     "text": [
      "{'score': True, 'is_table_present': False}\n",
      "seed question What are the steps for organizational alignment in workforce planning?\n"
     ]
    },
    {
     "name": "stderr",
     "output_type": "stream",
     "text": [
      "\r",
      "465it [23:08,  1.70s/it]"
     ]
    },
    {
     "name": "stdout",
     "output_type": "stream",
     "text": [
      "{'score': True, 'is_table_present': True}\n",
      "seed question What is the role of Christopher Lefelhocz in the Sharding Working Group?\n",
      "{'score': True, 'is_table_present': True}\n",
      "seed question How are upcoming Family and Friends Days determined at GitLab?\n",
      "{'score': True, 'is_table_present': False}\n",
      "seed question What is the purpose of a Performance Improvement Plan (PIP)?\n"
     ]
    },
    {
     "name": "stderr",
     "output_type": "stream",
     "text": [
      "\r",
      "496it [23:55,  1.64s/it]"
     ]
    },
    {
     "name": "stdout",
     "output_type": "stream",
     "text": [
      "{'score': True, 'is_table_present': True}\n",
      "seed question What is the future target plan feature that will be introduced to all stages in Q4?\n",
      "{'score': True, 'is_table_present': False}\n",
      "seed question What is the preferred option to address underperformance?\n",
      "{'score': True, 'is_table_present': True}\n",
      "seed question What is the CEO's objective for reducing churn and contraction?\n",
      "{'score': True, 'is_table_present': False}\n",
      "seed question What is the purpose of organizing informal communications at GitLab?\n"
     ]
    },
    {
     "name": "stderr",
     "output_type": "stream",
     "text": [
      "\r",
      "528it [24:40,  1.57s/it]"
     ]
    },
    {
     "name": "stdout",
     "output_type": "stream",
     "text": [
      "{'score': True, 'is_table_present': False}\n",
      "seed question What is the purpose of GitLab Onsites?\n",
      "{'score': True, 'is_table_present': False}\n",
      "seed question Why should we charge more for SaaS compared to self-managed?\n"
     ]
    },
    {
     "name": "stderr",
     "output_type": "stream",
     "text": [
      "HTTPSConnectionPool(host='api.smith.langchain.com', port=443): Read timed out. (read timeout=7.0)\n"
     ]
    },
    {
     "name": "stdout",
     "output_type": "stream",
     "text": [
      "{'score': True, 'is_table_present': False}\n",
      "seed question Why does GitLab not implement \"20% time\" for contributing to open source projects?\n",
      "{'score': True, 'is_table_present': False}\n",
      "seed question What are the different methods for managing conflict?\n"
     ]
    },
    {
     "name": "stderr",
     "output_type": "stream",
     "text": [
      "\r",
      "561it [25:53,  1.77s/it]"
     ]
    },
    {
     "name": "stdout",
     "output_type": "stream",
     "text": [
      "{'score': True, 'is_table_present': False}\n",
      "seed question What is the purpose of the AMA?\n",
      "{'score': True, 'is_table_present': True}\n",
      "seed question What is the business viability of the proposed solution to simplify the organizational model in GitLab?\n",
      "{'score': True, 'is_table_present': True}\n",
      "seed question What is the relationship between departments and sub-departments in the organizational structure at GitLab?\n",
      "{'score': True, 'is_table_present': False}\n",
      "seed question What should DRIs do to make decisions at GitLab?\n",
      "{'score': True, 'is_table_present': False}\n",
      "seed question Why are career development conversations important for managers?\n"
     ]
    },
    {
     "name": "stderr",
     "output_type": "stream",
     "text": [
      "\r",
      "595it [27:16,  1.99s/it]"
     ]
    },
    {
     "name": "stdout",
     "output_type": "stream",
     "text": [
      "{'score': True, 'is_table_present': False}\n",
      "seed question What are the three factors that distinguish a crucial conversation?\n",
      "{'score': True, 'is_table_present': False}\n",
      "seed question Question: \n",
      "What are the advantages of GitLab's all-remote workforce?\n",
      "{'score': True, 'is_table_present': False}\n",
      "seed question Why do managers resist delegating tasks?\n"
     ]
    },
    {
     "name": "stderr",
     "output_type": "stream",
     "text": [
      "\r",
      "630it [28:04,  1.79s/it]"
     ]
    },
    {
     "name": "stdout",
     "output_type": "stream",
     "text": [
      "{'score': True, 'is_table_present': False}\n",
      "seed question What is the industry standard for Mean Time To Remediation for security vulnerabilities?\n",
      "{'score': True, 'is_table_present': False}\n",
      "seed question What is the purpose of Stage 7 in the team development process?\n",
      "{'score': True, 'is_table_present': False}\n",
      "seed question What are the traits of high-performing teams at GitLab?\n"
     ]
    },
    {
     "name": "stderr",
     "output_type": "stream",
     "text": [
      "\r",
      "666it [29:04,  1.75s/it]"
     ]
    },
    {
     "name": "stdout",
     "output_type": "stream",
     "text": [
      "{'score': True, 'is_table_present': True}\n",
      "seed question What is the role of Kamil Trzciński in the working group?\n",
      "{'score': True, 'is_table_present': False}\n",
      "seed question What is the recommended order to go through the agenda?\n",
      "{'score': True, 'is_table_present': True}\n",
      "seed question What is the target end date for the accessibility checks implementation in GitLab feature specs and UI components codebase?\n",
      "{'score': True, 'is_table_present': False}\n",
      "seed question What is the preferred option to address underperformance?\n",
      "{'score': True, 'is_table_present': True}\n",
      "seed question What is the progress of building a transient test pipeline to detect transient bugs?\n",
      "{'score': True, 'is_table_present': True}\n",
      "seed question What is the target end date for the Customer Use Case Adoption working group?\n",
      "{'score': True, 'is_table_present': False}\n",
      "seed question What is the purpose of an onsite for all-remote teams?\n"
     ]
    },
    {
     "name": "stderr",
     "output_type": "stream",
     "text": [
      "\r",
      "703it [30:16,  1.81s/it]"
     ]
    },
    {
     "name": "stdout",
     "output_type": "stream",
     "text": [
      "{'score': True, 'is_table_present': False}\n",
      "seed question What is the purpose of regularly scheduled 1-1 meetings in performance management?\n"
     ]
    },
    {
     "name": "stderr",
     "output_type": "stream",
     "text": [
      "\r",
      "741it [30:34,  1.38s/it]"
     ]
    },
    {
     "name": "stdout",
     "output_type": "stream",
     "text": [
      "{'score': True, 'is_table_present': False}\n",
      "seed question What is the purpose of the Drexler-Sibbet model in product group learning sessions?\n",
      "{'score': True, 'is_table_present': True}\n",
      "seed question What is the price per user per month for the Premium tier in the Self-Managed/SaaS pricing model?\n",
      "{'score': True, 'is_table_present': False}\n",
      "seed question What is the Building High Performing Teams model?\n"
     ]
    },
    {
     "name": "stderr",
     "output_type": "stream",
     "text": [
      "\r",
      "780it [31:43,  1.51s/it]"
     ]
    },
    {
     "name": "stdout",
     "output_type": "stream",
     "text": [
      "{'score': True, 'is_table_present': False}\n",
      "seed question What is the purpose of the Job Frameworks?\n",
      "{'score': True, 'is_table_present': False}\n",
      "seed question What is the goal of the \"Grow Careers\" section in the GitLab strategy?\n",
      "{'score': True, 'is_table_present': False}\n",
      "seed question What is the purpose of the Manager Transition Meeting?\n",
      "{'score': True, 'is_table_present': False}\n",
      "seed question Why does GitLab use a hybrid sales model?\n",
      "{'score': True, 'is_table_present': False}\n",
      "seed question How can new objectives be added in GitLab?\n"
     ]
    },
    {
     "name": "stderr",
     "output_type": "stream",
     "text": [
      "\r",
      "820it [32:34,  1.43s/it]"
     ]
    },
    {
     "name": "stdout",
     "output_type": "stream",
     "text": [
      "{'score': True, 'is_table_present': True}\n",
      "seed question How should teams update the score for their key results in GitLab?\n"
     ]
    },
    {
     "name": "stderr",
     "output_type": "stream",
     "text": [
      "\r",
      "861it [32:56,  1.15s/it]"
     ]
    },
    {
     "name": "stdout",
     "output_type": "stream",
     "text": [
      "{'score': True, 'is_table_present': True}\n",
      "seed question What is the description of the \"Fulfillment Efficiency\" top cross-functional initiative?\n",
      "{'score': True, 'is_table_present': True}\n",
      "seed question What is the goal of the working group mentioned in the context?\n",
      "{'score': True, 'is_table_present': False}\n",
      "seed question What is the current failure rate of system failures in CI/CD?\n",
      "{'score': True, 'is_table_present': True}\n",
      "seed question What is the task scheduled for the week of 2021-01-11 in the OKR schedule?\n",
      "{'score': True, 'is_table_present': False}\n",
      "seed question What is the purpose of a PIP in the performance improvement process?\n"
     ]
    },
    {
     "name": "stderr",
     "output_type": "stream",
     "text": [
      "\r",
      "903it [33:55,  1.23s/it]"
     ]
    },
    {
     "name": "stdout",
     "output_type": "stream",
     "text": [
      "{'score': True, 'is_table_present': False}\n",
      "seed question What is the importance of self-awareness in developing emotional intelligence?\n"
     ]
    },
    {
     "name": "stderr",
     "output_type": "stream",
     "text": [
      "\r",
      "946it [34:21,  1.03s/it]"
     ]
    },
    {
     "name": "stdout",
     "output_type": "stream",
     "text": [
      "{'score': True, 'is_table_present': True}\n",
      "seed question Who is the facilitator of the Working Group?\n",
      "{'score': True, 'is_table_present': True}\n",
      "seed question Who is the DRI for defining the vision of the GitLab API for the future years?\n",
      "{'score': True, 'is_table_present': False}\n",
      "seed question What is the purpose of skip-level meetings?\n"
     ]
    },
    {
     "name": "stderr",
     "output_type": "stream",
     "text": [
      "\r",
      "990it [35:10,  1.06s/it]"
     ]
    },
    {
     "name": "stdout",
     "output_type": "stream",
     "text": [
      "{'score': True, 'is_table_present': True}\n",
      "seed question What is the meeting schedule for the GitLab AI Integration Working Group?\n",
      "{'score': True, 'is_table_present': False}\n",
      "seed question Why did GitLab become an all-remote company?\n"
     ]
    },
    {
     "name": "stderr",
     "output_type": "stream",
     "text": [
      "\r",
      "1035it [35:56,  1.05s/it]"
     ]
    },
    {
     "name": "stdout",
     "output_type": "stream",
     "text": [
      "{'score': True, 'is_table_present': True}\n",
      "seed question What are the exit criteria for the sharding working group?\n",
      "{'score': True, 'is_table_present': False}\n",
      "seed question What is the purpose of the Job Frameworks at GitLab?\n"
     ]
    },
    {
     "name": "stderr",
     "output_type": "stream",
     "text": [
      "\r",
      "1081it [36:38,  1.01s/it]"
     ]
    },
    {
     "name": "stdout",
     "output_type": "stream",
     "text": [
      "{'score': True, 'is_table_present': False}\n",
      "seed question What is the purpose of hosting a \"Lunch & Learn\"?\n"
     ]
    },
    {
     "name": "stderr",
     "output_type": "stream",
     "text": [
      "\r",
      "1128it [37:01,  1.19it/s]"
     ]
    },
    {
     "name": "stdout",
     "output_type": "stream",
     "text": [
      "{'score': True, 'is_table_present': True}\n",
      "seed question What is the progress status of Step 1 in the process of creating a standardized prioritization framework?\n",
      "{'score': True, 'is_table_present': False}\n",
      "seed question What is the role of a member in a Working Group?\n"
     ]
    },
    {
     "name": "stderr",
     "output_type": "stream",
     "text": [
      "\r",
      "1176it [37:24,  1.38it/s]"
     ]
    },
    {
     "name": "stdout",
     "output_type": "stream",
     "text": [
      "{'score': True, 'is_table_present': True}\n",
      "seed question What were the main areas of improvement identified by the working group in the Object Storage implementation?\n",
      "{'score': True, 'is_table_present': True}\n",
      "seed question Who is the Triage Lead in the Working Group?\n",
      "{'score': True, 'is_table_present': True}\n",
      "seed question What is the due date for the \"Definition of the objects\" phase in the roadmap?\n",
      "{'score': True, 'is_table_present': False}\n",
      "seed question What is the purpose of adding new models to the CustomersDot data architecture?\n",
      "{'score': True, 'is_table_present': True}\n",
      "seed question What is the target end date for the GitHost migration?\n",
      "{'score': True, 'is_table_present': True}\n",
      "seed question Who is the Senior Director of Development in the Working Group?\n",
      "{'score': True, 'is_table_present': True}\n",
      "seed question What tasks are still outstanding at the time of closing this Working Group?\n",
      "{'score': True, 'is_table_present': True}\n",
      "seed question What is the role of Farnoosh Seifoddini in the Working Group?\n",
      "{'score': True, 'is_table_present': True}\n",
      "seed question When does the Quarterly Kickoff typically take place?\n",
      "{'score': True, 'is_table_present': True}\n",
      "seed question What measures are being taken to ensure a sustainable maintainership for the next 5 years?\n",
      "{'score': True, 'is_table_present': False}\n",
      "seed question Why does GitLab use a hybrid sales model?\n",
      "{'score': True, 'is_table_present': False}\n",
      "seed question What are the alternatives considered for implementing real-time collaboration in GitLab?\n",
      "{'score': True, 'is_table_present': True}\n",
      "seed question Who is the Facilitator of the Webpack Working Group?\n",
      "{'score': True, 'is_table_present': True}\n",
      "seed question Who is the Executive Sponsor of the Working Group?\n",
      "{'score': True, 'is_table_present': False}\n",
      "seed question What factors are considered when accepting a contribution of a not-yet-existing feature?\n",
      "{'score': True, 'is_table_present': False}\n",
      "seed question What is the purpose of GitLab First Look?\n",
      "{'score': True, 'is_table_present': False}\n",
      "seed question What is the importance of psychological safety for successful teams?\n"
     ]
    },
    {
     "name": "stderr",
     "output_type": "stream",
     "text": [
      "\r",
      "1225it [40:29,  1.69s/it]"
     ]
    },
    {
     "name": "stdout",
     "output_type": "stream",
     "text": [
      "{'score': True, 'is_table_present': False}\n",
      "seed question What is the role of a leader at GitLab in building high-performing teams?\n"
     ]
    },
    {
     "name": "stderr",
     "output_type": "stream",
     "text": [
      "1275it [40:55,  1.93s/it]\n"
     ]
    }
   ],
   "source": [
    "testset = testsetgenerator.generate(documents, test_size=50)\n"
   ]
  },
  {
   "cell_type": "code",
   "execution_count": 13,
   "id": "26f40412",
   "metadata": {},
   "outputs": [],
   "source": [
    "testset.to_pandas().to_csv(\"gitlab_communication_company_v2.csv\")"
   ]
  },
  {
   "cell_type": "code",
   "execution_count": 23,
   "id": "c4ae48ca",
   "metadata": {},
   "outputs": [
    {
     "data": {
      "text/html": [
       "<div>\n",
       "<style scoped>\n",
       "    .dataframe tbody tr th:only-of-type {\n",
       "        vertical-align: middle;\n",
       "    }\n",
       "\n",
       "    .dataframe tbody tr th {\n",
       "        vertical-align: top;\n",
       "    }\n",
       "\n",
       "    .dataframe thead th {\n",
       "        text-align: right;\n",
       "    }\n",
       "</style>\n",
       "<table border=\"1\" class=\"dataframe\">\n",
       "  <thead>\n",
       "    <tr style=\"text-align: right;\">\n",
       "      <th></th>\n",
       "      <th>seed_question</th>\n",
       "      <th>question</th>\n",
       "      <th>context</th>\n",
       "      <th>answer</th>\n",
       "      <th>question_type</th>\n",
       "      <th>episode_done</th>\n",
       "      <th>evolution_elimination</th>\n",
       "    </tr>\n",
       "  </thead>\n",
       "  <tbody>\n",
       "    <tr>\n",
       "      <th>0</th>\n",
       "      <td>What are some strategies to build influence in...</td>\n",
       "      <td>How can communication patterns be utilized to ...</td>\n",
       "      <td>- \"During a crucial conversation, different pr...</td>\n",
       "      <td>Communication patterns can be utilized to buil...</td>\n",
       "      <td>conditional</td>\n",
       "      <td>False</td>\n",
       "      <td>False</td>\n",
       "    </tr>\n",
       "    <tr>\n",
       "      <th>1</th>\n",
       "      <td>What are the strategic goals of GitLab?</td>\n",
       "      <td>What is GitLab's strategic goal to become the ...</td>\n",
       "      <td>- Along the road to realizing our mission of e...</td>\n",
       "      <td>GitLab's strategic goal to become the leading ...</td>\n",
       "      <td>reasoning</td>\n",
       "      <td>True</td>\n",
       "      <td>False</td>\n",
       "    </tr>\n",
       "    <tr>\n",
       "      <th>2</th>\n",
       "      <td>What functionality aligns with the reporter pe...</td>\n",
       "      <td>Which GitLab permission allows for managing la...</td>\n",
       "      <td>The main functionality that some non-developer...</td>\n",
       "      <td>The GitLab permission that allows for managing...</td>\n",
       "      <td>reasoning</td>\n",
       "      <td>True</td>\n",
       "      <td>False</td>\n",
       "    </tr>\n",
       "    <tr>\n",
       "      <th>3</th>\n",
       "      <td>What are the different scopes for caching avai...</td>\n",
       "      <td>What are the different caching scopes availabl...</td>\n",
       "      <td>1. \"In order to reduce the database overhead, ...</td>\n",
       "      <td>The different caching scopes available for red...</td>\n",
       "      <td>conditional</td>\n",
       "      <td>False</td>\n",
       "      <td>False</td>\n",
       "    </tr>\n",
       "    <tr>\n",
       "      <th>4</th>\n",
       "      <td>What is the purpose of the Quote-to-Cash process?</td>\n",
       "      <td>What is the purpose of the Quote-to-Cash proce...</td>\n",
       "      <td>- An efficient Quote-to-Cash system makes purc...</td>\n",
       "      <td>The purpose of the Quote-to-Cash process is to...</td>\n",
       "      <td>multi_context</td>\n",
       "      <td>True</td>\n",
       "      <td>False</td>\n",
       "    </tr>\n",
       "    <tr>\n",
       "      <th>5</th>\n",
       "      <td>Who is responsible for running meetings in a w...</td>\n",
       "      <td>Who facilitates meetings and ensures operation...</td>\n",
       "      <td>- A facilitator is responsible for running mee...</td>\n",
       "      <td>The facilitator is responsible for running mee...</td>\n",
       "      <td>multi_context</td>\n",
       "      <td>True</td>\n",
       "      <td>False</td>\n",
       "    </tr>\n",
       "    <tr>\n",
       "      <th>6</th>\n",
       "      <td>What are some suggested team building activiti...</td>\n",
       "      <td>What team building activities can be used to b...</td>\n",
       "      <td>- \"It's great for building trust, getting to k...</td>\n",
       "      <td>Some team building activities that can be used...</td>\n",
       "      <td>multi_context</td>\n",
       "      <td>True</td>\n",
       "      <td>True</td>\n",
       "    </tr>\n",
       "    <tr>\n",
       "      <th>7</th>\n",
       "      <td>What is the impact of elevating the caching le...</td>\n",
       "      <td>What is the impact of implementing a per-proce...</td>\n",
       "      <td>- When we started to cache license information...</td>\n",
       "      <td>The impact of implementing a per-process memor...</td>\n",
       "      <td>reasoning</td>\n",
       "      <td>True</td>\n",
       "      <td>True</td>\n",
       "    </tr>\n",
       "    <tr>\n",
       "      <th>8</th>\n",
       "      <td>What should I review before compensation conve...</td>\n",
       "      <td>What should I review before compensation conve...</td>\n",
       "      <td>- Conversations with regards to compensation a...</td>\n",
       "      <td>Before compensation conversations at GitLab, y...</td>\n",
       "      <td>simple</td>\n",
       "      <td>True</td>\n",
       "      <td>None</td>\n",
       "    </tr>\n",
       "    <tr>\n",
       "      <th>9</th>\n",
       "      <td>What is the objective of establishing a repeat...</td>\n",
       "      <td>What is the objective of establishing a repeat...</td>\n",
       "      <td>- We aim to create a working group to establis...</td>\n",
       "      <td>The objective of establishing a repeatable pro...</td>\n",
       "      <td>simple</td>\n",
       "      <td>True</td>\n",
       "      <td>None</td>\n",
       "    </tr>\n",
       "    <tr>\n",
       "      <th>10</th>\n",
       "      <td>What are the responsibilities of a SIRT Engine...</td>\n",
       "      <td>What are the responsibilities of a SIRT Engine...</td>\n",
       "      <td>- As a SIRT Engineer I know how to pull releva...</td>\n",
       "      <td>The responsibilities of a SIRT Engineer in the...</td>\n",
       "      <td>multi_context</td>\n",
       "      <td>True</td>\n",
       "      <td>False</td>\n",
       "    </tr>\n",
       "    <tr>\n",
       "      <th>11</th>\n",
       "      <td>What is GitLab's purpose?</td>\n",
       "      <td>What is the purpose of GitLab?</td>\n",
       "      <td>- GitLab’s purpose is to help people increase ...</td>\n",
       "      <td>The purpose of GitLab is to help people increa...</td>\n",
       "      <td>reasoning</td>\n",
       "      <td>False</td>\n",
       "      <td>False</td>\n",
       "    </tr>\n",
       "    <tr>\n",
       "      <th>12</th>\n",
       "      <td>What is the significance of sharding in databa...</td>\n",
       "      <td>What is a widely used methodology for database...</td>\n",
       "      <td>- \"A popular database scalability methodology ...</td>\n",
       "      <td>The widely used methodology for database scala...</td>\n",
       "      <td>reasoning</td>\n",
       "      <td>True</td>\n",
       "      <td>False</td>\n",
       "    </tr>\n",
       "    <tr>\n",
       "      <th>13</th>\n",
       "      <td>What are the criteria for Objectives and Key R...</td>\n",
       "      <td>What are the criteria for Objectives and Key R...</td>\n",
       "      <td>- Objectives should be ambitious, meaningful, ...</td>\n",
       "      <td>The criteria for Objectives are that they shou...</td>\n",
       "      <td>simple</td>\n",
       "      <td>True</td>\n",
       "      <td>None</td>\n",
       "    </tr>\n",
       "    <tr>\n",
       "      <th>14</th>\n",
       "      <td>What are the principles of consumption pricing?</td>\n",
       "      <td>What factors should be considered when choosin...</td>\n",
       "      <td>- The advantages of consumption pricing includ...</td>\n",
       "      <td>When choosing between consumption pricing and ...</td>\n",
       "      <td>conditional</td>\n",
       "      <td>True</td>\n",
       "      <td>False</td>\n",
       "    </tr>\n",
       "    <tr>\n",
       "      <th>15</th>\n",
       "      <td>What does the acronym SMART stand for in relat...</td>\n",
       "      <td>Can you explain what the acronym SMART stands ...</td>\n",
       "      <td>- SMART goals allow both the manager and team ...</td>\n",
       "      <td>The acronym SMART stands for Specific, Measura...</td>\n",
       "      <td>conditional</td>\n",
       "      <td>False</td>\n",
       "      <td>False</td>\n",
       "    </tr>\n",
       "    <tr>\n",
       "      <th>16</th>\n",
       "      <td>What are some strategies to build influence in...</td>\n",
       "      <td>What strategies can be used to build workplace...</td>\n",
       "      <td>- \"If you're in a crucial conversation and a t...</td>\n",
       "      <td>Some strategies that can be used to build work...</td>\n",
       "      <td>conditional</td>\n",
       "      <td>True</td>\n",
       "      <td>False</td>\n",
       "    </tr>\n",
       "    <tr>\n",
       "      <th>17</th>\n",
       "      <td>What are the characteristics of an Analytical ...</td>\n",
       "      <td>How does the Analytical style in the SOCIAL ST...</td>\n",
       "      <td>Team members that may be classified as Analyti...</td>\n",
       "      <td>The Analytical style in the SOCIAL STYLES Mode...</td>\n",
       "      <td>conditional</td>\n",
       "      <td>True</td>\n",
       "      <td>False</td>\n",
       "    </tr>\n",
       "    <tr>\n",
       "      <th>18</th>\n",
       "      <td>What are some reasons that managers may avoid ...</td>\n",
       "      <td>What are some reasons that managers may avoid ...</td>\n",
       "      <td>- These discussions should take place once a m...</td>\n",
       "      <td>Some reasons that managers may avoid career de...</td>\n",
       "      <td>simple</td>\n",
       "      <td>True</td>\n",
       "      <td>None</td>\n",
       "    </tr>\n",
       "    <tr>\n",
       "      <th>19</th>\n",
       "      <td>What is the role of a leader at GitLab in buil...</td>\n",
       "      <td>What is the role of a leader at GitLab in buil...</td>\n",
       "      <td>- As a leader at GitLab, your role is to devel...</td>\n",
       "      <td>The role of a leader at GitLab in building hig...</td>\n",
       "      <td>simple</td>\n",
       "      <td>True</td>\n",
       "      <td>None</td>\n",
       "    </tr>\n",
       "    <tr>\n",
       "      <th>20</th>\n",
       "      <td>How do I add new objectives in GitLab for OKRs?</td>\n",
       "      <td>How do I add new objectives in GitLab for OKRs?</td>\n",
       "      <td>- \"To add new objectives in GitLab, follow the...</td>\n",
       "      <td>To add new objectives in GitLab for OKRs, foll...</td>\n",
       "      <td>simple</td>\n",
       "      <td>True</td>\n",
       "      <td>None</td>\n",
       "    </tr>\n",
       "    <tr>\n",
       "      <th>21</th>\n",
       "      <td>What is the purpose of giving regular feedback?</td>\n",
       "      <td>How does coaching at GitLab differ from giving...</td>\n",
       "      <td>Coaching is about helping others help themselv...</td>\n",
       "      <td>Coaching at GitLab differs from giving advice ...</td>\n",
       "      <td>conditional</td>\n",
       "      <td>True</td>\n",
       "      <td>False</td>\n",
       "    </tr>\n",
       "    <tr>\n",
       "      <th>22</th>\n",
       "      <td>What are some reasons that managers may avoid ...</td>\n",
       "      <td>What concerns do managers have about career de...</td>\n",
       "      <td>- Career development conversations will take u...</td>\n",
       "      <td>Managers have concerns about career developmen...</td>\n",
       "      <td>reasoning</td>\n",
       "      <td>True</td>\n",
       "      <td>False</td>\n",
       "    </tr>\n",
       "    <tr>\n",
       "      <th>23</th>\n",
       "      <td>What is the preferred term for a collection of...</td>\n",
       "      <td>What is the preferred term for a collection of...</td>\n",
       "      <td>- Cluster | A database cluster is a collection...</td>\n",
       "      <td>The preferred term for a collection of interco...</td>\n",
       "      <td>simple</td>\n",
       "      <td>True</td>\n",
       "      <td>None</td>\n",
       "    </tr>\n",
       "    <tr>\n",
       "      <th>24</th>\n",
       "      <td>What are the requirements for log retention in...</td>\n",
       "      <td>What are the specific requirements for log ret...</td>\n",
       "      <td>- As a SIRT Engineer, I can easily find, searc...</td>\n",
       "      <td>The specific requirements for log retention in...</td>\n",
       "      <td>multi_context</td>\n",
       "      <td>False</td>\n",
       "      <td>True</td>\n",
       "    </tr>\n",
       "    <tr>\n",
       "      <th>25</th>\n",
       "      <td>What is GitLab's purpose?</td>\n",
       "      <td>What is GitLab's purpose?</td>\n",
       "      <td>- GitLab’s purpose is to help people increase ...</td>\n",
       "      <td>GitLab's purpose is to help people increase th...</td>\n",
       "      <td>simple</td>\n",
       "      <td>True</td>\n",
       "      <td>None</td>\n",
       "    </tr>\n",
       "    <tr>\n",
       "      <th>26</th>\n",
       "      <td>What questions might team members ask during a...</td>\n",
       "      <td>What questions might team members ask during a...</td>\n",
       "      <td>- What you say are my top strengths or top ski...</td>\n",
       "      <td>Some questions team members might ask during a...</td>\n",
       "      <td>simple</td>\n",
       "      <td>True</td>\n",
       "      <td>None</td>\n",
       "    </tr>\n",
       "    <tr>\n",
       "      <th>27</th>\n",
       "      <td>What is the importance of psychological safety...</td>\n",
       "      <td>What is the impact of psychological safety on ...</td>\n",
       "      <td>- Psychological safety has primary importance ...</td>\n",
       "      <td>The impact of psychological safety on team col...</td>\n",
       "      <td>conditional</td>\n",
       "      <td>True</td>\n",
       "      <td>False</td>\n",
       "    </tr>\n",
       "    <tr>\n",
       "      <th>28</th>\n",
       "      <td>What are the benefits of open source in GitLab...</td>\n",
       "      <td>What benefits does GitLab's open source gain f...</td>\n",
       "      <td>- \"We want to give people the option to both r...</td>\n",
       "      <td>The benefits that GitLab's open source gains f...</td>\n",
       "      <td>reasoning</td>\n",
       "      <td>True</td>\n",
       "      <td>False</td>\n",
       "    </tr>\n",
       "    <tr>\n",
       "      <th>29</th>\n",
       "      <td>What is the purpose of a Performance Improveme...</td>\n",
       "      <td>What is the purpose of a Performance Improveme...</td>\n",
       "      <td>- The goal of the PIP is to see results, that ...</td>\n",
       "      <td>The purpose of a Performance Improvement Plan ...</td>\n",
       "      <td>reasoning</td>\n",
       "      <td>False</td>\n",
       "      <td>False</td>\n",
       "    </tr>\n",
       "    <tr>\n",
       "      <th>30</th>\n",
       "      <td>What is the significance of sharding in databa...</td>\n",
       "      <td>What does sharding do for database scalability...</td>\n",
       "      <td>One of the most widely used methodolgies to da...</td>\n",
       "      <td>Sharding helps improve database scalability by...</td>\n",
       "      <td>conditional</td>\n",
       "      <td>True</td>\n",
       "      <td>False</td>\n",
       "    </tr>\n",
       "    <tr>\n",
       "      <th>31</th>\n",
       "      <td>What is the role of a mentor at GitLab?</td>\n",
       "      <td>What is the difference between a mentor and an...</td>\n",
       "      <td>- Expert means you have above average experien...</td>\n",
       "      <td>The difference between a mentor and an expert ...</td>\n",
       "      <td>conditional</td>\n",
       "      <td>True</td>\n",
       "      <td>False</td>\n",
       "    </tr>\n",
       "    <tr>\n",
       "      <th>32</th>\n",
       "      <td>What is the purpose of coaching conversations ...</td>\n",
       "      <td>What is the purpose of coaching conversations ...</td>\n",
       "      <td>The GROW Model is a four-step method for holdi...</td>\n",
       "      <td>The purpose of coaching conversations in the G...</td>\n",
       "      <td>simple</td>\n",
       "      <td>True</td>\n",
       "      <td>None</td>\n",
       "    </tr>\n",
       "    <tr>\n",
       "      <th>33</th>\n",
       "      <td>What is the difference between behavior and pe...</td>\n",
       "      <td>How does understanding behavior and personalit...</td>\n",
       "      <td>- \"As a Manager, you can be more effective in ...</td>\n",
       "      <td>Understanding behavior and personality traits ...</td>\n",
       "      <td>multi_context</td>\n",
       "      <td>True</td>\n",
       "      <td>False</td>\n",
       "    </tr>\n",
       "    <tr>\n",
       "      <th>34</th>\n",
       "      <td>What is the purpose of the Job Frameworks at G...</td>\n",
       "      <td>What is the purpose of Job Frameworks at GitLa...</td>\n",
       "      <td>- A dual career path is a career path that all...</td>\n",
       "      <td>The purpose of Job Frameworks at GitLab is to ...</td>\n",
       "      <td>multi_context</td>\n",
       "      <td>True</td>\n",
       "      <td>False</td>\n",
       "    </tr>\n",
       "    <tr>\n",
       "      <th>35</th>\n",
       "      <td>What are some key attributes of a coach?</td>\n",
       "      <td>What are some key attributes of a coach?</td>\n",
       "      <td>- Coaching conversations are fluid, dynamic ac...</td>\n",
       "      <td>Some key attributes of a coach include asking ...</td>\n",
       "      <td>simple</td>\n",
       "      <td>True</td>\n",
       "      <td>None</td>\n",
       "    </tr>\n",
       "    <tr>\n",
       "      <th>36</th>\n",
       "      <td>How did GitLab become an all-remote company?</td>\n",
       "      <td>How did GitLab become an all-remote company?</td>\n",
       "      <td>\"The first employee of the company was based i...</td>\n",
       "      <td>GitLab became an all-remote company because it...</td>\n",
       "      <td>simple</td>\n",
       "      <td>True</td>\n",
       "      <td>None</td>\n",
       "    </tr>\n",
       "    <tr>\n",
       "      <th>37</th>\n",
       "      <td>What should be done when disbanding a working ...</td>\n",
       "      <td>What's the process for disbanding a working gr...</td>\n",
       "      <td>Once the Working Group has served it's intende...</td>\n",
       "      <td>The process for disbanding a working group inc...</td>\n",
       "      <td>conditional</td>\n",
       "      <td>True</td>\n",
       "      <td>False</td>\n",
       "    </tr>\n",
       "    <tr>\n",
       "      <th>38</th>\n",
       "      <td>What is GitLab's strategy to address competiti...</td>\n",
       "      <td>How does GitLab differ from GitHub in terms of...</td>\n",
       "      <td>- GitLab has a much broader scope compared to ...</td>\n",
       "      <td>GitLab differs from GitHub in terms of scope, ...</td>\n",
       "      <td>conditional</td>\n",
       "      <td>True</td>\n",
       "      <td>False</td>\n",
       "    </tr>\n",
       "    <tr>\n",
       "      <th>39</th>\n",
       "      <td>What are some reasons why managers struggle wi...</td>\n",
       "      <td>What are some reasons why managers struggle wi...</td>\n",
       "      <td>- Delegation only works when both the team mem...</td>\n",
       "      <td>Some reasons why managers struggle with delega...</td>\n",
       "      <td>simple</td>\n",
       "      <td>True</td>\n",
       "      <td>None</td>\n",
       "    </tr>\n",
       "    <tr>\n",
       "      <th>40</th>\n",
       "      <td>What is GitLab's mission?</td>\n",
       "      <td>What is GitLab's mission?</td>\n",
       "      <td>- It is GitLab's mission to make it so that ev...</td>\n",
       "      <td>GitLab's mission is to make it so that everyon...</td>\n",
       "      <td>simple</td>\n",
       "      <td>True</td>\n",
       "      <td>None</td>\n",
       "    </tr>\n",
       "    <tr>\n",
       "      <th>41</th>\n",
       "      <td>What is the purpose of a gap analysis in workf...</td>\n",
       "      <td>What is the purpose of a gap analysis in workf...</td>\n",
       "      <td>- A gap analysis is a review an assessment of ...</td>\n",
       "      <td>The purpose of a gap analysis in workforce pla...</td>\n",
       "      <td>simple</td>\n",
       "      <td>True</td>\n",
       "      <td>None</td>\n",
       "    </tr>\n",
       "    <tr>\n",
       "      <th>42</th>\n",
       "      <td>How can I add new key results in GitLab?</td>\n",
       "      <td>How do you add new key results to an objective...</td>\n",
       "      <td>- To add new key results in GitLab, follow the...</td>\n",
       "      <td>To add new key results to an objective in GitL...</td>\n",
       "      <td>multi_context</td>\n",
       "      <td>True</td>\n",
       "      <td>False</td>\n",
       "    </tr>\n",
       "    <tr>\n",
       "      <th>43</th>\n",
       "      <td>What is the maximum duration of time that a se...</td>\n",
       "      <td>What is the maximum duration of time that a se...</td>\n",
       "      <td>1. **Recovery Time Objective (RTO)**: maximum ...</td>\n",
       "      <td>The maximum duration of time that a service is...</td>\n",
       "      <td>simple</td>\n",
       "      <td>True</td>\n",
       "      <td>None</td>\n",
       "    </tr>\n",
       "    <tr>\n",
       "      <th>44</th>\n",
       "      <td>What is the purpose of a working group?</td>\n",
       "      <td>Who is involved in the approval process for a ...</td>\n",
       "      <td>- If the SEG is in the Development Department,...</td>\n",
       "      <td>The Chief Product Officer, CTO, and CEO are in...</td>\n",
       "      <td>multi_context</td>\n",
       "      <td>False</td>\n",
       "      <td>False</td>\n",
       "    </tr>\n",
       "    <tr>\n",
       "      <th>45</th>\n",
       "      <td>What are the core business entities for which ...</td>\n",
       "      <td>What are the core business entities for which ...</td>\n",
       "      <td>- Conformed dimensions allow facts and measure...</td>\n",
       "      <td>The core business entities for which conformed...</td>\n",
       "      <td>simple</td>\n",
       "      <td>True</td>\n",
       "      <td>None</td>\n",
       "    </tr>\n",
       "    <tr>\n",
       "      <th>46</th>\n",
       "      <td>What is the purpose of hosting a \"Lunch &amp; Learn\"?</td>\n",
       "      <td>In what ways can hosting a \"Lunch &amp; Learn\" ben...</td>\n",
       "      <td>- \"Lunch &amp; Learns\" can serve as an opportunity...</td>\n",
       "      <td>Hosting a \"Lunch &amp; Learn\" can benefit a remote...</td>\n",
       "      <td>conditional</td>\n",
       "      <td>True</td>\n",
       "      <td>False</td>\n",
       "    </tr>\n",
       "    <tr>\n",
       "      <th>47</th>\n",
       "      <td>What is the importance of asking open-ended qu...</td>\n",
       "      <td>How can managers encourage their direct report...</td>\n",
       "      <td>- The end of the meeting is a good time to ask...</td>\n",
       "      <td>Managers can encourage their direct reports to...</td>\n",
       "      <td>reasoning</td>\n",
       "      <td>False</td>\n",
       "      <td>False</td>\n",
       "    </tr>\n",
       "    <tr>\n",
       "      <th>48</th>\n",
       "      <td>What is a common criticism of Open Core?</td>\n",
       "      <td>How does the open core business model benefit ...</td>\n",
       "      <td>- We actively work to grow participation since...</td>\n",
       "      <td>The open core business model benefits the open...</td>\n",
       "      <td>multi_context</td>\n",
       "      <td>True</td>\n",
       "      <td>False</td>\n",
       "    </tr>\n",
       "    <tr>\n",
       "      <th>49</th>\n",
       "      <td>How can I add new objectives in GitLab?</td>\n",
       "      <td>How can I add new objectives in GitLab?</td>\n",
       "      <td>- To add new objectives in GitLab, follow the ...</td>\n",
       "      <td>To add new objectives in GitLab, follow these ...</td>\n",
       "      <td>simple</td>\n",
       "      <td>True</td>\n",
       "      <td>None</td>\n",
       "    </tr>\n",
       "  </tbody>\n",
       "</table>\n",
       "</div>"
      ],
      "text/plain": [
       "                                        seed_question  \\\n",
       "0   What are some strategies to build influence in...   \n",
       "1             What are the strategic goals of GitLab?   \n",
       "2   What functionality aligns with the reporter pe...   \n",
       "3   What are the different scopes for caching avai...   \n",
       "4   What is the purpose of the Quote-to-Cash process?   \n",
       "5   Who is responsible for running meetings in a w...   \n",
       "6   What are some suggested team building activiti...   \n",
       "7   What is the impact of elevating the caching le...   \n",
       "8   What should I review before compensation conve...   \n",
       "9   What is the objective of establishing a repeat...   \n",
       "10  What are the responsibilities of a SIRT Engine...   \n",
       "11                          What is GitLab's purpose?   \n",
       "12  What is the significance of sharding in databa...   \n",
       "13  What are the criteria for Objectives and Key R...   \n",
       "14    What are the principles of consumption pricing?   \n",
       "15  What does the acronym SMART stand for in relat...   \n",
       "16  What are some strategies to build influence in...   \n",
       "17  What are the characteristics of an Analytical ...   \n",
       "18  What are some reasons that managers may avoid ...   \n",
       "19  What is the role of a leader at GitLab in buil...   \n",
       "20    How do I add new objectives in GitLab for OKRs?   \n",
       "21    What is the purpose of giving regular feedback?   \n",
       "22  What are some reasons that managers may avoid ...   \n",
       "23  What is the preferred term for a collection of...   \n",
       "24  What are the requirements for log retention in...   \n",
       "25                          What is GitLab's purpose?   \n",
       "26  What questions might team members ask during a...   \n",
       "27  What is the importance of psychological safety...   \n",
       "28  What are the benefits of open source in GitLab...   \n",
       "29  What is the purpose of a Performance Improveme...   \n",
       "30  What is the significance of sharding in databa...   \n",
       "31            What is the role of a mentor at GitLab?   \n",
       "32  What is the purpose of coaching conversations ...   \n",
       "33  What is the difference between behavior and pe...   \n",
       "34  What is the purpose of the Job Frameworks at G...   \n",
       "35           What are some key attributes of a coach?   \n",
       "36       How did GitLab become an all-remote company?   \n",
       "37  What should be done when disbanding a working ...   \n",
       "38  What is GitLab's strategy to address competiti...   \n",
       "39  What are some reasons why managers struggle wi...   \n",
       "40                          What is GitLab's mission?   \n",
       "41  What is the purpose of a gap analysis in workf...   \n",
       "42           How can I add new key results in GitLab?   \n",
       "43  What is the maximum duration of time that a se...   \n",
       "44            What is the purpose of a working group?   \n",
       "45  What are the core business entities for which ...   \n",
       "46  What is the purpose of hosting a \"Lunch & Learn\"?   \n",
       "47  What is the importance of asking open-ended qu...   \n",
       "48           What is a common criticism of Open Core?   \n",
       "49            How can I add new objectives in GitLab?   \n",
       "\n",
       "                                             question  \\\n",
       "0   How can communication patterns be utilized to ...   \n",
       "1   What is GitLab's strategic goal to become the ...   \n",
       "2   Which GitLab permission allows for managing la...   \n",
       "3   What are the different caching scopes availabl...   \n",
       "4   What is the purpose of the Quote-to-Cash proce...   \n",
       "5   Who facilitates meetings and ensures operation...   \n",
       "6   What team building activities can be used to b...   \n",
       "7   What is the impact of implementing a per-proce...   \n",
       "8   What should I review before compensation conve...   \n",
       "9   What is the objective of establishing a repeat...   \n",
       "10  What are the responsibilities of a SIRT Engine...   \n",
       "11                     What is the purpose of GitLab?   \n",
       "12  What is a widely used methodology for database...   \n",
       "13  What are the criteria for Objectives and Key R...   \n",
       "14  What factors should be considered when choosin...   \n",
       "15  Can you explain what the acronym SMART stands ...   \n",
       "16  What strategies can be used to build workplace...   \n",
       "17  How does the Analytical style in the SOCIAL ST...   \n",
       "18  What are some reasons that managers may avoid ...   \n",
       "19  What is the role of a leader at GitLab in buil...   \n",
       "20    How do I add new objectives in GitLab for OKRs?   \n",
       "21  How does coaching at GitLab differ from giving...   \n",
       "22  What concerns do managers have about career de...   \n",
       "23  What is the preferred term for a collection of...   \n",
       "24  What are the specific requirements for log ret...   \n",
       "25                          What is GitLab's purpose?   \n",
       "26  What questions might team members ask during a...   \n",
       "27  What is the impact of psychological safety on ...   \n",
       "28  What benefits does GitLab's open source gain f...   \n",
       "29  What is the purpose of a Performance Improveme...   \n",
       "30  What does sharding do for database scalability...   \n",
       "31  What is the difference between a mentor and an...   \n",
       "32  What is the purpose of coaching conversations ...   \n",
       "33  How does understanding behavior and personalit...   \n",
       "34  What is the purpose of Job Frameworks at GitLa...   \n",
       "35           What are some key attributes of a coach?   \n",
       "36       How did GitLab become an all-remote company?   \n",
       "37  What's the process for disbanding a working gr...   \n",
       "38  How does GitLab differ from GitHub in terms of...   \n",
       "39  What are some reasons why managers struggle wi...   \n",
       "40                          What is GitLab's mission?   \n",
       "41  What is the purpose of a gap analysis in workf...   \n",
       "42  How do you add new key results to an objective...   \n",
       "43  What is the maximum duration of time that a se...   \n",
       "44  Who is involved in the approval process for a ...   \n",
       "45  What are the core business entities for which ...   \n",
       "46  In what ways can hosting a \"Lunch & Learn\" ben...   \n",
       "47  How can managers encourage their direct report...   \n",
       "48  How does the open core business model benefit ...   \n",
       "49            How can I add new objectives in GitLab?   \n",
       "\n",
       "                                              context  \\\n",
       "0   - \"During a crucial conversation, different pr...   \n",
       "1   - Along the road to realizing our mission of e...   \n",
       "2   The main functionality that some non-developer...   \n",
       "3   1. \"In order to reduce the database overhead, ...   \n",
       "4   - An efficient Quote-to-Cash system makes purc...   \n",
       "5   - A facilitator is responsible for running mee...   \n",
       "6   - \"It's great for building trust, getting to k...   \n",
       "7   - When we started to cache license information...   \n",
       "8   - Conversations with regards to compensation a...   \n",
       "9   - We aim to create a working group to establis...   \n",
       "10  - As a SIRT Engineer I know how to pull releva...   \n",
       "11  - GitLab’s purpose is to help people increase ...   \n",
       "12  - \"A popular database scalability methodology ...   \n",
       "13  - Objectives should be ambitious, meaningful, ...   \n",
       "14  - The advantages of consumption pricing includ...   \n",
       "15  - SMART goals allow both the manager and team ...   \n",
       "16  - \"If you're in a crucial conversation and a t...   \n",
       "17  Team members that may be classified as Analyti...   \n",
       "18  - These discussions should take place once a m...   \n",
       "19  - As a leader at GitLab, your role is to devel...   \n",
       "20  - \"To add new objectives in GitLab, follow the...   \n",
       "21  Coaching is about helping others help themselv...   \n",
       "22  - Career development conversations will take u...   \n",
       "23  - Cluster | A database cluster is a collection...   \n",
       "24  - As a SIRT Engineer, I can easily find, searc...   \n",
       "25  - GitLab’s purpose is to help people increase ...   \n",
       "26  - What you say are my top strengths or top ski...   \n",
       "27  - Psychological safety has primary importance ...   \n",
       "28  - \"We want to give people the option to both r...   \n",
       "29  - The goal of the PIP is to see results, that ...   \n",
       "30  One of the most widely used methodolgies to da...   \n",
       "31  - Expert means you have above average experien...   \n",
       "32  The GROW Model is a four-step method for holdi...   \n",
       "33  - \"As a Manager, you can be more effective in ...   \n",
       "34  - A dual career path is a career path that all...   \n",
       "35  - Coaching conversations are fluid, dynamic ac...   \n",
       "36  \"The first employee of the company was based i...   \n",
       "37  Once the Working Group has served it's intende...   \n",
       "38  - GitLab has a much broader scope compared to ...   \n",
       "39  - Delegation only works when both the team mem...   \n",
       "40  - It is GitLab's mission to make it so that ev...   \n",
       "41  - A gap analysis is a review an assessment of ...   \n",
       "42  - To add new key results in GitLab, follow the...   \n",
       "43  1. **Recovery Time Objective (RTO)**: maximum ...   \n",
       "44  - If the SEG is in the Development Department,...   \n",
       "45  - Conformed dimensions allow facts and measure...   \n",
       "46  - \"Lunch & Learns\" can serve as an opportunity...   \n",
       "47  - The end of the meeting is a good time to ask...   \n",
       "48  - We actively work to grow participation since...   \n",
       "49  - To add new objectives in GitLab, follow the ...   \n",
       "\n",
       "                                               answer  question_type  \\\n",
       "0   Communication patterns can be utilized to buil...    conditional   \n",
       "1   GitLab's strategic goal to become the leading ...      reasoning   \n",
       "2   The GitLab permission that allows for managing...      reasoning   \n",
       "3   The different caching scopes available for red...    conditional   \n",
       "4   The purpose of the Quote-to-Cash process is to...  multi_context   \n",
       "5   The facilitator is responsible for running mee...  multi_context   \n",
       "6   Some team building activities that can be used...  multi_context   \n",
       "7   The impact of implementing a per-process memor...      reasoning   \n",
       "8   Before compensation conversations at GitLab, y...         simple   \n",
       "9   The objective of establishing a repeatable pro...         simple   \n",
       "10  The responsibilities of a SIRT Engineer in the...  multi_context   \n",
       "11  The purpose of GitLab is to help people increa...      reasoning   \n",
       "12  The widely used methodology for database scala...      reasoning   \n",
       "13  The criteria for Objectives are that they shou...         simple   \n",
       "14  When choosing between consumption pricing and ...    conditional   \n",
       "15  The acronym SMART stands for Specific, Measura...    conditional   \n",
       "16  Some strategies that can be used to build work...    conditional   \n",
       "17  The Analytical style in the SOCIAL STYLES Mode...    conditional   \n",
       "18  Some reasons that managers may avoid career de...         simple   \n",
       "19  The role of a leader at GitLab in building hig...         simple   \n",
       "20  To add new objectives in GitLab for OKRs, foll...         simple   \n",
       "21  Coaching at GitLab differs from giving advice ...    conditional   \n",
       "22  Managers have concerns about career developmen...      reasoning   \n",
       "23  The preferred term for a collection of interco...         simple   \n",
       "24  The specific requirements for log retention in...  multi_context   \n",
       "25  GitLab's purpose is to help people increase th...         simple   \n",
       "26  Some questions team members might ask during a...         simple   \n",
       "27  The impact of psychological safety on team col...    conditional   \n",
       "28  The benefits that GitLab's open source gains f...      reasoning   \n",
       "29  The purpose of a Performance Improvement Plan ...      reasoning   \n",
       "30  Sharding helps improve database scalability by...    conditional   \n",
       "31  The difference between a mentor and an expert ...    conditional   \n",
       "32  The purpose of coaching conversations in the G...         simple   \n",
       "33  Understanding behavior and personality traits ...  multi_context   \n",
       "34  The purpose of Job Frameworks at GitLab is to ...  multi_context   \n",
       "35  Some key attributes of a coach include asking ...         simple   \n",
       "36  GitLab became an all-remote company because it...         simple   \n",
       "37  The process for disbanding a working group inc...    conditional   \n",
       "38  GitLab differs from GitHub in terms of scope, ...    conditional   \n",
       "39  Some reasons why managers struggle with delega...         simple   \n",
       "40  GitLab's mission is to make it so that everyon...         simple   \n",
       "41  The purpose of a gap analysis in workforce pla...         simple   \n",
       "42  To add new key results to an objective in GitL...  multi_context   \n",
       "43  The maximum duration of time that a service is...         simple   \n",
       "44  The Chief Product Officer, CTO, and CEO are in...  multi_context   \n",
       "45  The core business entities for which conformed...         simple   \n",
       "46  Hosting a \"Lunch & Learn\" can benefit a remote...    conditional   \n",
       "47  Managers can encourage their direct reports to...      reasoning   \n",
       "48  The open core business model benefits the open...  multi_context   \n",
       "49  To add new objectives in GitLab, follow these ...         simple   \n",
       "\n",
       "    episode_done evolution_elimination  \n",
       "0          False                 False  \n",
       "1           True                 False  \n",
       "2           True                 False  \n",
       "3          False                 False  \n",
       "4           True                 False  \n",
       "5           True                 False  \n",
       "6           True                  True  \n",
       "7           True                  True  \n",
       "8           True                  None  \n",
       "9           True                  None  \n",
       "10          True                 False  \n",
       "11         False                 False  \n",
       "12          True                 False  \n",
       "13          True                  None  \n",
       "14          True                 False  \n",
       "15         False                 False  \n",
       "16          True                 False  \n",
       "17          True                 False  \n",
       "18          True                  None  \n",
       "19          True                  None  \n",
       "20          True                  None  \n",
       "21          True                 False  \n",
       "22          True                 False  \n",
       "23          True                  None  \n",
       "24         False                  True  \n",
       "25          True                  None  \n",
       "26          True                  None  \n",
       "27          True                 False  \n",
       "28          True                 False  \n",
       "29         False                 False  \n",
       "30          True                 False  \n",
       "31          True                 False  \n",
       "32          True                  None  \n",
       "33          True                 False  \n",
       "34          True                 False  \n",
       "35          True                  None  \n",
       "36          True                  None  \n",
       "37          True                 False  \n",
       "38          True                 False  \n",
       "39          True                  None  \n",
       "40          True                  None  \n",
       "41          True                  None  \n",
       "42          True                 False  \n",
       "43          True                  None  \n",
       "44         False                 False  \n",
       "45          True                  None  \n",
       "46          True                 False  \n",
       "47         False                 False  \n",
       "48          True                 False  \n",
       "49          True                  None  "
      ]
     },
     "execution_count": 23,
     "metadata": {},
     "output_type": "execute_result"
    }
   ],
   "source": [
    "testset.to_pandas()"
   ]
  },
  {
   "cell_type": "code",
   "execution_count": 20,
   "id": "92931c57",
   "metadata": {},
   "outputs": [],
   "source": [
    "q1=\"How should I use my notification settings in Slack?\"\n",
    "q2=\"What's the best way to manage Slack notification settings for efficient communication and minimal disruptions?\"\n"
   ]
  },
  {
   "cell_type": "code",
   "execution_count": 21,
   "id": "1052549c",
   "metadata": {},
   "outputs": [],
   "source": [
    "prompt = EVOLUTION_ELIMINATION.prompt.template.format(question1=q1, question2=q2)"
   ]
  },
  {
   "cell_type": "code",
   "execution_count": 22,
   "id": "c6ad080b",
   "metadata": {},
   "outputs": [
    {
     "data": {
      "text/plain": [
       "<OpenAIObject chat.completion id=chatcmpl-8JFEQOhc3FPRQ6hhpviDo4mVdSD9G at 0x7f944a3f65c0> JSON: {\n",
       "  \"id\": \"chatcmpl-8JFEQOhc3FPRQ6hhpviDo4mVdSD9G\",\n",
       "  \"object\": \"chat.completion\",\n",
       "  \"created\": 1699597474,\n",
       "  \"model\": \"gpt-4-0613\",\n",
       "  \"choices\": [\n",
       "    {\n",
       "      \"index\": 0,\n",
       "      \"message\": {\n",
       "        \"role\": \"assistant\",\n",
       "        \"content\": \"{\\n  \\\"reason\\\": \\\"Both questions are asking about managing notification settings in Slack, but the second question adds additional requirements of efficient communication and minimal disruptions, which changes the depth of the inquiry.\\\",\\n  \\\"verdict\\\": \\\"Not Equal\\\"\\n}\"\n",
       "      },\n",
       "      \"finish_reason\": \"stop\"\n",
       "    }\n",
       "  ],\n",
       "  \"usage\": {\n",
       "    \"prompt_tokens\": 212,\n",
       "    \"completion_tokens\": 49,\n",
       "    \"total_tokens\": 261\n",
       "  }\n",
       "}"
      ]
     },
     "execution_count": 22,
     "metadata": {},
     "output_type": "execute_result"
    }
   ],
   "source": [
    "llm2(prompt)"
   ]
  },
  {
   "cell_type": "code",
   "execution_count": null,
   "id": "a0773b97",
   "metadata": {},
   "outputs": [],
   "source": []
  }
 ],
 "metadata": {
  "kernelspec": {
   "display_name": "ragas",
   "language": "python",
   "name": "ragas"
  },
  "language_info": {
   "codemirror_mode": {
    "name": "ipython",
    "version": 3
   },
   "file_extension": ".py",
   "mimetype": "text/x-python",
   "name": "python",
   "nbconvert_exporter": "python",
   "pygments_lexer": "ipython3",
   "version": "3.10.8"
  }
 },
 "nbformat": 4,
 "nbformat_minor": 5
}
